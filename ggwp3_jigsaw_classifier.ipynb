{
 "cells": [
  {
   "cell_type": "markdown",
   "metadata": {},
   "source": [
    "# Notebook 3 - Toxic Comment Classifier from Jigsaw Data\n",
    "The goal with this new dataset and classifier is to be able to classify the Dota in-game chat messages as toxic/not toxic. A hopeful addition is to identify what type of toxicity the in-game chat messages contain.\n",
    "\n",
    "Because the Dota dataset only contains the texts and player, it is difficult to create a model to identify toxicity with this dataset alone. This is why the Jigsaw dataset of Wikipedia comments is used. It provides pre-labeled online texts based on toxicity and what type of toxicity."
   ]
  },
  {
   "cell_type": "markdown",
   "metadata": {},
   "source": [
    "## Note on scoring models\n",
    "* The labels are very unbalanced. Accuracy should not be used because it will be dominated by the majority class. F-1 score should be used instead.\n",
    "* Despite this, accuracy was still used in this notebook due to the simple `LogisticRegression.score()` tool for a quick result. This still helps in determining which model could be better, but it does not portray how well the model does in general.\n",
    "* To better judge the final versions of the model, the results were submitted to the Kaggle competition this dataset was obtained from: https://www.kaggle.com/c/jigsaw-toxic-comment-classification-challenge/data."
   ]
  },
  {
   "cell_type": "code",
   "execution_count": 1,
   "metadata": {},
   "outputs": [],
   "source": [
    "import numpy as np\n",
    "import pandas as pd\n",
    "import matplotlib.pyplot as plt\n",
    "\n",
    "from sklearn.model_selection import train_test_split\n",
    "from sklearn.feature_extraction.text import TfidfVectorizer\n",
    "from sklearn.linear_model import LogisticRegression\n",
    "from sklearn.pipeline import make_union\n",
    "\n",
    "import warnings\n",
    "warnings.filterwarnings('ignore')"
   ]
  },
  {
   "cell_type": "code",
   "execution_count": 2,
   "metadata": {},
   "outputs": [
    {
     "data": {
      "text/html": [
       "<div>\n",
       "<style scoped>\n",
       "    .dataframe tbody tr th:only-of-type {\n",
       "        vertical-align: middle;\n",
       "    }\n",
       "\n",
       "    .dataframe tbody tr th {\n",
       "        vertical-align: top;\n",
       "    }\n",
       "\n",
       "    .dataframe thead th {\n",
       "        text-align: right;\n",
       "    }\n",
       "</style>\n",
       "<table border=\"1\" class=\"dataframe\">\n",
       "  <thead>\n",
       "    <tr style=\"text-align: right;\">\n",
       "      <th></th>\n",
       "      <th>id</th>\n",
       "      <th>comment_text</th>\n",
       "      <th>toxic</th>\n",
       "      <th>severe_toxic</th>\n",
       "      <th>obscene</th>\n",
       "      <th>threat</th>\n",
       "      <th>insult</th>\n",
       "      <th>identity_hate</th>\n",
       "    </tr>\n",
       "  </thead>\n",
       "  <tbody>\n",
       "    <tr>\n",
       "      <th>0</th>\n",
       "      <td>0000997932d777bf</td>\n",
       "      <td>Explanation Why the edits made under my userna...</td>\n",
       "      <td>0</td>\n",
       "      <td>0</td>\n",
       "      <td>0</td>\n",
       "      <td>0</td>\n",
       "      <td>0</td>\n",
       "      <td>0</td>\n",
       "    </tr>\n",
       "    <tr>\n",
       "      <th>1</th>\n",
       "      <td>000103f0d9cfb60f</td>\n",
       "      <td>D'aww! He matches this background colour I'm s...</td>\n",
       "      <td>0</td>\n",
       "      <td>0</td>\n",
       "      <td>0</td>\n",
       "      <td>0</td>\n",
       "      <td>0</td>\n",
       "      <td>0</td>\n",
       "    </tr>\n",
       "    <tr>\n",
       "      <th>2</th>\n",
       "      <td>000113f07ec002fd</td>\n",
       "      <td>Hey man, I'm really not trying to edit war. It...</td>\n",
       "      <td>0</td>\n",
       "      <td>0</td>\n",
       "      <td>0</td>\n",
       "      <td>0</td>\n",
       "      <td>0</td>\n",
       "      <td>0</td>\n",
       "    </tr>\n",
       "    <tr>\n",
       "      <th>3</th>\n",
       "      <td>0001b41b1c6bb37e</td>\n",
       "      <td>\" More I can't make any real suggestions on im...</td>\n",
       "      <td>0</td>\n",
       "      <td>0</td>\n",
       "      <td>0</td>\n",
       "      <td>0</td>\n",
       "      <td>0</td>\n",
       "      <td>0</td>\n",
       "    </tr>\n",
       "    <tr>\n",
       "      <th>4</th>\n",
       "      <td>0001d958c54c6e35</td>\n",
       "      <td>You, sir, are my hero. Any chance you remember...</td>\n",
       "      <td>0</td>\n",
       "      <td>0</td>\n",
       "      <td>0</td>\n",
       "      <td>0</td>\n",
       "      <td>0</td>\n",
       "      <td>0</td>\n",
       "    </tr>\n",
       "  </tbody>\n",
       "</table>\n",
       "</div>"
      ],
      "text/plain": [
       "                 id                                       comment_text  toxic  \\\n",
       "0  0000997932d777bf  Explanation Why the edits made under my userna...      0   \n",
       "1  000103f0d9cfb60f  D'aww! He matches this background colour I'm s...      0   \n",
       "2  000113f07ec002fd  Hey man, I'm really not trying to edit war. It...      0   \n",
       "3  0001b41b1c6bb37e  \" More I can't make any real suggestions on im...      0   \n",
       "4  0001d958c54c6e35  You, sir, are my hero. Any chance you remember...      0   \n",
       "\n",
       "   severe_toxic  obscene  threat  insult  identity_hate  \n",
       "0             0        0       0       0              0  \n",
       "1             0        0       0       0              0  \n",
       "2             0        0       0       0              0  \n",
       "3             0        0       0       0              0  \n",
       "4             0        0       0       0              0  "
      ]
     },
     "execution_count": 2,
     "metadata": {},
     "output_type": "execute_result"
    }
   ],
   "source": [
    "comments = pd.read_csv(\"jigsaw_train.csv\")\n",
    "comments['comment_text'] = comments['comment_text'].str.replace(\"\\n\", \" \")\n",
    "\n",
    "test = pd.read_csv('jigsaw_test.csv')\n",
    "\n",
    "comments.head()"
   ]
  },
  {
   "cell_type": "markdown",
   "metadata": {},
   "source": [
    "# Exploratory Data Analysis"
   ]
  },
  {
   "cell_type": "code",
   "execution_count": 3,
   "metadata": {},
   "outputs": [
    {
     "data": {
      "text/plain": [
       "(159571, 8)"
      ]
     },
     "execution_count": 3,
     "metadata": {},
     "output_type": "execute_result"
    }
   ],
   "source": [
    "comments.shape"
   ]
  },
  {
   "cell_type": "code",
   "execution_count": 4,
   "metadata": {},
   "outputs": [
    {
     "data": {
      "text/html": [
       "<div>\n",
       "<style scoped>\n",
       "    .dataframe tbody tr th:only-of-type {\n",
       "        vertical-align: middle;\n",
       "    }\n",
       "\n",
       "    .dataframe tbody tr th {\n",
       "        vertical-align: top;\n",
       "    }\n",
       "\n",
       "    .dataframe thead th {\n",
       "        text-align: right;\n",
       "    }\n",
       "</style>\n",
       "<table border=\"1\" class=\"dataframe\">\n",
       "  <thead>\n",
       "    <tr style=\"text-align: right;\">\n",
       "      <th></th>\n",
       "      <th>toxic</th>\n",
       "      <th>severe_toxic</th>\n",
       "      <th>obscene</th>\n",
       "      <th>threat</th>\n",
       "      <th>insult</th>\n",
       "      <th>identity_hate</th>\n",
       "    </tr>\n",
       "  </thead>\n",
       "  <tbody>\n",
       "    <tr>\n",
       "      <th>count</th>\n",
       "      <td>159571.000000</td>\n",
       "      <td>159571.000000</td>\n",
       "      <td>159571.000000</td>\n",
       "      <td>159571.000000</td>\n",
       "      <td>159571.000000</td>\n",
       "      <td>159571.000000</td>\n",
       "    </tr>\n",
       "    <tr>\n",
       "      <th>mean</th>\n",
       "      <td>0.095844</td>\n",
       "      <td>0.009996</td>\n",
       "      <td>0.052948</td>\n",
       "      <td>0.002996</td>\n",
       "      <td>0.049364</td>\n",
       "      <td>0.008805</td>\n",
       "    </tr>\n",
       "    <tr>\n",
       "      <th>std</th>\n",
       "      <td>0.294379</td>\n",
       "      <td>0.099477</td>\n",
       "      <td>0.223931</td>\n",
       "      <td>0.054650</td>\n",
       "      <td>0.216627</td>\n",
       "      <td>0.093420</td>\n",
       "    </tr>\n",
       "    <tr>\n",
       "      <th>min</th>\n",
       "      <td>0.000000</td>\n",
       "      <td>0.000000</td>\n",
       "      <td>0.000000</td>\n",
       "      <td>0.000000</td>\n",
       "      <td>0.000000</td>\n",
       "      <td>0.000000</td>\n",
       "    </tr>\n",
       "    <tr>\n",
       "      <th>25%</th>\n",
       "      <td>0.000000</td>\n",
       "      <td>0.000000</td>\n",
       "      <td>0.000000</td>\n",
       "      <td>0.000000</td>\n",
       "      <td>0.000000</td>\n",
       "      <td>0.000000</td>\n",
       "    </tr>\n",
       "    <tr>\n",
       "      <th>50%</th>\n",
       "      <td>0.000000</td>\n",
       "      <td>0.000000</td>\n",
       "      <td>0.000000</td>\n",
       "      <td>0.000000</td>\n",
       "      <td>0.000000</td>\n",
       "      <td>0.000000</td>\n",
       "    </tr>\n",
       "    <tr>\n",
       "      <th>75%</th>\n",
       "      <td>0.000000</td>\n",
       "      <td>0.000000</td>\n",
       "      <td>0.000000</td>\n",
       "      <td>0.000000</td>\n",
       "      <td>0.000000</td>\n",
       "      <td>0.000000</td>\n",
       "    </tr>\n",
       "    <tr>\n",
       "      <th>max</th>\n",
       "      <td>1.000000</td>\n",
       "      <td>1.000000</td>\n",
       "      <td>1.000000</td>\n",
       "      <td>1.000000</td>\n",
       "      <td>1.000000</td>\n",
       "      <td>1.000000</td>\n",
       "    </tr>\n",
       "  </tbody>\n",
       "</table>\n",
       "</div>"
      ],
      "text/plain": [
       "               toxic   severe_toxic        obscene         threat  \\\n",
       "count  159571.000000  159571.000000  159571.000000  159571.000000   \n",
       "mean        0.095844       0.009996       0.052948       0.002996   \n",
       "std         0.294379       0.099477       0.223931       0.054650   \n",
       "min         0.000000       0.000000       0.000000       0.000000   \n",
       "25%         0.000000       0.000000       0.000000       0.000000   \n",
       "50%         0.000000       0.000000       0.000000       0.000000   \n",
       "75%         0.000000       0.000000       0.000000       0.000000   \n",
       "max         1.000000       1.000000       1.000000       1.000000   \n",
       "\n",
       "              insult  identity_hate  \n",
       "count  159571.000000  159571.000000  \n",
       "mean        0.049364       0.008805  \n",
       "std         0.216627       0.093420  \n",
       "min         0.000000       0.000000  \n",
       "25%         0.000000       0.000000  \n",
       "50%         0.000000       0.000000  \n",
       "75%         0.000000       0.000000  \n",
       "max         1.000000       1.000000  "
      ]
     },
     "execution_count": 4,
     "metadata": {},
     "output_type": "execute_result"
    }
   ],
   "source": [
    "comments.describe()"
   ]
  },
  {
   "cell_type": "code",
   "execution_count": 5,
   "metadata": {},
   "outputs": [
    {
     "name": "stdout",
     "output_type": "stream",
     "text": [
      "Num NA in id: 0\n",
      "Num NA in comment_text: 0\n",
      "Num NA in toxic: 0\n",
      "Num NA in severe_toxic: 0\n",
      "Num NA in obscene: 0\n",
      "Num NA in threat: 0\n",
      "Num NA in insult: 0\n",
      "Num NA in identity_hate: 0\n"
     ]
    }
   ],
   "source": [
    "for col in comments.columns:\n",
    "    print(\"Num NA in {}: {}\".format(col, sum(comments[col].isna())))"
   ]
  },
  {
   "cell_type": "markdown",
   "metadata": {},
   "source": [
    "### Observing Labels"
   ]
  },
  {
   "cell_type": "code",
   "execution_count": 6,
   "metadata": {},
   "outputs": [
    {
     "name": "stdout",
     "output_type": "stream",
     "text": [
      "toxic\n",
      "0    144277\n",
      "1     15294\n",
      "dtype: int64 \n",
      "\n",
      "severe_toxic\n",
      "0    157976\n",
      "1      1595\n",
      "dtype: int64 \n",
      "\n",
      "obscene\n",
      "0    151122\n",
      "1      8449\n",
      "dtype: int64 \n",
      "\n",
      "threat\n",
      "0    159093\n",
      "1       478\n",
      "dtype: int64 \n",
      "\n",
      "insult\n",
      "0    151694\n",
      "1      7877\n",
      "dtype: int64 \n",
      "\n",
      "identity_hate\n",
      "0    158166\n",
      "1      1405\n",
      "dtype: int64 \n",
      "\n"
     ]
    }
   ],
   "source": [
    "label = []\n",
    "for col in comments.columns[2:]:\n",
    "    print(comments.groupby(col).size(), \"\\n\")\n",
    "    label.append(comments.groupby(col).size().values[1])"
   ]
  },
  {
   "cell_type": "code",
   "execution_count": 7,
   "metadata": {},
   "outputs": [
    {
     "name": "stdout",
     "output_type": "stream",
     "text": [
      "143346 comments are not classified as any label.\n"
     ]
    }
   ],
   "source": [
    "label_sums = comments.iloc[:,2:].sum(axis=1)\n",
    "print(\"{} comments are not classified as any label.\".format(len(label_sums[label_sums == 0])))"
   ]
  },
  {
   "cell_type": "code",
   "execution_count": 8,
   "metadata": {},
   "outputs": [
    {
     "data": {
      "image/png": "[encoded data removed]",
      "text/plain": [
       "<Figure size 576x288 with 1 Axes>"
      ]
     },
     "metadata": {
      "needs_background": "light"
     },
     "output_type": "display_data"
    }
   ],
   "source": [
    "plt.figure(figsize=(8,4))\n",
    "plt.bar(comments.columns[2:], label)\n",
    "plt.xlabel(\"label\")\n",
    "plt.ylabel(\"count\")\n",
    "plt.title(\"Distribution of Labels\");"
   ]
  },
  {
   "cell_type": "code",
   "execution_count": 9,
   "metadata": {},
   "outputs": [
    {
     "name": "stdout",
     "output_type": "stream",
     "text": [
      "9.58% of comments are toxic in the entire dataset.\n"
     ]
    }
   ],
   "source": [
    "print(\"{}% of comments are toxic in the entire dataset.\".format(round(15294/159571 * 100, 2)))"
   ]
  },
  {
   "cell_type": "code",
   "execution_count": 10,
   "metadata": {},
   "outputs": [
    {
     "data": {
      "text/plain": [
       "toxic\n",
       "0    1051\n",
       "1     111\n",
       "dtype: int64"
      ]
     },
     "execution_count": 10,
     "metadata": {},
     "output_type": "execute_result"
    }
   ],
   "source": [
    "comments[comments['comment_text'].str.contains('@')].groupby('toxic').size()"
   ]
  },
  {
   "cell_type": "code",
   "execution_count": 11,
   "metadata": {},
   "outputs": [
    {
     "name": "stdout",
     "output_type": "stream",
     "text": [
      "9865 comments are labeled as more than one type of toxicity.\n"
     ]
    }
   ],
   "source": [
    "tmp = comments.iloc[:,2:].T\n",
    "multi_label = 0\n",
    "for col in tmp.columns:\n",
    "    if sum(tmp[col].values) > 1:\n",
    "        multi_label += 1\n",
    "        \n",
    "print(\"{} comments are labeled as more than one type of toxicity.\".format(multi_label))"
   ]
  },
  {
   "cell_type": "code",
   "execution_count": 12,
   "metadata": {},
   "outputs": [
    {
     "data": {
      "text/plain": [
       "{0: 143346, 1: 6360, 2: 3480, 3: 4209, 4: 1760, 5: 385, 6: 31}"
      ]
     },
     "execution_count": 12,
     "metadata": {},
     "output_type": "execute_result"
    }
   ],
   "source": [
    "# getting counts of comments that have a certain number of of the 6 total labels\n",
    "label_counts = {}\n",
    "for i in range(7):\n",
    "    label_counts[i] = 0\n",
    "    \n",
    "for col in tmp.columns:\n",
    "    num_labels = sum(tmp[col].values)\n",
    "    label_counts[num_labels] += 1\n",
    "    \n",
    "label_counts"
   ]
  },
  {
   "cell_type": "code",
   "execution_count": 13,
   "metadata": {},
   "outputs": [
    {
     "data": {
      "image/png": "[encoded data removed]",
      "text/plain": [
       "<Figure size 432x288 with 1 Axes>"
      ]
     },
     "metadata": {
      "needs_background": "light"
     },
     "output_type": "display_data"
    }
   ],
   "source": [
    "plt.bar(label_counts.keys(), label_counts.values())\n",
    "plt.xlabel('Number of labels')\n",
    "plt.ylabel('count')\n",
    "plt.title('Number of Labels per Comment');"
   ]
  },
  {
   "cell_type": "markdown",
   "metadata": {},
   "source": [
    "### Frequency of words within the entire dataset (WordCloud)"
   ]
  },
  {
   "cell_type": "code",
   "execution_count": 14,
   "metadata": {},
   "outputs": [
    {
     "data": {
      "image/png": "[encoded data removed]",
      "text/plain": [
       "<Figure size 432x288 with 1 Axes>"
      ]
     },
     "metadata": {
      "needs_background": "light"
     },
     "output_type": "display_data"
    }
   ],
   "source": [
    "from wordcloud import WordCloud, STOPWORDS, ImageColorGenerator\n",
    "\n",
    "text = \"\"\n",
    "for i in range(len(comments['comment_text'].values)):\n",
    "    text += comments['comment_text'].values[i]\n",
    "wordcloud = WordCloud().generate(text)\n",
    "\n",
    "plt.title(\"Frequency of Words According to Size - Entire Dataset\")\n",
    "plt.imshow(wordcloud, interpolation='bilinear')\n",
    "plt.axis(\"off\")\n",
    "plt.show()"
   ]
  },
  {
   "cell_type": "code",
   "execution_count": 15,
   "metadata": {},
   "outputs": [
    {
     "data": {
      "text/plain": [
       "{'article': 49530,\n",
       " 'one': 21916,\n",
       " 'think': 17870,\n",
       " 'page': 16720,\n",
       " 'Wikipedia': 16474,\n",
       " 'know': 16443,\n",
       " 'see': 15798,\n",
       " 'will': 15604,\n",
       " 'talk page': 15517,\n",
       " 'edit': 15141}"
      ]
     },
     "execution_count": 15,
     "metadata": {},
     "output_type": "execute_result"
    }
   ],
   "source": [
    "from collections import Counter\n",
    "\n",
    "text = \"\"\n",
    "for i in range(len(comments['comment_text'].values)):\n",
    "    text += comments['comment_text'].values[i]\n",
    "\n",
    "freqs = WordCloud().process_text(text)\n",
    "dict(Counter(freqs).most_common(10))"
   ]
  },
  {
   "cell_type": "markdown",
   "metadata": {},
   "source": [
    "### Frequency of words per label (WordCloud)"
   ]
  },
  {
   "cell_type": "code",
   "execution_count": 16,
   "metadata": {},
   "outputs": [
    {
     "name": "stdout",
     "output_type": "stream",
     "text": [
      "Frequency of Words According to Size - toxic\n"
     ]
    },
    {
     "data": {
      "image/png": "[encoded data removed]",
      "text/plain": [
       "<Figure size 432x288 with 1 Axes>"
      ]
     },
     "metadata": {
      "needs_background": "light"
     },
     "output_type": "display_data"
    },
    {
     "name": "stdout",
     "output_type": "stream",
     "text": [
      "{'fuck': 3440, 'know': 2094, 'NIGGER NIGGER': 2011, 'article': 1798, 'people': 1731, 'will': 1568, 'moron hi': 1475, 'page': 1470, 'hi moron': 1468, 'one': 1427} \n",
      "\n",
      "\n",
      "Frequency of Words According to Size - severe_toxic\n"
     ]
    },
    {
     "data": {
      "image/png": "[encoded data removed]",
      "text/plain": [
       "<Figure size 432x288 with 1 Axes>"
      ]
     },
     "metadata": {
      "needs_background": "light"
     },
     "output_type": "display_data"
    },
    {
     "name": "stdout",
     "output_type": "stream",
     "text": [
      "{'fuck': 1374, 'SHIT SHIT': 999, 'Go fuck': 913, 'faggot faggot': 712, 'ass ass': 677, 'DIE DIE': 632, 'fucksex fucksex': 623, 'fuck yourselfgo': 621, 'yourselfgo fuck': 619, 'asshole': 513} \n",
      "\n",
      "\n",
      "Frequency of Words According to Size - obscene\n"
     ]
    },
    {
     "data": {
      "image/png": "[encoded data removed]",
      "text/plain": [
       "<Figure size 432x288 with 1 Axes>"
      ]
     },
     "metadata": {
      "needs_background": "light"
     },
     "output_type": "display_data"
    },
    {
     "name": "stdout",
     "output_type": "stream",
     "text": [
      "{'fuck': 2927, 'NIGGER NIGGER': 2010, 'fucking': 1199, 'SHIT SHIT': 1143, 'know': 1135, 'Go fuck': 1101, 'article': 861, 'BULLSHIT Bullshit': 829, 'asshole': 826, 'page': 784} \n",
      "\n",
      "\n",
      "Frequency of Words According to Size - threat\n"
     ]
    },
    {
     "data": {
      "image/png": "[encoded data removed]",
      "text/plain": [
       "<Figure size 432x288 with 1 Axes>"
      ]
     },
     "metadata": {
      "needs_background": "light"
     },
     "output_type": "display_data"
    },
    {
     "name": "stdout",
     "output_type": "stream",
     "text": [
      "{'ass ass': 677, 'DIE DIE': 637, 'KILL': 306, 'going': 281, 'MUST DIE': 159, 'JIM WALES': 157, 'WALES MUST': 156, 'DIE JIM': 156, 'WILL BLOCK': 149, 'fucking': 137} \n",
      "\n",
      "\n",
      "Frequency of Words According to Size - insult\n"
     ]
    },
    {
     "data": {
      "image/png": "[encoded data removed]",
      "text/plain": [
       "<Figure size 432x288 with 1 Axes>"
      ]
     },
     "metadata": {
      "needs_background": "light"
     },
     "output_type": "display_data"
    },
    {
     "name": "stdout",
     "output_type": "stream",
     "text": [
      "{'fuck': 2085, 'NIGGER NIGGER': 1705, 'moron hi': 1273, 'hi moron': 1266, 'JEW FAT': 1232, 'FAT JEW': 1226, 'know': 1122, 'Go fuck': 1073, 'HATE': 1011, 'fucking': 948} \n",
      "\n",
      "\n",
      "Frequency of Words According to Size - identity_hate\n"
     ]
    },
    {
     "data": {
      "image/png": "[encoded data removed]",
      "text/plain": [
       "<Figure size 432x288 with 1 Axes>"
      ]
     },
     "metadata": {
      "needs_background": "light"
     },
     "output_type": "display_data"
    },
    {
     "name": "stdout",
     "output_type": "stream",
     "text": [
      "{'NIGGER NIGGER': 1896, 'JEW FAT': 1232, 'FAT JEW': 1225, 'DIE DIE': 634, 'HUGE FAGGOT': 416, 'FAGGOT HUGE': 416, 'SUCK MEXICANS': 355, 'MEXICANS SUCK': 355, 'fuck nigga': 336, 'niggas fuck': 332} \n",
      "\n",
      "\n"
     ]
    }
   ],
   "source": [
    "for col in comments.columns[2:]:\n",
    "    text = \"\"\n",
    "    for i in range(len(comments[comments[col]==1]['comment_text'].values)):\n",
    "        text += comments[comments[col]==1]['comment_text'].values[i]\n",
    "    wordcloud = WordCloud().generate(text)\n",
    "    \n",
    "    print(\"Frequency of Words According to Size -\", col)\n",
    "    plt.imshow(wordcloud, interpolation='bilinear')\n",
    "    plt.axis(\"off\")\n",
    "    plt.show()\n",
    "    \n",
    "    freqs = WordCloud().process_text(text)\n",
    "    print(dict(Counter(freqs).most_common(10)), \"\\n\\n\")"
   ]
  },
  {
   "cell_type": "markdown",
   "metadata": {},
   "source": [
    "Why are some racial slurs repeated as bigrams? Why are some bigrams reversed? The subset below shows that they were spammed."
   ]
  },
  {
   "cell_type": "code",
   "execution_count": 17,
   "metadata": {},
   "outputs": [
    {
     "data": {
      "text/html": [
       "<div>\n",
       "<style scoped>\n",
       "    .dataframe tbody tr th:only-of-type {\n",
       "        vertical-align: middle;\n",
       "    }\n",
       "\n",
       "    .dataframe tbody tr th {\n",
       "        vertical-align: top;\n",
       "    }\n",
       "\n",
       "    .dataframe thead th {\n",
       "        text-align: right;\n",
       "    }\n",
       "</style>\n",
       "<table border=\"1\" class=\"dataframe\">\n",
       "  <thead>\n",
       "    <tr style=\"text-align: right;\">\n",
       "      <th></th>\n",
       "      <th>id</th>\n",
       "      <th>comment_text</th>\n",
       "      <th>toxic</th>\n",
       "      <th>severe_toxic</th>\n",
       "      <th>obscene</th>\n",
       "      <th>threat</th>\n",
       "      <th>insult</th>\n",
       "      <th>identity_hate</th>\n",
       "    </tr>\n",
       "  </thead>\n",
       "  <tbody>\n",
       "    <tr>\n",
       "      <th>13352</th>\n",
       "      <td>2347a52d875dece2</td>\n",
       "      <td>NIGGER NIGGER NIGGER NIGGER NIGGER NIGGER NIGG...</td>\n",
       "      <td>1</td>\n",
       "      <td>0</td>\n",
       "      <td>1</td>\n",
       "      <td>0</td>\n",
       "      <td>1</td>\n",
       "      <td>1</td>\n",
       "    </tr>\n",
       "    <tr>\n",
       "      <th>15409</th>\n",
       "      <td>28b59eb138ae6e1f</td>\n",
       "      <td>NIGGER NIGGER NIGGER NIGGER NIGGER NIGGER NIGG...</td>\n",
       "      <td>1</td>\n",
       "      <td>0</td>\n",
       "      <td>1</td>\n",
       "      <td>0</td>\n",
       "      <td>0</td>\n",
       "      <td>1</td>\n",
       "    </tr>\n",
       "    <tr>\n",
       "      <th>41888</th>\n",
       "      <td>6fc049a35193e216</td>\n",
       "      <td>NIGGER NIGGER NIGGER NIGGER NIGGER NIGGER NIGG...</td>\n",
       "      <td>1</td>\n",
       "      <td>1</td>\n",
       "      <td>1</td>\n",
       "      <td>0</td>\n",
       "      <td>1</td>\n",
       "      <td>1</td>\n",
       "    </tr>\n",
       "    <tr>\n",
       "      <th>77202</th>\n",
       "      <td>cec85028506a5417</td>\n",
       "      <td>NIGGER NIGGER NIGGER NIGGER NIGGER NIGGER NIGG...</td>\n",
       "      <td>1</td>\n",
       "      <td>0</td>\n",
       "      <td>1</td>\n",
       "      <td>0</td>\n",
       "      <td>1</td>\n",
       "      <td>1</td>\n",
       "    </tr>\n",
       "    <tr>\n",
       "      <th>86940</th>\n",
       "      <td>e8876597276c3b32</td>\n",
       "      <td>YOU LIKE COCK 8==========D - - - - -   NIGGER ...</td>\n",
       "      <td>1</td>\n",
       "      <td>0</td>\n",
       "      <td>1</td>\n",
       "      <td>0</td>\n",
       "      <td>1</td>\n",
       "      <td>0</td>\n",
       "    </tr>\n",
       "  </tbody>\n",
       "</table>\n",
       "</div>"
      ],
      "text/plain": [
       "                     id                                       comment_text  \\\n",
       "13352  2347a52d875dece2  NIGGER NIGGER NIGGER NIGGER NIGGER NIGGER NIGG...   \n",
       "15409  28b59eb138ae6e1f  NIGGER NIGGER NIGGER NIGGER NIGGER NIGGER NIGG...   \n",
       "41888  6fc049a35193e216  NIGGER NIGGER NIGGER NIGGER NIGGER NIGGER NIGG...   \n",
       "77202  cec85028506a5417  NIGGER NIGGER NIGGER NIGGER NIGGER NIGGER NIGG...   \n",
       "86940  e8876597276c3b32  YOU LIKE COCK 8==========D - - - - -   NIGGER ...   \n",
       "\n",
       "       toxic  severe_toxic  obscene  threat  insult  identity_hate  \n",
       "13352      1             0        1       0       1              1  \n",
       "15409      1             0        1       0       0              1  \n",
       "41888      1             1        1       0       1              1  \n",
       "77202      1             0        1       0       1              1  \n",
       "86940      1             0        1       0       1              0  "
      ]
     },
     "execution_count": 17,
     "metadata": {},
     "output_type": "execute_result"
    }
   ],
   "source": [
    "comments[comments['comment_text'].str.contains('NIGGER NIGGER')]"
   ]
  },
  {
   "cell_type": "markdown",
   "metadata": {},
   "source": [
    "_____"
   ]
  },
  {
   "cell_type": "markdown",
   "metadata": {},
   "source": [
    "# Model 1 - Logistic Regression with only Tfidf (analyzer='word')"
   ]
  },
  {
   "cell_type": "code",
   "execution_count": 18,
   "metadata": {},
   "outputs": [],
   "source": [
    "# Train-test split\n",
    "X_train, X_test, Y_train, Y_test = train_test_split(comments[['comment_text']], comments.iloc[:,2:], random_state=42)"
   ]
  },
  {
   "cell_type": "markdown",
   "metadata": {},
   "source": [
    "### Train"
   ]
  },
  {
   "cell_type": "markdown",
   "metadata": {},
   "source": [
    "Applying the model on one label before applying it to all of the labels."
   ]
  },
  {
   "cell_type": "code",
   "execution_count": 19,
   "metadata": {},
   "outputs": [
    {
     "data": {
      "text/html": [
       "<div>\n",
       "<style scoped>\n",
       "    .dataframe tbody tr th:only-of-type {\n",
       "        vertical-align: middle;\n",
       "    }\n",
       "\n",
       "    .dataframe tbody tr th {\n",
       "        vertical-align: top;\n",
       "    }\n",
       "\n",
       "    .dataframe thead th {\n",
       "        text-align: right;\n",
       "    }\n",
       "</style>\n",
       "<table border=\"1\" class=\"dataframe\">\n",
       "  <thead>\n",
       "    <tr style=\"text-align: right;\">\n",
       "      <th></th>\n",
       "      <th>comment_text</th>\n",
       "    </tr>\n",
       "  </thead>\n",
       "  <tbody>\n",
       "    <tr>\n",
       "      <th>75144</th>\n",
       "      <td>I have added the newline sign back in you ca...</td>\n",
       "    </tr>\n",
       "    <tr>\n",
       "      <th>154769</th>\n",
       "      <td>Dont worry I think I fixed it But still looks ...</td>\n",
       "    </tr>\n",
       "    <tr>\n",
       "      <th>48346</th>\n",
       "      <td>Well it seems to me that you have a problem w...</td>\n",
       "    </tr>\n",
       "    <tr>\n",
       "      <th>72576</th>\n",
       "      <td>Contents The contents box just appears when th...</td>\n",
       "    </tr>\n",
       "    <tr>\n",
       "      <th>79974</th>\n",
       "      <td>Btw did you know the article links to a sit...</td>\n",
       "    </tr>\n",
       "  </tbody>\n",
       "</table>\n",
       "</div>"
      ],
      "text/plain": [
       "                                             comment_text\n",
       "75144     I have added the newline sign back in you ca...\n",
       "154769  Dont worry I think I fixed it But still looks ...\n",
       "48346    Well it seems to me that you have a problem w...\n",
       "72576   Contents The contents box just appears when th...\n",
       "79974      Btw did you know the article links to a sit..."
      ]
     },
     "execution_count": 19,
     "metadata": {},
     "output_type": "execute_result"
    }
   ],
   "source": [
    "X_train['comment_text'] = X_train['comment_text'].str.replace(r\"[(\\.),(\\|)!:='&(\\\")]\", \"\")\n",
    "X_train.head()"
   ]
  },
  {
   "cell_type": "code",
   "execution_count": 20,
   "metadata": {},
   "outputs": [
    {
     "name": "stdout",
     "output_type": "stream",
     "text": [
      "Training Accuracy:  0.9593241865672889\n"
     ]
    }
   ],
   "source": [
    "# Applying Tfidf\n",
    "vectorizer = TfidfVectorizer(max_features=10000, lowercase=True, analyzer='word', \n",
    "                             stop_words= 'english', ngram_range=(1,3), dtype=np.float32)\n",
    "vectored_X_train = vectorizer.fit_transform(X_train['comment_text'])\n",
    "\n",
    "# Using a logistic regression classifier\n",
    "lr = LogisticRegression(random_state=42, solver='lbfgs').fit(vectored_X_train, Y_train.iloc[:,0])\n",
    "\n",
    "training_accuracy = lr.score(vectored_X_train, Y_train.iloc[:,0])\n",
    "print(\"Training Accuracy: \", training_accuracy)"
   ]
  },
  {
   "cell_type": "code",
   "execution_count": 21,
   "metadata": {},
   "outputs": [
    {
     "name": "stdout",
     "output_type": "stream",
     "text": [
      "Training Accuracy for label toxic:  0.9593241865672889\n",
      "Training Accuracy for label severe_toxic:  0.9907585354033323\n",
      "Training Accuracy for label obscene:  0.9795868914921707\n",
      "Training Accuracy for label threat:  0.9970671301325222\n",
      "Training Accuracy for label insult:  0.9731362489346412\n",
      "Training Accuracy for label identity_hate:  0.9924547535887966\n"
     ]
    }
   ],
   "source": [
    "# applying the model to all labels: toxic, severe_toxic, obscene, threat, insult, identity_hate\n",
    "labels = list(Y_train.columns)\n",
    "for i in range(len(labels)):\n",
    "    lr = LogisticRegression(random_state=42, solver='lbfgs').fit(vectored_X_train, Y_train.iloc[:,i])\n",
    "    training_accuracy = lr.score(vectored_X_train, Y_train.iloc[:,i])\n",
    "    print(\"Training Accuracy for label {}: \".format(labels[i]), training_accuracy)"
   ]
  },
  {
   "cell_type": "markdown",
   "metadata": {},
   "source": [
    "### Test"
   ]
  },
  {
   "cell_type": "code",
   "execution_count": 22,
   "metadata": {},
   "outputs": [
    {
     "name": "stdout",
     "output_type": "stream",
     "text": [
      "Test Accuracy:  0.9043691875767679\n"
     ]
    }
   ],
   "source": [
    "vectored_X_test = vectorizer.fit_transform(X_test['comment_text'])\n",
    "test_accuracy = lr.score(vectored_X_test, Y_test.iloc[:,0])\n",
    "print(\"Test Accuracy: \", test_accuracy)"
   ]
  },
  {
   "cell_type": "code",
   "execution_count": 23,
   "metadata": {},
   "outputs": [
    {
     "name": "stdout",
     "output_type": "stream",
     "text": [
      "Test Accuracy for label toxic:  0.9043691875767679\n",
      "Test Accuracy for label severe_toxic:  0.989822775925601\n",
      "Test Accuracy for label obscene:  0.9462813024841451\n",
      "Test Accuracy for label threat:  0.9973679592911037\n",
      "Test Accuracy for label insult:  0.9495901536610433\n",
      "Test Accuracy for label identity_hate:  0.9910510615897525\n"
     ]
    }
   ],
   "source": [
    "for i in range(len(labels)):\n",
    "    test_accuracy = lr.score(vectored_X_test, Y_test.iloc[:,i])\n",
    "    print(\"Test Accuracy for label {}: \".format(labels[i]), test_accuracy)"
   ]
  },
  {
   "cell_type": "markdown",
   "metadata": {},
   "source": [
    "* Reminder of the note displayed at the beginning of this notebook: accuracy is not suitable here because this dataset has dominating classes. Accuracy is used due to the simple `lr.score()` tool and to compare different models, but it does not tell how well this model does."
   ]
  },
  {
   "cell_type": "markdown",
   "metadata": {},
   "source": [
    "_______"
   ]
  },
  {
   "cell_type": "markdown",
   "metadata": {},
   "source": [
    "# Model 2 - Logistic Regression with Tfidf (analyzer='word') and Features\n",
    "* **Features:** length of text, proportion of capital letters, number of offensive words, contains specific offensive words"
   ]
  },
  {
   "cell_type": "markdown",
   "metadata": {},
   "source": [
    "### Length of Text"
   ]
  },
  {
   "cell_type": "code",
   "execution_count": 24,
   "metadata": {},
   "outputs": [],
   "source": [
    "comments_copy = comments.copy()\n",
    "comments_copy['len'] = comments_copy['comment_text'].apply(len) - comments_copy['comment_text'].str.count(\" \")"
   ]
  },
  {
   "cell_type": "code",
   "execution_count": 25,
   "metadata": {},
   "outputs": [
    {
     "name": "stdout",
     "output_type": "stream",
     "text": [
      "toxic\n",
      "0    333.430075\n",
      "1    242.193148\n",
      "Name: len, dtype: float64 \n",
      "\n",
      "severe_toxic\n",
      "0    324.180338\n",
      "1    374.721003\n",
      "Name: len, dtype: float64 \n",
      "\n",
      "obscene\n",
      "0    329.665403\n",
      "1    235.613445\n",
      "Name: len, dtype: float64 \n",
      "\n",
      "threat\n",
      "0    324.906684\n",
      "1    251.075314\n",
      "Name: len, dtype: float64 \n",
      "\n",
      "insult\n",
      "0    329.727201\n",
      "1    227.593627\n",
      "Name: len, dtype: float64 \n",
      "\n",
      "identity_hate\n",
      "0    325.306128\n",
      "1    254.821352\n",
      "Name: len, dtype: float64 \n",
      "\n"
     ]
    }
   ],
   "source": [
    "for col in comments_copy.columns[2:8]:\n",
    "    print(comments_copy.groupby(col)['len'].mean(), \"\\n\")"
   ]
  },
  {
   "cell_type": "markdown",
   "metadata": {},
   "source": [
    "Overall, hateful comments tend to be shorter by about 80-100 characters than clean comments, except for the severe_toxic category."
   ]
  },
  {
   "cell_type": "markdown",
   "metadata": {},
   "source": [
    "### Number of Capital Letters"
   ]
  },
  {
   "cell_type": "code",
   "execution_count": 26,
   "metadata": {},
   "outputs": [
    {
     "name": "stdout",
     "output_type": "stream",
     "text": [
      "toxic\n",
      "0    14.294198\n",
      "1    44.190859\n",
      "Name: caps, dtype: float64 \n",
      "\n",
      "severe_toxic\n",
      "0     15.768661\n",
      "1    154.927273\n",
      "Name: caps, dtype: float64 \n",
      "\n",
      "obscene\n",
      "0    15.295126\n",
      "1    50.508818\n",
      "Name: caps, dtype: float64 \n",
      "\n",
      "threat\n",
      "0    16.981948\n",
      "1    76.297071\n",
      "Name: caps, dtype: float64 \n",
      "\n",
      "insult\n",
      "0    15.489129\n",
      "1    49.329821\n",
      "Name: caps, dtype: float64 \n",
      "\n",
      "identity_hate\n",
      "0    16.672205\n",
      "1    72.030605\n",
      "Name: caps, dtype: float64 \n",
      "\n"
     ]
    }
   ],
   "source": [
    "def num_upper(text):\n",
    "    \"\"\"Returns the number of capital letters in a string.\"\"\"\n",
    "    num = 0\n",
    "    for i in text:\n",
    "        if i.isupper():\n",
    "            num += 1\n",
    "    return num\n",
    "\n",
    "comments_copy['caps'] = comments_copy['comment_text'].apply(num_upper)\n",
    "\n",
    "for col in comments_copy.columns[2:8]:\n",
    "    print(comments_copy.groupby(col)['caps'].mean(), \"\\n\")"
   ]
  },
  {
   "cell_type": "markdown",
   "metadata": {},
   "source": [
    "There seems to be a large difference between the number of capital letters between clean and non-clean messages, but looking at proportions would be more suitable due to various text lengths."
   ]
  },
  {
   "cell_type": "markdown",
   "metadata": {},
   "source": [
    "### Proportion of Capital Letters"
   ]
  },
  {
   "cell_type": "code",
   "execution_count": 27,
   "metadata": {},
   "outputs": [
    {
     "name": "stdout",
     "output_type": "stream",
     "text": [
      "toxic\n",
      "0    0.054293\n",
      "1    0.140094\n",
      "Name: proportion of caps, dtype: float64 \n",
      "\n",
      "severe_toxic\n",
      "0    0.060577\n",
      "1    0.254636\n",
      "Name: proportion of caps, dtype: float64 \n",
      "\n",
      "obscene\n",
      "0    0.057580\n",
      "1    0.150819\n",
      "Name: proportion of caps, dtype: float64 \n",
      "\n",
      "threat\n",
      "0    0.062163\n",
      "1    0.180303\n",
      "Name: proportion of caps, dtype: float64 \n",
      "\n",
      "insult\n",
      "0    0.058079\n",
      "1    0.147976\n",
      "Name: proportion of caps, dtype: float64 \n",
      "\n",
      "identity_hate\n",
      "0    0.061523\n",
      "1    0.174427\n",
      "Name: proportion of caps, dtype: float64 \n",
      "\n"
     ]
    }
   ],
   "source": [
    "comments_copy['proportion of caps'] = comments_copy['caps'] / comments_copy['len']\n",
    "\n",
    "for col in comments_copy.columns[2:8]:\n",
    "    print(comments_copy.groupby(col)['proportion of caps'].mean(), \"\\n\")"
   ]
  },
  {
   "cell_type": "markdown",
   "metadata": {},
   "source": [
    "There is still a notable difference, and proportion of capital letters will be used instead of number of capital letters."
   ]
  },
  {
   "cell_type": "markdown",
   "metadata": {},
   "source": [
    "### Use of Offensive Language\n",
    "\n",
    "A list of 1,300+ English terms that could be found offensive will be used in this next feature. \"The list contains some words that many people won't find offensive, but it's a good start for anybody wanting to block offensive or profane terms on their Site.\"\n",
    "* From Luis von Ahn's Research Group: _https://www.cs.cmu.edu/~biglou/resources/bad-words.txt_"
   ]
  },
  {
   "cell_type": "code",
   "execution_count": 28,
   "metadata": {},
   "outputs": [
    {
     "name": "stdout",
     "output_type": "stream",
     "text": [
      "Number of offensive words considered: 1383\n"
     ]
    },
    {
     "data": {
      "text/plain": [
       "array(['abbo', 'abo', 'abortion', 'abuse', 'addict', 'addicts', 'adult',\n",
       "       'africa', 'african', 'alla', 'allah', 'alligatorbait', 'amateur',\n",
       "       'american', 'anal', 'analannie', 'analsex', 'angie', 'angry',\n",
       "       'anus', 'arab', 'arabs', 'areola', 'argie', 'aroused', 'arse',\n",
       "       'arsehole', 'asian', 'ass', 'assassin'], dtype=object)"
      ]
     },
     "execution_count": 28,
     "metadata": {},
     "output_type": "execute_result"
    }
   ],
   "source": [
    "bad_words = pd.read_fwf(\"bad-words.txt\", header=None).iloc[:,0].values\n",
    "print(\"Number of offensive words considered:\", len(bad_words))\n",
    "bad_words[:30]"
   ]
  },
  {
   "cell_type": "code",
   "execution_count": 29,
   "metadata": {},
   "outputs": [
    {
     "data": {
      "text/html": [
       "<div>\n",
       "<style scoped>\n",
       "    .dataframe tbody tr th:only-of-type {\n",
       "        vertical-align: middle;\n",
       "    }\n",
       "\n",
       "    .dataframe tbody tr th {\n",
       "        vertical-align: top;\n",
       "    }\n",
       "\n",
       "    .dataframe thead th {\n",
       "        text-align: right;\n",
       "    }\n",
       "</style>\n",
       "<table border=\"1\" class=\"dataframe\">\n",
       "  <thead>\n",
       "    <tr style=\"text-align: right;\">\n",
       "      <th></th>\n",
       "      <th>id</th>\n",
       "      <th>comment_text</th>\n",
       "      <th>toxic</th>\n",
       "      <th>severe_toxic</th>\n",
       "      <th>obscene</th>\n",
       "      <th>threat</th>\n",
       "      <th>insult</th>\n",
       "      <th>identity_hate</th>\n",
       "      <th>len</th>\n",
       "      <th>caps</th>\n",
       "      <th>proportion of caps</th>\n",
       "      <th>offensive word</th>\n",
       "      <th>num offensive words</th>\n",
       "    </tr>\n",
       "  </thead>\n",
       "  <tbody>\n",
       "    <tr>\n",
       "      <th>0</th>\n",
       "      <td>0000997932d777bf</td>\n",
       "      <td>Explanation Why the edits made under my userna...</td>\n",
       "      <td>0</td>\n",
       "      <td>0</td>\n",
       "      <td>0</td>\n",
       "      <td>0</td>\n",
       "      <td>0</td>\n",
       "      <td>0</td>\n",
       "      <td>222</td>\n",
       "      <td>17</td>\n",
       "      <td>0.076577</td>\n",
       "      <td>[]</td>\n",
       "      <td>0</td>\n",
       "    </tr>\n",
       "    <tr>\n",
       "      <th>99459</th>\n",
       "      <td>140fa4d86f105ecd</td>\n",
       "      <td>Linkspam? Is that what's causing the formattin...</td>\n",
       "      <td>0</td>\n",
       "      <td>0</td>\n",
       "      <td>0</td>\n",
       "      <td>0</td>\n",
       "      <td>0</td>\n",
       "      <td>0</td>\n",
       "      <td>76</td>\n",
       "      <td>2</td>\n",
       "      <td>0.026316</td>\n",
       "      <td>[]</td>\n",
       "      <td>0</td>\n",
       "    </tr>\n",
       "    <tr>\n",
       "      <th>99457</th>\n",
       "      <td>140cb8dc1570e423</td>\n",
       "      <td>I noticed it doesn't mention if the real Presi...</td>\n",
       "      <td>0</td>\n",
       "      <td>0</td>\n",
       "      <td>0</td>\n",
       "      <td>0</td>\n",
       "      <td>0</td>\n",
       "      <td>0</td>\n",
       "      <td>57</td>\n",
       "      <td>2</td>\n",
       "      <td>0.035088</td>\n",
       "      <td>[]</td>\n",
       "      <td>0</td>\n",
       "    </tr>\n",
       "    <tr>\n",
       "      <th>99456</th>\n",
       "      <td>140b6979e9d7bcec</td>\n",
       "      <td>I already noticed the network, thanks anyway:)...</td>\n",
       "      <td>0</td>\n",
       "      <td>0</td>\n",
       "      <td>0</td>\n",
       "      <td>0</td>\n",
       "      <td>0</td>\n",
       "      <td>0</td>\n",
       "      <td>82</td>\n",
       "      <td>2</td>\n",
       "      <td>0.024390</td>\n",
       "      <td>[]</td>\n",
       "      <td>0</td>\n",
       "    </tr>\n",
       "    <tr>\n",
       "      <th>99452</th>\n",
       "      <td>1407012dc36d1689</td>\n",
       "      <td>Thanks I would have used the ping thanks but i...</td>\n",
       "      <td>0</td>\n",
       "      <td>0</td>\n",
       "      <td>0</td>\n",
       "      <td>0</td>\n",
       "      <td>0</td>\n",
       "      <td>0</td>\n",
       "      <td>124</td>\n",
       "      <td>5</td>\n",
       "      <td>0.040323</td>\n",
       "      <td>[]</td>\n",
       "      <td>0</td>\n",
       "    </tr>\n",
       "    <tr>\n",
       "      <th>...</th>\n",
       "      <td>...</td>\n",
       "      <td>...</td>\n",
       "      <td>...</td>\n",
       "      <td>...</td>\n",
       "      <td>...</td>\n",
       "      <td>...</td>\n",
       "      <td>...</td>\n",
       "      <td>...</td>\n",
       "      <td>...</td>\n",
       "      <td>...</td>\n",
       "      <td>...</td>\n",
       "      <td>...</td>\n",
       "      <td>...</td>\n",
       "    </tr>\n",
       "    <tr>\n",
       "      <th>8705</th>\n",
       "      <td>171ebb2b785f72bd</td>\n",
       "      <td>BALLS BALLS BALLS BALLS BALLS BALLS BALLS BALL...</td>\n",
       "      <td>1</td>\n",
       "      <td>0</td>\n",
       "      <td>0</td>\n",
       "      <td>0</td>\n",
       "      <td>0</td>\n",
       "      <td>0</td>\n",
       "      <td>4167</td>\n",
       "      <td>4167</td>\n",
       "      <td>1.000000</td>\n",
       "      <td>[balls, balls, balls, balls, balls, balls, bal...</td>\n",
       "      <td>833</td>\n",
       "    </tr>\n",
       "    <tr>\n",
       "      <th>87454</th>\n",
       "      <td>e9f7aeb9490f44a6</td>\n",
       "      <td>SHIT SHIT SHIT SHIT SHIT SHIT SHIT SHIT SHIT S...</td>\n",
       "      <td>1</td>\n",
       "      <td>1</td>\n",
       "      <td>1</td>\n",
       "      <td>0</td>\n",
       "      <td>0</td>\n",
       "      <td>0</td>\n",
       "      <td>4000</td>\n",
       "      <td>4000</td>\n",
       "      <td>1.000000</td>\n",
       "      <td>[shit, shit, shit, shit, shit, shit, shit, shi...</td>\n",
       "      <td>1000</td>\n",
       "    </tr>\n",
       "    <tr>\n",
       "      <th>32400</th>\n",
       "      <td>56311e1c0b2cbb52</td>\n",
       "      <td>THAT WAS REALLY MILLESECONDS WASNT IT BITCH   ...</td>\n",
       "      <td>1</td>\n",
       "      <td>0</td>\n",
       "      <td>1</td>\n",
       "      <td>0</td>\n",
       "      <td>1</td>\n",
       "      <td>1</td>\n",
       "      <td>3742</td>\n",
       "      <td>3742</td>\n",
       "      <td>1.000000</td>\n",
       "      <td>[bitch, fat, jew, fat, jew, fat, jew, fat, jew...</td>\n",
       "      <td>1228</td>\n",
       "    </tr>\n",
       "    <tr>\n",
       "      <th>153353</th>\n",
       "      <td>9bb20c51c9fec236</td>\n",
       "      <td>FAT JEW FAT JEW FAT JEW FAT JEW FAT JEW FAT JE...</td>\n",
       "      <td>1</td>\n",
       "      <td>0</td>\n",
       "      <td>0</td>\n",
       "      <td>0</td>\n",
       "      <td>1</td>\n",
       "      <td>1</td>\n",
       "      <td>3753</td>\n",
       "      <td>3753</td>\n",
       "      <td>1.000000</td>\n",
       "      <td>[fat, jew, fat, jew, fat, jew, fat, jew, fat, ...</td>\n",
       "      <td>1243</td>\n",
       "    </tr>\n",
       "    <tr>\n",
       "      <th>76598</th>\n",
       "      <td>cd135d9358a9e9ea</td>\n",
       "      <td>DIE FAG DIE FAG DIE FAG DIE FAG DIE FAG DIE FA...</td>\n",
       "      <td>1</td>\n",
       "      <td>0</td>\n",
       "      <td>0</td>\n",
       "      <td>0</td>\n",
       "      <td>0</td>\n",
       "      <td>0</td>\n",
       "      <td>3750</td>\n",
       "      <td>3750</td>\n",
       "      <td>1.000000</td>\n",
       "      <td>[die, fag, die, fag, die, fag, die, fag, die, ...</td>\n",
       "      <td>1250</td>\n",
       "    </tr>\n",
       "  </tbody>\n",
       "</table>\n",
       "<p>159571 rows × 13 columns</p>\n",
       "</div>"
      ],
      "text/plain": [
       "                      id                                       comment_text  \\\n",
       "0       0000997932d777bf  Explanation Why the edits made under my userna...   \n",
       "99459   140fa4d86f105ecd  Linkspam? Is that what's causing the formattin...   \n",
       "99457   140cb8dc1570e423  I noticed it doesn't mention if the real Presi...   \n",
       "99456   140b6979e9d7bcec  I already noticed the network, thanks anyway:)...   \n",
       "99452   1407012dc36d1689  Thanks I would have used the ping thanks but i...   \n",
       "...                  ...                                                ...   \n",
       "8705    171ebb2b785f72bd  BALLS BALLS BALLS BALLS BALLS BALLS BALLS BALL...   \n",
       "87454   e9f7aeb9490f44a6  SHIT SHIT SHIT SHIT SHIT SHIT SHIT SHIT SHIT S...   \n",
       "32400   56311e1c0b2cbb52  THAT WAS REALLY MILLESECONDS WASNT IT BITCH   ...   \n",
       "153353  9bb20c51c9fec236  FAT JEW FAT JEW FAT JEW FAT JEW FAT JEW FAT JE...   \n",
       "76598   cd135d9358a9e9ea  DIE FAG DIE FAG DIE FAG DIE FAG DIE FAG DIE FA...   \n",
       "\n",
       "        toxic  severe_toxic  obscene  threat  insult  identity_hate   len  \\\n",
       "0           0             0        0       0       0              0   222   \n",
       "99459       0             0        0       0       0              0    76   \n",
       "99457       0             0        0       0       0              0    57   \n",
       "99456       0             0        0       0       0              0    82   \n",
       "99452       0             0        0       0       0              0   124   \n",
       "...       ...           ...      ...     ...     ...            ...   ...   \n",
       "8705        1             0        0       0       0              0  4167   \n",
       "87454       1             1        1       0       0              0  4000   \n",
       "32400       1             0        1       0       1              1  3742   \n",
       "153353      1             0        0       0       1              1  3753   \n",
       "76598       1             0        0       0       0              0  3750   \n",
       "\n",
       "        caps  proportion of caps  \\\n",
       "0         17            0.076577   \n",
       "99459      2            0.026316   \n",
       "99457      2            0.035088   \n",
       "99456      2            0.024390   \n",
       "99452      5            0.040323   \n",
       "...      ...                 ...   \n",
       "8705    4167            1.000000   \n",
       "87454   4000            1.000000   \n",
       "32400   3742            1.000000   \n",
       "153353  3753            1.000000   \n",
       "76598   3750            1.000000   \n",
       "\n",
       "                                           offensive word  num offensive words  \n",
       "0                                                      []                    0  \n",
       "99459                                                  []                    0  \n",
       "99457                                                  []                    0  \n",
       "99456                                                  []                    0  \n",
       "99452                                                  []                    0  \n",
       "...                                                   ...                  ...  \n",
       "8705    [balls, balls, balls, balls, balls, balls, bal...                  833  \n",
       "87454   [shit, shit, shit, shit, shit, shit, shit, shi...                 1000  \n",
       "32400   [bitch, fat, jew, fat, jew, fat, jew, fat, jew...                 1228  \n",
       "153353  [fat, jew, fat, jew, fat, jew, fat, jew, fat, ...                 1243  \n",
       "76598   [die, fag, die, fag, die, fag, die, fag, die, ...                 1250  \n",
       "\n",
       "[159571 rows x 13 columns]"
      ]
     },
     "execution_count": 29,
     "metadata": {},
     "output_type": "execute_result"
    }
   ],
   "source": [
    "# identifying offensive words and quantities\n",
    "def offensive_word(text):\n",
    "    \"\"\"Returns the number of offensive words in a string.\"\"\"\n",
    "    return [word.lower() for word in text.split(\" \") if word.lower() in bad_words]\n",
    "\n",
    "comments_copy['offensive word'] = comments_copy['comment_text'].apply(offensive_word)\n",
    "comments_copy['num offensive words'] = comments_copy['offensive word'].apply(len)\n",
    "comments_copy.sort_values('num offensive words')"
   ]
  },
  {
   "cell_type": "code",
   "execution_count": 30,
   "metadata": {},
   "outputs": [
    {
     "data": {
      "text/html": [
       "<div>\n",
       "<style scoped>\n",
       "    .dataframe tbody tr th:only-of-type {\n",
       "        vertical-align: middle;\n",
       "    }\n",
       "\n",
       "    .dataframe tbody tr th {\n",
       "        vertical-align: top;\n",
       "    }\n",
       "\n",
       "    .dataframe thead th {\n",
       "        text-align: right;\n",
       "    }\n",
       "</style>\n",
       "<table border=\"1\" class=\"dataframe\">\n",
       "  <thead>\n",
       "    <tr style=\"text-align: right;\">\n",
       "      <th></th>\n",
       "      <th>severe_toxic</th>\n",
       "      <th>obscene</th>\n",
       "      <th>threat</th>\n",
       "      <th>insult</th>\n",
       "      <th>identity_hate</th>\n",
       "      <th>len</th>\n",
       "      <th>caps</th>\n",
       "      <th>proportion of caps</th>\n",
       "      <th>num offensive words</th>\n",
       "    </tr>\n",
       "    <tr>\n",
       "      <th>toxic</th>\n",
       "      <th></th>\n",
       "      <th></th>\n",
       "      <th></th>\n",
       "      <th></th>\n",
       "      <th></th>\n",
       "      <th></th>\n",
       "      <th></th>\n",
       "      <th></th>\n",
       "      <th></th>\n",
       "    </tr>\n",
       "  </thead>\n",
       "  <tbody>\n",
       "    <tr>\n",
       "      <th>0</th>\n",
       "      <td>0.000000</td>\n",
       "      <td>0.003625</td>\n",
       "      <td>0.000201</td>\n",
       "      <td>0.003694</td>\n",
       "      <td>0.000714</td>\n",
       "      <td>333.430075</td>\n",
       "      <td>14.294198</td>\n",
       "      <td>0.054293</td>\n",
       "      <td>0.364611</td>\n",
       "    </tr>\n",
       "    <tr>\n",
       "      <th>1</th>\n",
       "      <td>0.104289</td>\n",
       "      <td>0.518242</td>\n",
       "      <td>0.029358</td>\n",
       "      <td>0.480188</td>\n",
       "      <td>0.085131</td>\n",
       "      <td>242.193148</td>\n",
       "      <td>44.190859</td>\n",
       "      <td>0.140094</td>\n",
       "      <td>4.042043</td>\n",
       "    </tr>\n",
       "  </tbody>\n",
       "</table>\n",
       "</div>"
      ],
      "text/plain": [
       "       severe_toxic   obscene    threat    insult  identity_hate         len  \\\n",
       "toxic                                                                          \n",
       "0          0.000000  0.003625  0.000201  0.003694       0.000714  333.430075   \n",
       "1          0.104289  0.518242  0.029358  0.480188       0.085131  242.193148   \n",
       "\n",
       "            caps  proportion of caps  num offensive words  \n",
       "toxic                                                      \n",
       "0      14.294198            0.054293             0.364611  \n",
       "1      44.190859            0.140094             4.042043  "
      ]
     },
     "execution_count": 30,
     "metadata": {},
     "output_type": "execute_result"
    }
   ],
   "source": [
    "comments_copy.groupby('toxic').mean()"
   ]
  },
  {
   "cell_type": "markdown",
   "metadata": {},
   "source": [
    "Some rows have hundreds of offensive words within one message. This is a sign of spam and possibly an indicator of harrassment."
   ]
  },
  {
   "cell_type": "code",
   "execution_count": 31,
   "metadata": {},
   "outputs": [
    {
     "name": "stdout",
     "output_type": "stream",
     "text": [
      "Average number of offensive words used in non-toxic messages: 0.365\n"
     ]
    }
   ],
   "source": [
    "print(\"Average number of offensive words used in non-toxic messages:\", \n",
    "      round(comments_copy[comments_copy['toxic']==0]['num offensive words'].mean(), 3))"
   ]
  },
  {
   "cell_type": "code",
   "execution_count": 32,
   "metadata": {},
   "outputs": [
    {
     "name": "stdout",
     "output_type": "stream",
     "text": [
      "Average number of offensive words used in toxic messages: 4.042\n"
     ]
    }
   ],
   "source": [
    "print(\"Average number of offensive words used in toxic messages:\", \n",
    "     round(comments_copy[comments_copy['toxic']==1]['num offensive words'].mean(), 3))"
   ]
  },
  {
   "cell_type": "code",
   "execution_count": 33,
   "metadata": {},
   "outputs": [
    {
     "name": "stdout",
     "output_type": "stream",
     "text": [
      "Average number of offensive words used in severely toxic messages: 16.014\n"
     ]
    }
   ],
   "source": [
    "print(\"Average number of offensive words used in severely toxic messages:\", \n",
    "      round(comments_copy[comments_copy['severe_toxic']==1]['num offensive words'].mean(), 3))"
   ]
  },
  {
   "cell_type": "code",
   "execution_count": 34,
   "metadata": {},
   "outputs": [
    {
     "name": "stdout",
     "output_type": "stream",
     "text": [
      "Average number of offensive words used in obscene messages: 5.314\n"
     ]
    }
   ],
   "source": [
    "print(\"Average number of offensive words used in obscene messages:\", \n",
    "      round(comments_copy[comments_copy['obscene']==1]['num offensive words'].mean(), 3))"
   ]
  },
  {
   "cell_type": "code",
   "execution_count": 35,
   "metadata": {},
   "outputs": [
    {
     "name": "stdout",
     "output_type": "stream",
     "text": [
      "Average number of offensive words used in threatening messages: 5.916\n"
     ]
    }
   ],
   "source": [
    "print(\"Average number of offensive words used in threatening messages:\", \n",
    "      round(comments_copy[comments_copy['threat']==1]['num offensive words'].mean(), 3))"
   ]
  },
  {
   "cell_type": "code",
   "execution_count": 36,
   "metadata": {},
   "outputs": [
    {
     "name": "stdout",
     "output_type": "stream",
     "text": [
      "Average number of offensive words used in insulting messages: 5.13\n"
     ]
    }
   ],
   "source": [
    "print(\"Average number of offensive words used in insulting messages:\", \n",
    "      round(comments_copy[comments_copy['insult']==1]['num offensive words'].mean(), 3))"
   ]
  },
  {
   "cell_type": "code",
   "execution_count": 37,
   "metadata": {},
   "outputs": [
    {
     "name": "stdout",
     "output_type": "stream",
     "text": [
      "Average number of offensive words used in identity hate messages: 10.012\n"
     ]
    }
   ],
   "source": [
    "print(\"Average number of offensive words used in identity hate messages:\", \n",
    "      round(comments_copy[comments_copy['identity_hate']==1]['num offensive words'].mean(), 3))"
   ]
  },
  {
   "cell_type": "markdown",
   "metadata": {},
   "source": [
    "There is a large difference between toxic and non-toxic messages in the number of offensive words used. There are also large variations in the number of offensive words used between the different labels. Severely toxic messages contain the highest amount of offensive words, followed by identity hate messages. Obscene, threatening, and insulting messages contain nearly the same amount of offensive words."
   ]
  },
  {
   "cell_type": "markdown",
   "metadata": {},
   "source": [
    "### Containment of Offensive Words\n",
    "* Which offensive words were used the most within each label? \n",
    "* Are there offensive words used in a category but not the others?"
   ]
  },
  {
   "cell_type": "code",
   "execution_count": 38,
   "metadata": {},
   "outputs": [
    {
     "data": {
      "image/png": "[encoded data removed]",
      "text/plain": [
       "<Figure size 432x288 with 1 Axes>"
      ]
     },
     "metadata": {
      "needs_background": "light"
     },
     "output_type": "display_data"
    }
   ],
   "source": [
    "num_offense_words = comments_copy.groupby('num offensive words').size().head(10)\n",
    "plt.bar(num_offense_words.index, num_offense_words.values)\n",
    "plt.xlabel('num offensive words in a comment')\n",
    "plt.ylabel('count of comments')\n",
    "plt.title('Number of Offensive Words Used in Comments');"
   ]
  },
  {
   "cell_type": "code",
   "execution_count": 39,
   "metadata": {},
   "outputs": [
    {
     "name": "stdout",
     "output_type": "stream",
     "text": [
      "'Offensive Words' Used Casually (used in non-toxic comments)\n"
     ]
    },
    {
     "data": {
      "text/plain": [
       "american     2100\n",
       "attack       1620\n",
       "faith        1343\n",
       "german       1170\n",
       "black        1059\n",
       "god          1054\n",
       "jewish        922\n",
       "death         904\n",
       "church        891\n",
       "christian     802\n",
       "abuse         789\n",
       "uk            764\n",
       "ethnic        711\n",
       "period        706\n",
       "european      648\n",
       "chinese       624\n",
       "japanese      604\n",
       "dead          598\n",
       "failed        585\n",
       "fight         580\n",
       "dtype: int64"
      ]
     },
     "execution_count": 39,
     "metadata": {},
     "output_type": "execute_result"
    }
   ],
   "source": [
    "has_offense_words = comments_copy[comments_copy['num offensive words'] > 0]\n",
    "\n",
    "# Looking at which offensive words are used in non-toxic comments (used casually, not offensively)\n",
    "non_toxic_offense = has_offense_words[has_offense_words['toxic']==0]['offensive word'].values\n",
    "words = []\n",
    "for array in non_toxic_offense:\n",
    "    for item in array:\n",
    "        words.append(item)\n",
    "\n",
    "print(\"'Offensive Words' Used Casually (used in non-toxic comments)\")\n",
    "non_toxic = pd.Series(words).value_counts().head(20)\n",
    "non_toxic"
   ]
  },
  {
   "cell_type": "code",
   "execution_count": 40,
   "metadata": {},
   "outputs": [
    {
     "name": "stdout",
     "output_type": "stream",
     "text": [
      "'Offensive Words' Used in Toxic Comments\n"
     ]
    },
    {
     "data": {
      "text/plain": [
       "fuck       8325\n",
       "nigger     3223\n",
       "fucking    3165\n",
       "suck       2872\n",
       "shit       2684\n",
       "fat        1937\n",
       "die        1803\n",
       "gay        1774\n",
       "faggot     1741\n",
       "moron      1695\n",
       "ass        1606\n",
       "jew        1294\n",
       "stupid     1216\n",
       "cunt       1039\n",
       "dick        999\n",
       "dtype: int64"
      ]
     },
     "execution_count": 40,
     "metadata": {},
     "output_type": "execute_result"
    }
   ],
   "source": [
    "toxic_offense = has_offense_words[has_offense_words['toxic']==1]['offensive word'].values\n",
    "words = []\n",
    "for array in toxic_offense:\n",
    "    for item in array:\n",
    "        words.append(item)\n",
    "\n",
    "print(\"'Offensive Words' Used in Toxic Comments\")\n",
    "toxic = pd.Series(words).value_counts().head(15)\n",
    "toxic"
   ]
  },
  {
   "cell_type": "code",
   "execution_count": 41,
   "metadata": {},
   "outputs": [
    {
     "name": "stdout",
     "output_type": "stream",
     "text": [
      "'Offensive Words' Used in Severely Toxic Comments\n"
     ]
    },
    {
     "data": {
      "text/plain": [
       "fuck       5992\n",
       "suck       2269\n",
       "shit       1681\n",
       "faggot     1509\n",
       "fucking    1372\n",
       "ass        1103\n",
       "nigger      999\n",
       "die         972\n",
       "cock        639\n",
       "kill        577\n",
       "cunt        576\n",
       "fucker      551\n",
       "bitch       492\n",
       "dick        459\n",
       "bastard     432\n",
       "dtype: int64"
      ]
     },
     "execution_count": 41,
     "metadata": {},
     "output_type": "execute_result"
    }
   ],
   "source": [
    "severe_toxic_offense = has_offense_words[has_offense_words['severe_toxic']==1]['offensive word'].values\n",
    "words = []\n",
    "for array in severe_toxic_offense:\n",
    "    for item in array:\n",
    "        words.append(item)\n",
    "\n",
    "print(\"'Offensive Words' Used in Severely Toxic Comments\")\n",
    "severe_toxic = pd.Series(words).value_counts().head(15)\n",
    "severe_toxic"
   ]
  },
  {
   "cell_type": "code",
   "execution_count": 42,
   "metadata": {},
   "outputs": [
    {
     "name": "stdout",
     "output_type": "stream",
     "text": [
      "'Offensive Words' Used in Obscene Comments\n"
     ]
    },
    {
     "data": {
      "text/plain": [
       "fuck        8255\n",
       "fucking     3066\n",
       "suck        2684\n",
       "nigger      2669\n",
       "shit        2537\n",
       "ass         1557\n",
       "fat         1260\n",
       "die         1089\n",
       "cunt        1028\n",
       "bullshit     973\n",
       "faggot       972\n",
       "dick         965\n",
       "bitch        877\n",
       "stupid       856\n",
       "nipple       823\n",
       "dtype: int64"
      ]
     },
     "execution_count": 42,
     "metadata": {},
     "output_type": "execute_result"
    }
   ],
   "source": [
    "obscene_offense = has_offense_words[has_offense_words['obscene']==1]['offensive word'].values\n",
    "words = []\n",
    "for array in obscene_offense:\n",
    "    for item in array:\n",
    "        words.append(item)\n",
    "\n",
    "print(\"'Offensive Words' Used in Obscene Comments\")\n",
    "obscene = pd.Series(words).value_counts().head(15)\n",
    "obscene"
   ]
  },
  {
   "cell_type": "code",
   "execution_count": 43,
   "metadata": {},
   "outputs": [
    {
     "name": "stdout",
     "output_type": "stream",
     "text": [
      "'Offensive Words' Used in Threatening Comments\n"
     ]
    },
    {
     "data": {
      "text/plain": [
       "die        960\n",
       "kill       501\n",
       "fucking    136\n",
       "fuck       124\n",
       "murder     107\n",
       "fuckin      99\n",
       "ass         72\n",
       "bitch       44\n",
       "shit        42\n",
       "rape        42\n",
       "hell        33\n",
       "fat         31\n",
       "death       29\n",
       "stupid      28\n",
       "shoot       22\n",
       "dtype: int64"
      ]
     },
     "execution_count": 43,
     "metadata": {},
     "output_type": "execute_result"
    }
   ],
   "source": [
    "threat_offense = has_offense_words[has_offense_words['threat']==1]['offensive word'].values\n",
    "words = []\n",
    "for array in threat_offense:\n",
    "    for item in array:\n",
    "        words.append(item)\n",
    "\n",
    "print(\"'Offensive Words' Used in Threatening Comments\")\n",
    "threat = pd.Series(words).value_counts().head(15)\n",
    "threat"
   ]
  },
  {
   "cell_type": "code",
   "execution_count": 44,
   "metadata": {},
   "outputs": [
    {
     "name": "stdout",
     "output_type": "stream",
     "text": [
      "'Offensive Words' Used in Insulting Comments\n"
     ]
    },
    {
     "data": {
      "text/plain": [
       "fuck       6452\n",
       "nigger     2721\n",
       "fucking    2696\n",
       "suck       2474\n",
       "fat        1901\n",
       "faggot     1618\n",
       "moron      1330\n",
       "jew        1272\n",
       "die        1146\n",
       "shit       1130\n",
       "ass         994\n",
       "cunt        976\n",
       "stupid      931\n",
       "bitch       840\n",
       "dick        796\n",
       "dtype: int64"
      ]
     },
     "execution_count": 44,
     "metadata": {},
     "output_type": "execute_result"
    }
   ],
   "source": [
    "insult_offense = has_offense_words[has_offense_words['insult']==1]['offensive word'].values\n",
    "words = []\n",
    "for array in insult_offense:\n",
    "    for item in array:\n",
    "        words.append(item)\n",
    "\n",
    "print(\"'Offensive Words' Used in Insulting Comments\")\n",
    "insult = pd.Series(words).value_counts().head(15)\n",
    "insult"
   ]
  },
  {
   "cell_type": "code",
   "execution_count": 45,
   "metadata": {},
   "outputs": [
    {
     "name": "stdout",
     "output_type": "stream",
     "text": [
      "'Offensive Words' Used in Identity Hate Comments\n"
     ]
    },
    {
     "data": {
      "text/plain": [
       "nigger     2912\n",
       "fat        1316\n",
       "jew        1284\n",
       "die         859\n",
       "fuck        852\n",
       "faggot      606\n",
       "gay         540\n",
       "fucking     516\n",
       "suck        421\n",
       "stupid      388\n",
       "cunt        365\n",
       "ass         337\n",
       "shit        315\n",
       "bitch       261\n",
       "kill        193\n",
       "dtype: int64"
      ]
     },
     "execution_count": 45,
     "metadata": {},
     "output_type": "execute_result"
    }
   ],
   "source": [
    "identity_hate_offense = has_offense_words[has_offense_words['identity_hate']==1]['offensive word'].values\n",
    "words = []\n",
    "for array in identity_hate_offense:\n",
    "    for item in array:\n",
    "        words.append(item)\n",
    "\n",
    "print(\"'Offensive Words' Used in Identity Hate Comments\")\n",
    "identity_hate = pd.Series(words).value_counts().head(15)\n",
    "identity_hate"
   ]
  },
  {
   "cell_type": "markdown",
   "metadata": {},
   "source": [
    "It looks like the top used \"offensive\" words within the non-toxic messages are not within the top words of positively labeled messages. Let's double check."
   ]
  },
  {
   "cell_type": "code",
   "execution_count": 46,
   "metadata": {},
   "outputs": [
    {
     "name": "stdout",
     "output_type": "stream",
     "text": [
      "toxic []\n",
      "severe_toxic []\n",
      "obscene []\n",
      "threat ['death']\n",
      "insult []\n",
      "identity_hate []\n"
     ]
    }
   ],
   "source": [
    "# Finding the words used in non-toxic messages AND in positively labeled messages\n",
    "used_words = toxic, severe_toxic, obscene, threat, insult, identity_hate\n",
    "label = [\"toxic\", \"severe_toxic\", \"obscene\", \"threat\", \"insult\", \"identity_hate\"]\n",
    "\n",
    "for i in range(len(used_words)):\n",
    "    overlap = []\n",
    "    for word in non_toxic.index:\n",
    "        if word in used_words[i].index:\n",
    "            overlap.append(word)\n",
    "    print(label[i], overlap)"
   ]
  },
  {
   "cell_type": "markdown",
   "metadata": {},
   "source": [
    "Among the top \"offensive\" words people used in non-toxic messages, only the word \"death\" was common among the top offensive words of other categories. \"Death\" was also top among the 'threat' category."
   ]
  },
  {
   "cell_type": "code",
   "execution_count": 47,
   "metadata": {},
   "outputs": [
    {
     "data": {
      "text/plain": [
       "american     2100\n",
       "attack       1620\n",
       "faith        1343\n",
       "german       1170\n",
       "black        1059\n",
       "god          1054\n",
       "jewish        922\n",
       "death         904\n",
       "church        891\n",
       "christian     802\n",
       "abuse         789\n",
       "uk            764\n",
       "ethnic        711\n",
       "period        706\n",
       "european      648\n",
       "chinese       624\n",
       "japanese      604\n",
       "dead          598\n",
       "failed        585\n",
       "fight         580\n",
       "dtype: int64"
      ]
     },
     "metadata": {},
     "output_type": "display_data"
    },
    {
     "data": {
      "text/plain": [
       "die        960\n",
       "kill       501\n",
       "fucking    136\n",
       "fuck       124\n",
       "murder     107\n",
       "fuckin      99\n",
       "ass         72\n",
       "bitch       44\n",
       "shit        42\n",
       "rape        42\n",
       "hell        33\n",
       "fat         31\n",
       "death       29\n",
       "stupid      28\n",
       "shoot       22\n",
       "dtype: int64"
      ]
     },
     "metadata": {},
     "output_type": "display_data"
    }
   ],
   "source": [
    "display(non_toxic, threat)"
   ]
  },
  {
   "cell_type": "markdown",
   "metadata": {},
   "source": [
    "'death' is used about 900 times in the non-toxic subset of this dataset and used 29 times in the threat subset of this dataset. Given how few times it was used in the threat subset, especially compared to the amounts of the other offensive words used in this subset, it is safe to take 'death' out of the offensive words list. 'death' was the only word used in both the non-toxic and labeled comments. The other top 'offensive words' used in the non-toxic subset can be taken out of the offensive words list."
   ]
  },
  {
   "cell_type": "code",
   "execution_count": 48,
   "metadata": {},
   "outputs": [
    {
     "data": {
      "text/plain": [
       "1363"
      ]
     },
     "execution_count": 48,
     "metadata": {},
     "output_type": "execute_result"
    }
   ],
   "source": [
    "# Removing the top offensive words used in non-toxic messages from the list of words to consider offensive\n",
    "words_to_remove = non_toxic.index\n",
    "updated_bad_words = [word for word in bad_words if word not in words_to_remove]\n",
    "len(updated_bad_words)"
   ]
  },
  {
   "cell_type": "code",
   "execution_count": 49,
   "metadata": {},
   "outputs": [],
   "source": [
    "def updated_offensive_word(text):\n",
    "    \"\"\"Returns the number of offensive words in a string.\"\"\"\n",
    "    return [word.lower() for word in text.split(\" \") if word.lower() in updated_bad_words]\n",
    "\n",
    "comments_copy['offensive word'] = comments_copy['comment_text'].apply(updated_offensive_word)\n",
    "comments_copy['num offensive words'] = comments_copy['offensive word'].apply(len)"
   ]
  },
  {
   "cell_type": "code",
   "execution_count": 50,
   "metadata": {},
   "outputs": [
    {
     "name": "stdout",
     "output_type": "stream",
     "text": [
      "'Offensive Words' Used Casually (used in non-toxic comments)\n"
     ]
    },
    {
     "data": {
      "text/plain": [
       "israel        564\n",
       "propaganda    542\n",
       "jesus         540\n",
       "killed        539\n",
       "soviet        526\n",
       "catholic      525\n",
       "lies          501\n",
       "african       500\n",
       "muslim        494\n",
       "died          472\n",
       "stupid        459\n",
       "remains       444\n",
       "hell          432\n",
       "nazi          427\n",
       "minority      424\n",
       "conspiracy    405\n",
       "israeli       391\n",
       "racist        389\n",
       "sexual        383\n",
       "canadian      382\n",
       "dtype: int64"
      ]
     },
     "execution_count": 50,
     "metadata": {},
     "output_type": "execute_result"
    }
   ],
   "source": [
    "# Checking the top \"offensive\" words in non-toxic comments after removing some words from the list\n",
    "has_offense_words = comments_copy[comments_copy['num offensive words'] > 0]\n",
    "\n",
    "non_toxic_offense = has_offense_words[has_offense_words['toxic']==0]['offensive word'].values\n",
    "words = []\n",
    "for array in non_toxic_offense:\n",
    "    for item in array:\n",
    "        words.append(item)\n",
    "\n",
    "print(\"'Offensive Words' Used Casually (used in non-toxic comments)\")\n",
    "non_toxic = pd.Series(words).value_counts().head(20)\n",
    "non_toxic"
   ]
  },
  {
   "cell_type": "code",
   "execution_count": 51,
   "metadata": {},
   "outputs": [
    {
     "name": "stdout",
     "output_type": "stream",
     "text": [
      "toxic ['stupid']\n",
      "severe_toxic []\n",
      "obscene ['stupid']\n",
      "threat ['stupid', 'hell']\n",
      "insult ['stupid']\n",
      "identity_hate ['stupid']\n"
     ]
    }
   ],
   "source": [
    "used_words = toxic, severe_toxic, obscene, threat, insult, identity_hate\n",
    "label = [\"toxic\", \"severe_toxic\", \"obscene\", \"threat\", \"insult\", \"identity_hate\"]\n",
    "\n",
    "for i in range(len(used_words)):\n",
    "    overlap = []\n",
    "    for word in non_toxic.index:\n",
    "        if word in used_words[i].index:\n",
    "            overlap.append(word)\n",
    "    print(label[i], overlap)"
   ]
  },
  {
   "cell_type": "markdown",
   "metadata": {},
   "source": [
    "Using the same logic as before, offensive words used in non-toxic comments can be removed except \"stupid\" and \"hell\"."
   ]
  },
  {
   "cell_type": "code",
   "execution_count": 52,
   "metadata": {},
   "outputs": [
    {
     "data": {
      "text/plain": [
       "1345"
      ]
     },
     "execution_count": 52,
     "metadata": {},
     "output_type": "execute_result"
    }
   ],
   "source": [
    "# Removing top offensive words of non-toxic comments that do not overlap\n",
    "words_to_remove = [word for word in list(non_toxic.index) if word not in ['stupid', 'hell']]\n",
    "updated_bad_words = [word for word in updated_bad_words if word not in words_to_remove]\n",
    "len(updated_bad_words)"
   ]
  },
  {
   "cell_type": "code",
   "execution_count": 53,
   "metadata": {},
   "outputs": [],
   "source": [
    "comments_copy['offensive word'] = comments_copy['comment_text'].apply(updated_offensive_word)\n",
    "comments_copy['num offensive words'] = comments_copy['offensive word'].apply(len)"
   ]
  },
  {
   "cell_type": "markdown",
   "metadata": {},
   "source": [
    "So far, around 40 of the most used 'offensive words' in non-toxic comments have been removed from the bad_words list because these words were not commonly used in actually offensive/toxic messages."
   ]
  },
  {
   "cell_type": "code",
   "execution_count": 54,
   "metadata": {},
   "outputs": [
    {
     "data": {
      "text/plain": [
       "fuckin      1\n",
       "bullshit    1\n",
       "nipple      1\n",
       "murder      1\n",
       "cock        1\n",
       "death       1\n",
       "fucker      1\n",
       "rape        1\n",
       "hell        1\n",
       "shoot       1\n",
       "bastard     1\n",
       "dtype: int64"
      ]
     },
     "execution_count": 54,
     "metadata": {},
     "output_type": "execute_result"
    }
   ],
   "source": [
    "all_offense = []\n",
    "for series in used_words:\n",
    "    for word in series.index:\n",
    "        all_offense.append(word)\n",
    "\n",
    "offense_word_counts = pd.Series(all_offense).value_counts()\n",
    "unique_offense = offense_word_counts[offense_word_counts == 1]\n",
    "unique_offense"
   ]
  },
  {
   "cell_type": "markdown",
   "metadata": {},
   "source": [
    "Above is a list of words that are commonly used in one label but not commonly in any other. They are popular words for that label and not for the other labels. Although they are popular within one category, they are still used in other categories, just not as frequently. Let's see which labels they are associated with."
   ]
  },
  {
   "cell_type": "code",
   "execution_count": 55,
   "metadata": {},
   "outputs": [
    {
     "name": "stdout",
     "output_type": "stream",
     "text": [
      "Label: severe_toxic | Unique common word: cock | Count: 639\n",
      "Label: severe_toxic | Unique common word: fucker | Count: 551\n",
      "Label: severe_toxic | Unique common word: bastard | Count: 432\n",
      "Label: obscene | Unique common word: bullshit | Count: 973\n",
      "Label: obscene | Unique common word: nipple | Count: 823\n",
      "Label: threat | Unique common word: murder | Count: 107\n",
      "Label: threat | Unique common word: fuckin | Count: 99\n",
      "Label: threat | Unique common word: rape | Count: 42\n",
      "Label: threat | Unique common word: hell | Count: 33\n",
      "Label: threat | Unique common word: death | Count: 29\n",
      "Label: threat | Unique common word: shoot | Count: 22\n"
     ]
    }
   ],
   "source": [
    "for i in range(len(used_words)):\n",
    "    for word in used_words[i].index:\n",
    "        if word in unique_offense.index:\n",
    "            print(\"Label: {} | Unique common word: {} | Count: {}\".format(label[i], word, used_words[i].loc[word]))"
   ]
  },
  {
   "cell_type": "markdown",
   "metadata": {},
   "source": [
    "There will be features made for the unique offensive words within the hundreds to try out."
   ]
  },
  {
   "cell_type": "code",
   "execution_count": 56,
   "metadata": {},
   "outputs": [],
   "source": [
    "comments_copy[\"contains 'cock'\"] = comments_copy['comment_text'].str.lower().str.contains('cock')\n",
    "comments_copy[\"contains 'cock'\"] = comments_copy[\"contains 'cock'\"].replace(False, 0).replace(True, 1).apply(int)\n",
    "\n",
    "comments_copy[\"contains 'fucker'\"] = comments_copy['comment_text'].str.lower().str.contains('fucker')\n",
    "comments_copy[\"contains 'fucker'\"] = comments_copy[\"contains 'fucker'\"].replace(False, 0).replace(True, 1).apply(int)\n",
    "\n",
    "comments_copy[\"contains 'bastard'\"] = comments_copy['comment_text'].str.lower().str.contains('bastard')\n",
    "comments_copy[\"contains 'bastard'\"] = comments_copy[\"contains 'bastard'\"].replace(False, 0).replace(True, 1).apply(int)\n",
    "\n",
    "comments_copy[\"contains 'bullshit'\"] = comments_copy['comment_text'].str.lower().str.contains('bullshit')\n",
    "comments_copy[\"contains 'bullshit'\"] = comments_copy[\"contains 'bullshit'\"].replace(False, 0).replace(True, 1).apply(int)\n",
    "\n",
    "comments_copy[\"contains 'nipple'\"] = comments_copy['comment_text'].str.lower().str.contains('nipple')\n",
    "comments_copy[\"contains 'nipple'\"] = comments_copy[\"contains 'nipple'\"].replace(False, 0).replace(True, 1).apply(int)\n",
    "\n",
    "comments_copy[\"contains 'murder'\"] = comments_copy['comment_text'].str.lower().str.contains('murder')\n",
    "comments_copy[\"contains 'murder'\"] = comments_copy[\"contains 'murder'\"].replace(False, 0).replace(True, 1).apply(int)"
   ]
  },
  {
   "cell_type": "markdown",
   "metadata": {},
   "source": [
    "'rape' and 'shoot' also sound very unique to threats despite the low counts, so they will also be included."
   ]
  },
  {
   "cell_type": "code",
   "execution_count": 57,
   "metadata": {},
   "outputs": [
    {
     "data": {
      "text/html": [
       "<div>\n",
       "<style scoped>\n",
       "    .dataframe tbody tr th:only-of-type {\n",
       "        vertical-align: middle;\n",
       "    }\n",
       "\n",
       "    .dataframe tbody tr th {\n",
       "        vertical-align: top;\n",
       "    }\n",
       "\n",
       "    .dataframe thead th {\n",
       "        text-align: right;\n",
       "    }\n",
       "</style>\n",
       "<table border=\"1\" class=\"dataframe\">\n",
       "  <thead>\n",
       "    <tr style=\"text-align: right;\">\n",
       "      <th></th>\n",
       "      <th>id</th>\n",
       "      <th>comment_text</th>\n",
       "      <th>toxic</th>\n",
       "      <th>severe_toxic</th>\n",
       "      <th>obscene</th>\n",
       "      <th>threat</th>\n",
       "      <th>insult</th>\n",
       "      <th>identity_hate</th>\n",
       "      <th>len</th>\n",
       "      <th>caps</th>\n",
       "      <th>...</th>\n",
       "      <th>offensive word</th>\n",
       "      <th>num offensive words</th>\n",
       "      <th>contains 'cock'</th>\n",
       "      <th>contains 'fucker'</th>\n",
       "      <th>contains 'bastard'</th>\n",
       "      <th>contains 'bullshit'</th>\n",
       "      <th>contains 'nipple'</th>\n",
       "      <th>contains 'murder'</th>\n",
       "      <th>contains 'rape'</th>\n",
       "      <th>contains 'shoot'</th>\n",
       "    </tr>\n",
       "  </thead>\n",
       "  <tbody>\n",
       "    <tr>\n",
       "      <th>0</th>\n",
       "      <td>0000997932d777bf</td>\n",
       "      <td>Explanation Why the edits made under my userna...</td>\n",
       "      <td>0</td>\n",
       "      <td>0</td>\n",
       "      <td>0</td>\n",
       "      <td>0</td>\n",
       "      <td>0</td>\n",
       "      <td>0</td>\n",
       "      <td>222</td>\n",
       "      <td>17</td>\n",
       "      <td>...</td>\n",
       "      <td>[]</td>\n",
       "      <td>0</td>\n",
       "      <td>0</td>\n",
       "      <td>0</td>\n",
       "      <td>0</td>\n",
       "      <td>0</td>\n",
       "      <td>0</td>\n",
       "      <td>0</td>\n",
       "      <td>0</td>\n",
       "      <td>0</td>\n",
       "    </tr>\n",
       "    <tr>\n",
       "      <th>1</th>\n",
       "      <td>000103f0d9cfb60f</td>\n",
       "      <td>D'aww! He matches this background colour I'm s...</td>\n",
       "      <td>0</td>\n",
       "      <td>0</td>\n",
       "      <td>0</td>\n",
       "      <td>0</td>\n",
       "      <td>0</td>\n",
       "      <td>0</td>\n",
       "      <td>95</td>\n",
       "      <td>8</td>\n",
       "      <td>...</td>\n",
       "      <td>[]</td>\n",
       "      <td>0</td>\n",
       "      <td>0</td>\n",
       "      <td>0</td>\n",
       "      <td>0</td>\n",
       "      <td>0</td>\n",
       "      <td>0</td>\n",
       "      <td>0</td>\n",
       "      <td>0</td>\n",
       "      <td>0</td>\n",
       "    </tr>\n",
       "    <tr>\n",
       "      <th>2</th>\n",
       "      <td>000113f07ec002fd</td>\n",
       "      <td>Hey man, I'm really not trying to edit war. It...</td>\n",
       "      <td>0</td>\n",
       "      <td>0</td>\n",
       "      <td>0</td>\n",
       "      <td>0</td>\n",
       "      <td>0</td>\n",
       "      <td>0</td>\n",
       "      <td>192</td>\n",
       "      <td>4</td>\n",
       "      <td>...</td>\n",
       "      <td>[]</td>\n",
       "      <td>0</td>\n",
       "      <td>0</td>\n",
       "      <td>0</td>\n",
       "      <td>0</td>\n",
       "      <td>0</td>\n",
       "      <td>0</td>\n",
       "      <td>0</td>\n",
       "      <td>0</td>\n",
       "      <td>0</td>\n",
       "    </tr>\n",
       "  </tbody>\n",
       "</table>\n",
       "<p>3 rows × 21 columns</p>\n",
       "</div>"
      ],
      "text/plain": [
       "                 id                                       comment_text  toxic  \\\n",
       "0  0000997932d777bf  Explanation Why the edits made under my userna...      0   \n",
       "1  000103f0d9cfb60f  D'aww! He matches this background colour I'm s...      0   \n",
       "2  000113f07ec002fd  Hey man, I'm really not trying to edit war. It...      0   \n",
       "\n",
       "   severe_toxic  obscene  threat  insult  identity_hate  len  caps  ...  \\\n",
       "0             0        0       0       0              0  222    17  ...   \n",
       "1             0        0       0       0              0   95     8  ...   \n",
       "2             0        0       0       0              0  192     4  ...   \n",
       "\n",
       "   offensive word num offensive words  contains 'cock'  contains 'fucker'  \\\n",
       "0              []                   0                0                  0   \n",
       "1              []                   0                0                  0   \n",
       "2              []                   0                0                  0   \n",
       "\n",
       "   contains 'bastard'  contains 'bullshit'  contains 'nipple'  \\\n",
       "0                   0                    0                  0   \n",
       "1                   0                    0                  0   \n",
       "2                   0                    0                  0   \n",
       "\n",
       "   contains 'murder'  contains 'rape'  contains 'shoot'  \n",
       "0                  0                0                 0  \n",
       "1                  0                0                 0  \n",
       "2                  0                0                 0  \n",
       "\n",
       "[3 rows x 21 columns]"
      ]
     },
     "execution_count": 57,
     "metadata": {},
     "output_type": "execute_result"
    }
   ],
   "source": [
    "comments_copy[\"contains 'rape'\"] = comments_copy['comment_text'].str.lower().str.contains('rape')\n",
    "comments_copy[\"contains 'rape'\"] = comments_copy[\"contains 'rape'\"].replace(False, 0).replace(True, 1).apply(int)\n",
    "\n",
    "comments_copy[\"contains 'shoot'\"] = comments_copy['comment_text'].str.lower().str.contains('shoot')\n",
    "comments_copy[\"contains 'shoot'\"] = comments_copy[\"contains 'shoot'\"].replace(False, 0).replace(True, 1).apply(int)\n",
    "\n",
    "comments_copy.head(3)"
   ]
  },
  {
   "cell_type": "code",
   "execution_count": 58,
   "metadata": {},
   "outputs": [
    {
     "data": {
      "text/html": [
       "<div>\n",
       "<style scoped>\n",
       "    .dataframe tbody tr th:only-of-type {\n",
       "        vertical-align: middle;\n",
       "    }\n",
       "\n",
       "    .dataframe tbody tr th {\n",
       "        vertical-align: top;\n",
       "    }\n",
       "\n",
       "    .dataframe thead th {\n",
       "        text-align: right;\n",
       "    }\n",
       "</style>\n",
       "<table border=\"1\" class=\"dataframe\">\n",
       "  <thead>\n",
       "    <tr style=\"text-align: right;\">\n",
       "      <th></th>\n",
       "      <th>comment_text</th>\n",
       "      <th>len</th>\n",
       "      <th>proportion of caps</th>\n",
       "      <th>num offensive words</th>\n",
       "      <th>contains 'cock'</th>\n",
       "      <th>contains 'fucker'</th>\n",
       "      <th>contains 'bastard'</th>\n",
       "      <th>contains 'bullshit'</th>\n",
       "      <th>contains 'nipple'</th>\n",
       "      <th>contains 'murder'</th>\n",
       "      <th>contains 'rape'</th>\n",
       "      <th>contains 'shoot'</th>\n",
       "    </tr>\n",
       "  </thead>\n",
       "  <tbody>\n",
       "    <tr>\n",
       "      <th>0</th>\n",
       "      <td>Explanation Why the edits made under my userna...</td>\n",
       "      <td>222</td>\n",
       "      <td>0.076577</td>\n",
       "      <td>0</td>\n",
       "      <td>0</td>\n",
       "      <td>0</td>\n",
       "      <td>0</td>\n",
       "      <td>0</td>\n",
       "      <td>0</td>\n",
       "      <td>0</td>\n",
       "      <td>0</td>\n",
       "      <td>0</td>\n",
       "    </tr>\n",
       "    <tr>\n",
       "      <th>1</th>\n",
       "      <td>D'aww! He matches this background colour I'm s...</td>\n",
       "      <td>95</td>\n",
       "      <td>0.084211</td>\n",
       "      <td>0</td>\n",
       "      <td>0</td>\n",
       "      <td>0</td>\n",
       "      <td>0</td>\n",
       "      <td>0</td>\n",
       "      <td>0</td>\n",
       "      <td>0</td>\n",
       "      <td>0</td>\n",
       "      <td>0</td>\n",
       "    </tr>\n",
       "    <tr>\n",
       "      <th>2</th>\n",
       "      <td>Hey man, I'm really not trying to edit war. It...</td>\n",
       "      <td>192</td>\n",
       "      <td>0.020833</td>\n",
       "      <td>0</td>\n",
       "      <td>0</td>\n",
       "      <td>0</td>\n",
       "      <td>0</td>\n",
       "      <td>0</td>\n",
       "      <td>0</td>\n",
       "      <td>0</td>\n",
       "      <td>0</td>\n",
       "      <td>0</td>\n",
       "    </tr>\n",
       "  </tbody>\n",
       "</table>\n",
       "</div>"
      ],
      "text/plain": [
       "                                        comment_text  len  proportion of caps  \\\n",
       "0  Explanation Why the edits made under my userna...  222            0.076577   \n",
       "1  D'aww! He matches this background colour I'm s...   95            0.084211   \n",
       "2  Hey man, I'm really not trying to edit war. It...  192            0.020833   \n",
       "\n",
       "   num offensive words  contains 'cock'  contains 'fucker'  \\\n",
       "0                    0                0                  0   \n",
       "1                    0                0                  0   \n",
       "2                    0                0                  0   \n",
       "\n",
       "   contains 'bastard'  contains 'bullshit'  contains 'nipple'  \\\n",
       "0                   0                    0                  0   \n",
       "1                   0                    0                  0   \n",
       "2                   0                    0                  0   \n",
       "\n",
       "   contains 'murder'  contains 'rape'  contains 'shoot'  \n",
       "0                  0                0                 0  \n",
       "1                  0                0                 0  \n",
       "2                  0                0                 0  "
      ]
     },
     "execution_count": 58,
     "metadata": {},
     "output_type": "execute_result"
    }
   ],
   "source": [
    "# dropping columns that won't be used for the input\n",
    "comments_copy = comments_copy.drop(['caps', 'offensive word', 'toxic', 'severe_toxic', 'id',\n",
    "                                    'obscene', 'threat', 'insult', 'identity_hate'], axis=1)\n",
    "comments_copy.head(3)"
   ]
  },
  {
   "cell_type": "markdown",
   "metadata": {},
   "source": [
    "### Applying the New Features w/ Tfidf"
   ]
  },
  {
   "cell_type": "markdown",
   "metadata": {},
   "source": [
    "### Train"
   ]
  },
  {
   "cell_type": "code",
   "execution_count": 59,
   "metadata": {},
   "outputs": [],
   "source": [
    "# Normalizing len\n",
    "len_min = comments_copy['len'].min()\n",
    "len_max = comments_copy['len'].max()\n",
    "comments_copy['len'] = (comments_copy['len'].values - len_min) / (len_max - len_min)"
   ]
  },
  {
   "cell_type": "code",
   "execution_count": 60,
   "metadata": {},
   "outputs": [
    {
     "data": {
      "text/html": [
       "<div>\n",
       "<style scoped>\n",
       "    .dataframe tbody tr th:only-of-type {\n",
       "        vertical-align: middle;\n",
       "    }\n",
       "\n",
       "    .dataframe tbody tr th {\n",
       "        vertical-align: top;\n",
       "    }\n",
       "\n",
       "    .dataframe thead th {\n",
       "        text-align: right;\n",
       "    }\n",
       "</style>\n",
       "<table border=\"1\" class=\"dataframe\">\n",
       "  <thead>\n",
       "    <tr style=\"text-align: right;\">\n",
       "      <th></th>\n",
       "      <th>comment_text</th>\n",
       "      <th>len</th>\n",
       "      <th>proportion of caps</th>\n",
       "      <th>num offensive words</th>\n",
       "      <th>contains 'cock'</th>\n",
       "      <th>contains 'fucker'</th>\n",
       "      <th>contains 'bastard'</th>\n",
       "      <th>contains 'bullshit'</th>\n",
       "      <th>contains 'nipple'</th>\n",
       "      <th>contains 'murder'</th>\n",
       "      <th>contains 'rape'</th>\n",
       "      <th>contains 'shoot'</th>\n",
       "    </tr>\n",
       "  </thead>\n",
       "  <tbody>\n",
       "    <tr>\n",
       "      <th>75144</th>\n",
       "      <td>I have added the newline sign back in you ca...</td>\n",
       "      <td>0.064919</td>\n",
       "      <td>0.030581</td>\n",
       "      <td>0</td>\n",
       "      <td>0</td>\n",
       "      <td>0</td>\n",
       "      <td>0</td>\n",
       "      <td>0</td>\n",
       "      <td>0</td>\n",
       "      <td>0</td>\n",
       "      <td>0</td>\n",
       "      <td>0</td>\n",
       "    </tr>\n",
       "    <tr>\n",
       "      <th>154769</th>\n",
       "      <td>Dont worry I think I fixed it But still looks ...</td>\n",
       "      <td>0.008871</td>\n",
       "      <td>0.081633</td>\n",
       "      <td>0</td>\n",
       "      <td>0</td>\n",
       "      <td>0</td>\n",
       "      <td>0</td>\n",
       "      <td>0</td>\n",
       "      <td>0</td>\n",
       "      <td>0</td>\n",
       "      <td>0</td>\n",
       "      <td>0</td>\n",
       "    </tr>\n",
       "    <tr>\n",
       "      <th>48346</th>\n",
       "      <td>Well it seems to me that you have a problem w...</td>\n",
       "      <td>0.077016</td>\n",
       "      <td>0.038760</td>\n",
       "      <td>0</td>\n",
       "      <td>0</td>\n",
       "      <td>0</td>\n",
       "      <td>0</td>\n",
       "      <td>0</td>\n",
       "      <td>0</td>\n",
       "      <td>0</td>\n",
       "      <td>0</td>\n",
       "      <td>0</td>\n",
       "    </tr>\n",
       "  </tbody>\n",
       "</table>\n",
       "</div>"
      ],
      "text/plain": [
       "                                             comment_text       len  \\\n",
       "75144     I have added the newline sign back in you ca...  0.064919   \n",
       "154769  Dont worry I think I fixed it But still looks ...  0.008871   \n",
       "48346    Well it seems to me that you have a problem w...  0.077016   \n",
       "\n",
       "        proportion of caps  num offensive words  contains 'cock'  \\\n",
       "75144             0.030581                    0                0   \n",
       "154769            0.081633                    0                0   \n",
       "48346             0.038760                    0                0   \n",
       "\n",
       "        contains 'fucker'  contains 'bastard'  contains 'bullshit'  \\\n",
       "75144                   0                   0                    0   \n",
       "154769                  0                   0                    0   \n",
       "48346                   0                   0                    0   \n",
       "\n",
       "        contains 'nipple'  contains 'murder'  contains 'rape'  \\\n",
       "75144                   0                  0                0   \n",
       "154769                  0                  0                0   \n",
       "48346                   0                  0                0   \n",
       "\n",
       "        contains 'shoot'  \n",
       "75144                  0  \n",
       "154769                 0  \n",
       "48346                  0  "
      ]
     },
     "execution_count": 60,
     "metadata": {},
     "output_type": "execute_result"
    }
   ],
   "source": [
    "comments_copy['comment_text'] = comments_copy['comment_text'].str.replace(r\"[(\\.),(\\|)!:='&(\\\")]\", \"\")\n",
    "X_train, X_test, Y_train, Y_test = train_test_split(comments_copy, comments.iloc[:,2:], random_state=42)\n",
    "\n",
    "X_train.head(3)"
   ]
  },
  {
   "cell_type": "markdown",
   "metadata": {},
   "source": [
    "Applying the model on one label before applying it to all."
   ]
  },
  {
   "cell_type": "code",
   "execution_count": 62,
   "metadata": {},
   "outputs": [],
   "source": [
    "from scipy.sparse import hstack\n",
    "\n",
    "# Using Tfidf (analyzer='word')\n",
    "vectorizer = TfidfVectorizer(max_features=10000, lowercase=True, analyzer='word', \n",
    "                             stop_words= 'english', ngram_range=(1,3), dtype=np.float32)\n",
    "vectored_X_train = vectorizer.fit_transform(X_train['comment_text'])\n",
    "\n",
    "final_X_train = hstack([vectored_X_train, X_train.iloc[:,1:]])"
   ]
  },
  {
   "cell_type": "code",
   "execution_count": 63,
   "metadata": {},
   "outputs": [
    {
     "name": "stdout",
     "output_type": "stream",
     "text": [
      "Training Accuracy:  0.9601764735373252\n"
     ]
    }
   ],
   "source": [
    "# Training a logistic regression classifier\n",
    "lr = LogisticRegression(random_state=42, solver='lbfgs').fit(final_X_train, Y_train.iloc[:,0])\n",
    "\n",
    "training_accuracy = lr.score(final_X_train, Y_train.iloc[:,0])\n",
    "print(\"Training Accuracy: \", training_accuracy)"
   ]
  },
  {
   "cell_type": "markdown",
   "metadata": {},
   "source": [
    "Applying the model to all labels: toxic, severe_toxic, obscene, threat, insult, identity_hate"
   ]
  },
  {
   "cell_type": "code",
   "execution_count": 64,
   "metadata": {},
   "outputs": [
    {
     "name": "stdout",
     "output_type": "stream",
     "text": [
      "Training Accuracy for label toxic:  0.9601764735373252\n",
      "Training Accuracy for label severe_toxic:  0.9907251123848995\n",
      "Training Accuracy for label obscene:  0.979261017062451\n",
      "Training Accuracy for label threat:  0.9970838416417387\n",
      "Training Accuracy for label insult:  0.9724176540383362\n",
      "Training Accuracy for label identity_hate:  0.9922876384966326\n"
     ]
    }
   ],
   "source": [
    "labels = list(Y_train.columns)\n",
    "for i in range(len(labels)):\n",
    "    lr = LogisticRegression(random_state=42, solver='lbfgs').fit(final_X_train, Y_train.iloc[:,i])\n",
    "    training_accuracy = lr.score(final_X_train, Y_train.iloc[:,i])\n",
    "    print(\"Training Accuracy for label {}: \".format(labels[i]), training_accuracy)"
   ]
  },
  {
   "cell_type": "markdown",
   "metadata": {},
   "source": [
    "### Test"
   ]
  },
  {
   "cell_type": "code",
   "execution_count": 65,
   "metadata": {},
   "outputs": [
    {
     "name": "stdout",
     "output_type": "stream",
     "text": [
      "Test Accuracy:  0.904319053468027\n"
     ]
    }
   ],
   "source": [
    "vectored_X_test = vectorizer.fit_transform(X_test['comment_text'])\n",
    "final_X_test = hstack([vectored_X_test, X_test.iloc[:,1:]])\n",
    "\n",
    "test_accuracy = lr.score(final_X_test, Y_test.iloc[:,0])\n",
    "print(\"Test Accuracy: \", test_accuracy)"
   ]
  },
  {
   "cell_type": "code",
   "execution_count": 66,
   "metadata": {},
   "outputs": [
    {
     "name": "stdout",
     "output_type": "stream",
     "text": [
      "Test Accuracy for label toxic:  0.904319053468027\n",
      "Test Accuracy for label severe_toxic:  0.9897726418168601\n",
      "Test Accuracy for label obscene:  0.9462311683754042\n",
      "Test Accuracy for label threat:  0.9973178251823628\n",
      "Test Accuracy for label insult:  0.9495400195523024\n",
      "Test Accuracy for label identity_hate:  0.9910009274810117\n"
     ]
    }
   ],
   "source": [
    "for i in range(len(labels)):\n",
    "    test_accuracy = lr.score(final_X_test, Y_test.iloc[:,i])\n",
    "    print(\"Test Accuracy for label {}: \".format(labels[i]), test_accuracy)"
   ]
  },
  {
   "cell_type": "markdown",
   "metadata": {},
   "source": [
    "_____"
   ]
  },
  {
   "cell_type": "markdown",
   "metadata": {},
   "source": [
    "# Model 3 - Using Tfidf 'char' in Addition to Tfidf 'word' and Features"
   ]
  },
  {
   "cell_type": "code",
   "execution_count": 67,
   "metadata": {},
   "outputs": [],
   "source": [
    "# Tfidf analyzer='word'\n",
    "word_vectorizer = TfidfVectorizer(max_features=10000, lowercase=True, analyzer='word', \n",
    "                             stop_words= 'english', ngram_range=(1,3), dtype=np.float32)\n",
    "word_X_train = word_vectorizer.fit_transform(X_train['comment_text'])\n",
    "\n",
    "# Tfidf analyzer='char'\n",
    "char_vectorizer = TfidfVectorizer(max_features=30000, lowercase=True, analyzer='char', \n",
    "                             stop_words= 'english', ngram_range=(2,5), dtype=np.float32)\n",
    "char_X_train = char_vectorizer.fit_transform(X_train['comment_text'])\n",
    "\n",
    "# Combining all features\n",
    "word_and_char = hstack([char_X_train, word_X_train])\n",
    "final_X_train = hstack([word_and_char, X_train.iloc[:,1:]])"
   ]
  },
  {
   "cell_type": "code",
   "execution_count": 68,
   "metadata": {},
   "outputs": [
    {
     "name": "stdout",
     "output_type": "stream",
     "text": [
      "Training Accuracy:  0.9692758903056535\n"
     ]
    }
   ],
   "source": [
    "lr = LogisticRegression(random_state=42, solver='lbfgs').fit(final_X_train, Y_train.iloc[:,0])\n",
    "\n",
    "training_accuracy = lr.score(final_X_train, Y_train.iloc[:,0])\n",
    "print(\"Training Accuracy: \", training_accuracy)"
   ]
  },
  {
   "cell_type": "code",
   "execution_count": 69,
   "metadata": {},
   "outputs": [
    {
     "name": "stdout",
     "output_type": "stream",
     "text": [
      "Training Accuracy for label toxic:  0.9692758903056535\n",
      "Training Accuracy for label severe_toxic:  0.9915606878457194\n",
      "Training Accuracy for label obscene:  0.9814836477882317\n",
      "Training Accuracy for label threat:  0.9976520329550962\n",
      "Training Accuracy for label insult:  0.9761276090843765\n",
      "Training Accuracy for label identity_hate:  0.9934574441417805\n"
     ]
    }
   ],
   "source": [
    "labels = list(Y_train.columns)\n",
    "for i in range(len(labels)):\n",
    "    lr = LogisticRegression(random_state=42, solver='lbfgs').fit(final_X_train, Y_train.iloc[:,i])\n",
    "    training_accuracy = lr.score(final_X_train, Y_train.iloc[:,i])\n",
    "    print(\"Training Accuracy for label {}: \".format(labels[i]), training_accuracy)"
   ]
  },
  {
   "cell_type": "markdown",
   "metadata": {},
   "source": [
    "Generally a slight improvement on all labels except the 'toxic' label."
   ]
  },
  {
   "cell_type": "code",
   "execution_count": 70,
   "metadata": {},
   "outputs": [
    {
     "name": "stdout",
     "output_type": "stream",
     "text": [
      "Test Accuracy:  0.9043691875767679\n"
     ]
    }
   ],
   "source": [
    "word_X_test = word_vectorizer.fit_transform(X_test['comment_text'])\n",
    "char_X_test = char_vectorizer.fit_transform(X_test['comment_text'])\n",
    "\n",
    "word_and_char_test = hstack([char_X_test, word_X_test])\n",
    "final_X_test = hstack([word_and_char_test, X_test.iloc[:,1:]])\n",
    "\n",
    "test_accuracy = lr.score(final_X_test, Y_test.iloc[:,0])\n",
    "print(\"Test Accuracy: \", test_accuracy)"
   ]
  },
  {
   "cell_type": "code",
   "execution_count": 71,
   "metadata": {},
   "outputs": [
    {
     "name": "stdout",
     "output_type": "stream",
     "text": [
      "Test Accuracy for label toxic:  0.9043691875767679\n",
      "Test Accuracy for label severe_toxic:  0.989822775925601\n",
      "Test Accuracy for label obscene:  0.9462813024841451\n",
      "Test Accuracy for label threat:  0.9973679592911037\n",
      "Test Accuracy for label insult:  0.9495901536610433\n",
      "Test Accuracy for label identity_hate:  0.9910510615897525\n"
     ]
    }
   ],
   "source": [
    "for i in range(len(labels)):\n",
    "    test_accuracy = lr.score(final_X_test, Y_test.iloc[:,i])\n",
    "    print(\"Test Accuracy for label {}: \".format(labels[i]), test_accuracy)"
   ]
  },
  {
   "cell_type": "markdown",
   "metadata": {},
   "source": [
    "Generally no improvement for the test accuracy."
   ]
  },
  {
   "cell_type": "markdown",
   "metadata": {},
   "source": [
    "_____"
   ]
  },
  {
   "cell_type": "markdown",
   "metadata": {},
   "source": [
    "# Summary"
   ]
  },
  {
   "cell_type": "markdown",
   "metadata": {},
   "source": [
    "**Model 1 - Tfidf word only**\n",
    "* Training Accuracy for label toxic:  0.9593241865672889\n",
    "* Training Accuracy for label severe_toxic:  0.9907585354033323\n",
    "* Training Accuracy for label obscene:  0.9795868914921707\n",
    "* Training Accuracy for label threat:  0.9970671301325222\n",
    "* Training Accuracy for label insult:  0.9731362489346412\n",
    "* Training Accuracy for label identity_hate:  0.9924547535887966\n",
    "\n",
    "**Model 2 - Tfidf word with features**\n",
    "* Training Accuracy for label toxic:  0.9601764735373252\n",
    "* Training Accuracy for label severe_toxic:  0.9907251123848995\n",
    "* Training Accuracy for label obscene:  0.979261017062451\n",
    "* Training Accuracy for label threat:  0.9970838416417387\n",
    "* Training Accuracy for label insult:  0.9724176540383362\n",
    "* Training Accuracy for label identity_hate:  0.9922876384966326\n",
    "\n",
    "**Model 3 - Tfidf word, Tfidf char, and features**\n",
    "* Training Accuracy for label toxic:  0.9692758903056535\n",
    "* Training Accuracy for label severe_toxic:  0.9915606878457194\n",
    "* Training Accuracy for label obscene:  0.9814836477882317\n",
    "* Training Accuracy for label threat:  0.9976520329550962\n",
    "* Training Accuracy for label insult:  0.9761276090843765\n",
    "* Training Accuracy for label identity_hate:  0.9934574441417805"
   ]
  },
  {
   "cell_type": "markdown",
   "metadata": {},
   "source": [
    "# Section Conclusion"
   ]
  },
  {
   "cell_type": "markdown",
   "metadata": {},
   "source": [
    "With additional features to Tfidf 'word' [Model 2], the train accuracies improved from [Model 1], though only slightly. With Tfidf analyzer='char' on top of Tfidf analyzer='word' and the features [Model 3], the accuracy slightly increased again. [Model 3] worked the best on the train set."
   ]
  },
  {
   "cell_type": "markdown",
   "metadata": {},
   "source": [
    "____"
   ]
  },
  {
   "cell_type": "markdown",
   "metadata": {},
   "source": [
    "# Submission\n",
    "* Note: For the Kaggle submission, probabilities of labels are submitted, not the predicted labels themselves."
   ]
  },
  {
   "cell_type": "markdown",
   "metadata": {},
   "source": [
    "## Model 3 will be used for the first submission."
   ]
  },
  {
   "cell_type": "code",
   "execution_count": 72,
   "metadata": {},
   "outputs": [
    {
     "data": {
      "text/html": [
       "<div>\n",
       "<style scoped>\n",
       "    .dataframe tbody tr th:only-of-type {\n",
       "        vertical-align: middle;\n",
       "    }\n",
       "\n",
       "    .dataframe tbody tr th {\n",
       "        vertical-align: top;\n",
       "    }\n",
       "\n",
       "    .dataframe thead th {\n",
       "        text-align: right;\n",
       "    }\n",
       "</style>\n",
       "<table border=\"1\" class=\"dataframe\">\n",
       "  <thead>\n",
       "    <tr style=\"text-align: right;\">\n",
       "      <th></th>\n",
       "      <th>id</th>\n",
       "      <th>comment_text</th>\n",
       "      <th>len</th>\n",
       "      <th>caps</th>\n",
       "      <th>proportion of caps</th>\n",
       "      <th>offensive word</th>\n",
       "      <th>num offensive words</th>\n",
       "      <th>contains 'cock'</th>\n",
       "      <th>contains 'fucker'</th>\n",
       "      <th>contains 'bastard'</th>\n",
       "      <th>contains 'bullshit'</th>\n",
       "      <th>contains 'nipple'</th>\n",
       "      <th>contains 'murder'</th>\n",
       "      <th>contains 'rape'</th>\n",
       "      <th>contains 'shoot'</th>\n",
       "    </tr>\n",
       "  </thead>\n",
       "  <tbody>\n",
       "    <tr>\n",
       "      <th>0</th>\n",
       "      <td>00001cee341fdb12</td>\n",
       "      <td>Yo bitch Ja Rule is more succesful then youll ...</td>\n",
       "      <td>0.056914</td>\n",
       "      <td>4</td>\n",
       "      <td>0.014085</td>\n",
       "      <td>[bitch, bitch, ass, shit]</td>\n",
       "      <td>4</td>\n",
       "      <td>0</td>\n",
       "      <td>0</td>\n",
       "      <td>0</td>\n",
       "      <td>0</td>\n",
       "      <td>0</td>\n",
       "      <td>0</td>\n",
       "      <td>0</td>\n",
       "      <td>0</td>\n",
       "    </tr>\n",
       "    <tr>\n",
       "      <th>1</th>\n",
       "      <td>0000247867823ef7</td>\n",
       "      <td>From RfC   The title is fine as it is IMO</td>\n",
       "      <td>0.006012</td>\n",
       "      <td>7</td>\n",
       "      <td>0.233333</td>\n",
       "      <td>[]</td>\n",
       "      <td>0</td>\n",
       "      <td>0</td>\n",
       "      <td>0</td>\n",
       "      <td>0</td>\n",
       "      <td>0</td>\n",
       "      <td>0</td>\n",
       "      <td>0</td>\n",
       "      <td>0</td>\n",
       "      <td>0</td>\n",
       "    </tr>\n",
       "    <tr>\n",
       "      <th>2</th>\n",
       "      <td>00013b17ad220c46</td>\n",
       "      <td>Sources    Zawe Ashton on Lapland —  /</td>\n",
       "      <td>0.005611</td>\n",
       "      <td>4</td>\n",
       "      <td>0.142857</td>\n",
       "      <td>[]</td>\n",
       "      <td>0</td>\n",
       "      <td>0</td>\n",
       "      <td>0</td>\n",
       "      <td>0</td>\n",
       "      <td>0</td>\n",
       "      <td>0</td>\n",
       "      <td>0</td>\n",
       "      <td>0</td>\n",
       "      <td>0</td>\n",
       "    </tr>\n",
       "  </tbody>\n",
       "</table>\n",
       "</div>"
      ],
      "text/plain": [
       "                 id                                       comment_text  \\\n",
       "0  00001cee341fdb12  Yo bitch Ja Rule is more succesful then youll ...   \n",
       "1  0000247867823ef7          From RfC   The title is fine as it is IMO   \n",
       "2  00013b17ad220c46           Sources    Zawe Ashton on Lapland —  /     \n",
       "\n",
       "        len  caps  proportion of caps             offensive word  \\\n",
       "0  0.056914     4            0.014085  [bitch, bitch, ass, shit]   \n",
       "1  0.006012     7            0.233333                         []   \n",
       "2  0.005611     4            0.142857                         []   \n",
       "\n",
       "   num offensive words  contains 'cock'  contains 'fucker'  \\\n",
       "0                    4                0                  0   \n",
       "1                    0                0                  0   \n",
       "2                    0                0                  0   \n",
       "\n",
       "   contains 'bastard'  contains 'bullshit'  contains 'nipple'  \\\n",
       "0                   0                    0                  0   \n",
       "1                   0                    0                  0   \n",
       "2                   0                    0                  0   \n",
       "\n",
       "   contains 'murder'  contains 'rape'  contains 'shoot'  \n",
       "0                  0                0                 0  \n",
       "1                  0                0                 0  \n",
       "2                  0                0                 0  "
      ]
     },
     "execution_count": 72,
     "metadata": {},
     "output_type": "execute_result"
    }
   ],
   "source": [
    "# SUBMISSION (applying model to test.csv)\n",
    "testing = test.copy()\n",
    "\n",
    "# Cleaning strings\n",
    "testing['comment_text'] = testing['comment_text'].str.replace(r\"[(\\.),(\\|)!:='&(\\*)(\\\")]\", \"\")\n",
    "testing['comment_text'] = testing['comment_text'].str.replace(\"\\n\", \"\")\n",
    "\n",
    "# Getting length\n",
    "testing['len'] = testing['comment_text'].apply(len) - testing['comment_text'].str.count(\" \")\n",
    "len_min = testing['len'].min()\n",
    "len_max = testing['len'].max()\n",
    "testing['len'] = (testing['len'].values - len_min) / (len_max - len_min)\n",
    "\n",
    "# Getting proportion of caps\n",
    "testing['caps'] = testing['comment_text'].apply(num_upper)\n",
    "testing['proportion of caps'] = testing['caps'] / testing['len']\n",
    "\n",
    "# Getting number of offensive words\n",
    "testing['offensive word'] = testing['comment_text'].apply(updated_offensive_word)\n",
    "testing['num offensive words'] = testing['offensive word'].apply(len)\n",
    "\n",
    "# Getting containment of specific offensive words\n",
    "testing[\"contains 'cock'\"] = testing['comment_text'].str.lower().str.contains('cock')\n",
    "testing[\"contains 'cock'\"] = testing[\"contains 'cock'\"].replace(False, 0).replace(True, 1).apply(int)\n",
    "testing[\"contains 'fucker'\"] = testing['comment_text'].str.lower().str.contains('fucker')\n",
    "testing[\"contains 'fucker'\"] = testing[\"contains 'fucker'\"].replace(False, 0).replace(True, 1).apply(int)\n",
    "testing[\"contains 'bastard'\"] = testing['comment_text'].str.lower().str.contains('bastard')\n",
    "testing[\"contains 'bastard'\"] = testing[\"contains 'bastard'\"].replace(False, 0).replace(True, 1).apply(int)\n",
    "testing[\"contains 'bullshit'\"] = testing['comment_text'].str.lower().str.contains('bullshit')\n",
    "testing[\"contains 'bullshit'\"] = testing[\"contains 'bullshit'\"].replace(False, 0).replace(True, 1).apply(int)\n",
    "testing[\"contains 'nipple'\"] = testing['comment_text'].str.lower().str.contains('nipple')\n",
    "testing[\"contains 'nipple'\"] = testing[\"contains 'nipple'\"].replace(False, 0).replace(True, 1).apply(int)\n",
    "testing[\"contains 'murder'\"] = testing['comment_text'].str.lower().str.contains('murder')\n",
    "testing[\"contains 'murder'\"] = testing[\"contains 'murder'\"].replace(False, 0).replace(True, 1).apply(int)\n",
    "testing[\"contains 'rape'\"] = testing['comment_text'].str.lower().str.contains('rape')\n",
    "testing[\"contains 'rape'\"] = testing[\"contains 'rape'\"].replace(False, 0).replace(True, 1).apply(int)\n",
    "testing[\"contains 'shoot'\"] = testing['comment_text'].str.lower().str.contains('shoot')\n",
    "testing[\"contains 'shoot'\"] = testing[\"contains 'shoot'\"].replace(False, 0).replace(True, 1).apply(int)\n",
    "\n",
    "testing.head(3)"
   ]
  },
  {
   "cell_type": "code",
   "execution_count": 73,
   "metadata": {},
   "outputs": [
    {
     "data": {
      "text/html": [
       "<div>\n",
       "<style scoped>\n",
       "    .dataframe tbody tr th:only-of-type {\n",
       "        vertical-align: middle;\n",
       "    }\n",
       "\n",
       "    .dataframe tbody tr th {\n",
       "        vertical-align: top;\n",
       "    }\n",
       "\n",
       "    .dataframe thead th {\n",
       "        text-align: right;\n",
       "    }\n",
       "</style>\n",
       "<table border=\"1\" class=\"dataframe\">\n",
       "  <thead>\n",
       "    <tr style=\"text-align: right;\">\n",
       "      <th></th>\n",
       "      <th>comment_text</th>\n",
       "      <th>len</th>\n",
       "      <th>proportion of caps</th>\n",
       "      <th>num offensive words</th>\n",
       "      <th>contains 'cock'</th>\n",
       "      <th>contains 'fucker'</th>\n",
       "      <th>contains 'bastard'</th>\n",
       "      <th>contains 'bullshit'</th>\n",
       "      <th>contains 'nipple'</th>\n",
       "      <th>contains 'murder'</th>\n",
       "      <th>contains 'rape'</th>\n",
       "      <th>contains 'shoot'</th>\n",
       "    </tr>\n",
       "  </thead>\n",
       "  <tbody>\n",
       "    <tr>\n",
       "      <th>0</th>\n",
       "      <td>Yo bitch Ja Rule is more succesful then youll ...</td>\n",
       "      <td>0.056914</td>\n",
       "      <td>0.014085</td>\n",
       "      <td>4</td>\n",
       "      <td>0</td>\n",
       "      <td>0</td>\n",
       "      <td>0</td>\n",
       "      <td>0</td>\n",
       "      <td>0</td>\n",
       "      <td>0</td>\n",
       "      <td>0</td>\n",
       "      <td>0</td>\n",
       "    </tr>\n",
       "    <tr>\n",
       "      <th>1</th>\n",
       "      <td>From RfC   The title is fine as it is IMO</td>\n",
       "      <td>0.006012</td>\n",
       "      <td>0.233333</td>\n",
       "      <td>0</td>\n",
       "      <td>0</td>\n",
       "      <td>0</td>\n",
       "      <td>0</td>\n",
       "      <td>0</td>\n",
       "      <td>0</td>\n",
       "      <td>0</td>\n",
       "      <td>0</td>\n",
       "      <td>0</td>\n",
       "    </tr>\n",
       "    <tr>\n",
       "      <th>2</th>\n",
       "      <td>Sources    Zawe Ashton on Lapland —  /</td>\n",
       "      <td>0.005611</td>\n",
       "      <td>0.142857</td>\n",
       "      <td>0</td>\n",
       "      <td>0</td>\n",
       "      <td>0</td>\n",
       "      <td>0</td>\n",
       "      <td>0</td>\n",
       "      <td>0</td>\n",
       "      <td>0</td>\n",
       "      <td>0</td>\n",
       "      <td>0</td>\n",
       "    </tr>\n",
       "  </tbody>\n",
       "</table>\n",
       "</div>"
      ],
      "text/plain": [
       "                                        comment_text       len  \\\n",
       "0  Yo bitch Ja Rule is more succesful then youll ...  0.056914   \n",
       "1          From RfC   The title is fine as it is IMO  0.006012   \n",
       "2           Sources    Zawe Ashton on Lapland —  /    0.005611   \n",
       "\n",
       "   proportion of caps  num offensive words  contains 'cock'  \\\n",
       "0            0.014085                    4                0   \n",
       "1            0.233333                    0                0   \n",
       "2            0.142857                    0                0   \n",
       "\n",
       "   contains 'fucker'  contains 'bastard'  contains 'bullshit'  \\\n",
       "0                  0                   0                    0   \n",
       "1                  0                   0                    0   \n",
       "2                  0                   0                    0   \n",
       "\n",
       "   contains 'nipple'  contains 'murder'  contains 'rape'  contains 'shoot'  \n",
       "0                  0                  0                0                 0  \n",
       "1                  0                  0                0                 0  \n",
       "2                  0                  0                0                 0  "
      ]
     },
     "execution_count": 73,
     "metadata": {},
     "output_type": "execute_result"
    }
   ],
   "source": [
    "# When len=0 (comment_text is empty), proportion of caps is 0 - Accounting for division by 0, which gives NA\n",
    "testing['proportion of caps'] = testing['proportion of caps'].fillna(0)\n",
    "testing = testing.drop(['id', 'caps', 'offensive word'], axis=1)\n",
    "testing.head(3)"
   ]
  },
  {
   "cell_type": "code",
   "execution_count": 74,
   "metadata": {},
   "outputs": [],
   "source": [
    "# Tfidf analyzer='word'\n",
    "word_vectorizer = TfidfVectorizer(max_features=10000, lowercase=True, analyzer='word', \n",
    "                             stop_words= 'english', ngram_range=(1,3), dtype=np.float32)\n",
    "word_testing = word_vectorizer.fit_transform(testing['comment_text'])\n",
    "\n",
    "# Tfidf analyzer='char'\n",
    "char_vectorizer = TfidfVectorizer(max_features=30000, lowercase=True, analyzer='char', \n",
    "                             stop_words= 'english', ngram_range=(2,5), dtype=np.float32)\n",
    "char_testing = char_vectorizer.fit_transform(testing['comment_text'])\n",
    "\n",
    "# Combining all features\n",
    "word_and_char = hstack([char_testing, word_testing])\n",
    "final_testing = hstack([word_and_char, testing.iloc[:,1:]])"
   ]
  },
  {
   "cell_type": "code",
   "execution_count": 75,
   "metadata": {},
   "outputs": [],
   "source": [
    "results = {}\n",
    "for i in range(len(labels)):\n",
    "    lr = LogisticRegression(random_state=42, solver='lbfgs').fit(final_X_train, Y_train.iloc[:,i])\n",
    "    results[labels[i]] = lr.predict_proba(final_testing)[:,1]"
   ]
  },
  {
   "cell_type": "code",
   "execution_count": 77,
   "metadata": {},
   "outputs": [
    {
     "data": {
      "text/html": [
       "<div>\n",
       "<style scoped>\n",
       "    .dataframe tbody tr th:only-of-type {\n",
       "        vertical-align: middle;\n",
       "    }\n",
       "\n",
       "    .dataframe tbody tr th {\n",
       "        vertical-align: top;\n",
       "    }\n",
       "\n",
       "    .dataframe thead th {\n",
       "        text-align: right;\n",
       "    }\n",
       "</style>\n",
       "<table border=\"1\" class=\"dataframe\">\n",
       "  <thead>\n",
       "    <tr style=\"text-align: right;\">\n",
       "      <th></th>\n",
       "      <th>id</th>\n",
       "      <th>toxic</th>\n",
       "      <th>severe_toxic</th>\n",
       "      <th>obscene</th>\n",
       "      <th>threat</th>\n",
       "      <th>insult</th>\n",
       "      <th>identity_hate</th>\n",
       "    </tr>\n",
       "  </thead>\n",
       "  <tbody>\n",
       "    <tr>\n",
       "      <th>0</th>\n",
       "      <td>00001cee341fdb12</td>\n",
       "      <td>0.077568</td>\n",
       "      <td>0.005814</td>\n",
       "      <td>0.025874</td>\n",
       "      <td>0.002086</td>\n",
       "      <td>0.018496</td>\n",
       "      <td>0.005608</td>\n",
       "    </tr>\n",
       "    <tr>\n",
       "      <th>1</th>\n",
       "      <td>0000247867823ef7</td>\n",
       "      <td>0.025722</td>\n",
       "      <td>0.005526</td>\n",
       "      <td>0.019768</td>\n",
       "      <td>0.002060</td>\n",
       "      <td>0.009690</td>\n",
       "      <td>0.004742</td>\n",
       "    </tr>\n",
       "    <tr>\n",
       "      <th>2</th>\n",
       "      <td>00013b17ad220c46</td>\n",
       "      <td>0.046006</td>\n",
       "      <td>0.004934</td>\n",
       "      <td>0.013775</td>\n",
       "      <td>0.001404</td>\n",
       "      <td>0.008413</td>\n",
       "      <td>0.003110</td>\n",
       "    </tr>\n",
       "    <tr>\n",
       "      <th>3</th>\n",
       "      <td>00017563c3f7919a</td>\n",
       "      <td>0.029407</td>\n",
       "      <td>0.003708</td>\n",
       "      <td>0.015723</td>\n",
       "      <td>0.001257</td>\n",
       "      <td>0.012490</td>\n",
       "      <td>0.003266</td>\n",
       "    </tr>\n",
       "    <tr>\n",
       "      <th>4</th>\n",
       "      <td>00017695ad8997eb</td>\n",
       "      <td>0.041622</td>\n",
       "      <td>0.003538</td>\n",
       "      <td>0.020288</td>\n",
       "      <td>0.001588</td>\n",
       "      <td>0.013522</td>\n",
       "      <td>0.003676</td>\n",
       "    </tr>\n",
       "    <tr>\n",
       "      <th>...</th>\n",
       "      <td>...</td>\n",
       "      <td>...</td>\n",
       "      <td>...</td>\n",
       "      <td>...</td>\n",
       "      <td>...</td>\n",
       "      <td>...</td>\n",
       "      <td>...</td>\n",
       "    </tr>\n",
       "    <tr>\n",
       "      <th>153159</th>\n",
       "      <td>fffcd0960ee309b5</td>\n",
       "      <td>0.011509</td>\n",
       "      <td>0.002785</td>\n",
       "      <td>0.012354</td>\n",
       "      <td>0.001432</td>\n",
       "      <td>0.006537</td>\n",
       "      <td>0.002650</td>\n",
       "    </tr>\n",
       "    <tr>\n",
       "      <th>153160</th>\n",
       "      <td>fffd7a9a6eb32c16</td>\n",
       "      <td>0.049840</td>\n",
       "      <td>0.004101</td>\n",
       "      <td>0.025078</td>\n",
       "      <td>0.001406</td>\n",
       "      <td>0.015538</td>\n",
       "      <td>0.004058</td>\n",
       "    </tr>\n",
       "    <tr>\n",
       "      <th>153161</th>\n",
       "      <td>fffda9e8d6fafa9e</td>\n",
       "      <td>0.017827</td>\n",
       "      <td>0.004324</td>\n",
       "      <td>0.013419</td>\n",
       "      <td>0.001715</td>\n",
       "      <td>0.007631</td>\n",
       "      <td>0.003724</td>\n",
       "    </tr>\n",
       "    <tr>\n",
       "      <th>153162</th>\n",
       "      <td>fffe8f1340a79fc2</td>\n",
       "      <td>0.072815</td>\n",
       "      <td>0.005065</td>\n",
       "      <td>0.024154</td>\n",
       "      <td>0.001917</td>\n",
       "      <td>0.019788</td>\n",
       "      <td>0.006898</td>\n",
       "    </tr>\n",
       "    <tr>\n",
       "      <th>153163</th>\n",
       "      <td>ffffce3fb183ee80</td>\n",
       "      <td>0.176952</td>\n",
       "      <td>0.004390</td>\n",
       "      <td>0.144814</td>\n",
       "      <td>0.002278</td>\n",
       "      <td>0.022303</td>\n",
       "      <td>0.002863</td>\n",
       "    </tr>\n",
       "  </tbody>\n",
       "</table>\n",
       "<p>153164 rows × 7 columns</p>\n",
       "</div>"
      ],
      "text/plain": [
       "                      id     toxic  severe_toxic   obscene    threat  \\\n",
       "0       00001cee341fdb12  0.077568      0.005814  0.025874  0.002086   \n",
       "1       0000247867823ef7  0.025722      0.005526  0.019768  0.002060   \n",
       "2       00013b17ad220c46  0.046006      0.004934  0.013775  0.001404   \n",
       "3       00017563c3f7919a  0.029407      0.003708  0.015723  0.001257   \n",
       "4       00017695ad8997eb  0.041622      0.003538  0.020288  0.001588   \n",
       "...                  ...       ...           ...       ...       ...   \n",
       "153159  fffcd0960ee309b5  0.011509      0.002785  0.012354  0.001432   \n",
       "153160  fffd7a9a6eb32c16  0.049840      0.004101  0.025078  0.001406   \n",
       "153161  fffda9e8d6fafa9e  0.017827      0.004324  0.013419  0.001715   \n",
       "153162  fffe8f1340a79fc2  0.072815      0.005065  0.024154  0.001917   \n",
       "153163  ffffce3fb183ee80  0.176952      0.004390  0.144814  0.002278   \n",
       "\n",
       "          insult  identity_hate  \n",
       "0       0.018496       0.005608  \n",
       "1       0.009690       0.004742  \n",
       "2       0.008413       0.003110  \n",
       "3       0.012490       0.003266  \n",
       "4       0.013522       0.003676  \n",
       "...          ...            ...  \n",
       "153159  0.006537       0.002650  \n",
       "153160  0.015538       0.004058  \n",
       "153161  0.007631       0.003724  \n",
       "153162  0.019788       0.006898  \n",
       "153163  0.022303       0.002863  \n",
       "\n",
       "[153164 rows x 7 columns]"
      ]
     },
     "execution_count": 77,
     "metadata": {},
     "output_type": "execute_result"
    }
   ],
   "source": [
    "submission = pd.DataFrame({'id': test['id']})\n",
    "submission['toxic'] = results['toxic']\n",
    "submission['severe_toxic'] = results['severe_toxic']\n",
    "submission['obscene'] = results['obscene']\n",
    "submission['threat'] = results['threat']\n",
    "submission['insult'] = results['insult']\n",
    "submission['identity_hate'] = results['identity_hate']\n",
    "submission"
   ]
  },
  {
   "cell_type": "code",
   "execution_count": 78,
   "metadata": {},
   "outputs": [],
   "source": [
    "# submission.to_csv('submission.csv', index=False)"
   ]
  },
  {
   "cell_type": "markdown",
   "metadata": {},
   "source": [
    "### This model received a score of .77. Further testing will be done below."
   ]
  },
  {
   "cell_type": "markdown",
   "metadata": {},
   "source": [
    "_____"
   ]
  },
  {
   "cell_type": "markdown",
   "metadata": {},
   "source": [
    "## Model 3 but with Different Tfidf Hyperparameters"
   ]
  },
  {
   "cell_type": "code",
   "execution_count": 109,
   "metadata": {},
   "outputs": [
    {
     "data": {
      "text/html": [
       "<div>\n",
       "<style scoped>\n",
       "    .dataframe tbody tr th:only-of-type {\n",
       "        vertical-align: middle;\n",
       "    }\n",
       "\n",
       "    .dataframe tbody tr th {\n",
       "        vertical-align: top;\n",
       "    }\n",
       "\n",
       "    .dataframe thead th {\n",
       "        text-align: right;\n",
       "    }\n",
       "</style>\n",
       "<table border=\"1\" class=\"dataframe\">\n",
       "  <thead>\n",
       "    <tr style=\"text-align: right;\">\n",
       "      <th></th>\n",
       "      <th>id</th>\n",
       "      <th>comment_text</th>\n",
       "      <th>len</th>\n",
       "      <th>caps</th>\n",
       "      <th>proportion of caps</th>\n",
       "      <th>offensive word</th>\n",
       "      <th>num offensive words</th>\n",
       "      <th>contains 'cock'</th>\n",
       "      <th>contains 'fucker'</th>\n",
       "      <th>contains 'bastard'</th>\n",
       "      <th>contains 'bullshit'</th>\n",
       "      <th>contains 'nipple'</th>\n",
       "      <th>contains 'murder'</th>\n",
       "      <th>contains 'rape'</th>\n",
       "      <th>contains 'shoot'</th>\n",
       "    </tr>\n",
       "  </thead>\n",
       "  <tbody>\n",
       "    <tr>\n",
       "      <th>0</th>\n",
       "      <td>00001cee341fdb12</td>\n",
       "      <td>Yo bitch Ja Rule is more succesful then youll ...</td>\n",
       "      <td>0.056914</td>\n",
       "      <td>4</td>\n",
       "      <td>0.014085</td>\n",
       "      <td>[bitch, bitch, ass, shit]</td>\n",
       "      <td>4</td>\n",
       "      <td>0</td>\n",
       "      <td>0</td>\n",
       "      <td>0</td>\n",
       "      <td>0</td>\n",
       "      <td>0</td>\n",
       "      <td>0</td>\n",
       "      <td>0</td>\n",
       "      <td>0</td>\n",
       "    </tr>\n",
       "    <tr>\n",
       "      <th>1</th>\n",
       "      <td>0000247867823ef7</td>\n",
       "      <td>From RfC   The title is fine as it is IMO</td>\n",
       "      <td>0.006012</td>\n",
       "      <td>7</td>\n",
       "      <td>0.233333</td>\n",
       "      <td>[]</td>\n",
       "      <td>0</td>\n",
       "      <td>0</td>\n",
       "      <td>0</td>\n",
       "      <td>0</td>\n",
       "      <td>0</td>\n",
       "      <td>0</td>\n",
       "      <td>0</td>\n",
       "      <td>0</td>\n",
       "      <td>0</td>\n",
       "    </tr>\n",
       "    <tr>\n",
       "      <th>2</th>\n",
       "      <td>00013b17ad220c46</td>\n",
       "      <td>Sources    Zawe Ashton on Lapland —  /</td>\n",
       "      <td>0.005611</td>\n",
       "      <td>4</td>\n",
       "      <td>0.142857</td>\n",
       "      <td>[]</td>\n",
       "      <td>0</td>\n",
       "      <td>0</td>\n",
       "      <td>0</td>\n",
       "      <td>0</td>\n",
       "      <td>0</td>\n",
       "      <td>0</td>\n",
       "      <td>0</td>\n",
       "      <td>0</td>\n",
       "      <td>0</td>\n",
       "    </tr>\n",
       "  </tbody>\n",
       "</table>\n",
       "</div>"
      ],
      "text/plain": [
       "                 id                                       comment_text  \\\n",
       "0  00001cee341fdb12  Yo bitch Ja Rule is more succesful then youll ...   \n",
       "1  0000247867823ef7          From RfC   The title is fine as it is IMO   \n",
       "2  00013b17ad220c46           Sources    Zawe Ashton on Lapland —  /     \n",
       "\n",
       "        len  caps  proportion of caps             offensive word  \\\n",
       "0  0.056914     4            0.014085  [bitch, bitch, ass, shit]   \n",
       "1  0.006012     7            0.233333                         []   \n",
       "2  0.005611     4            0.142857                         []   \n",
       "\n",
       "   num offensive words  contains 'cock'  contains 'fucker'  \\\n",
       "0                    4                0                  0   \n",
       "1                    0                0                  0   \n",
       "2                    0                0                  0   \n",
       "\n",
       "   contains 'bastard'  contains 'bullshit'  contains 'nipple'  \\\n",
       "0                   0                    0                  0   \n",
       "1                   0                    0                  0   \n",
       "2                   0                    0                  0   \n",
       "\n",
       "   contains 'murder'  contains 'rape'  contains 'shoot'  \n",
       "0                  0                0                 0  \n",
       "1                  0                0                 0  \n",
       "2                  0                0                 0  "
      ]
     },
     "execution_count": 109,
     "metadata": {},
     "output_type": "execute_result"
    }
   ],
   "source": [
    "# SUBMISSION (applying model to test.csv)\n",
    "testing = test.copy()\n",
    "\n",
    "# Cleaning strings\n",
    "testing['comment_text'] = testing['comment_text'].str.replace(r\"[(\\.),(\\|)!:='&(\\*)(\\\")]\", \"\")\n",
    "testing['comment_text'] = testing['comment_text'].str.replace(\"\\n\", \"\")\n",
    "\n",
    "# Getting length\n",
    "testing['len'] = testing['comment_text'].apply(len) - testing['comment_text'].str.count(\" \")\n",
    "len_min = testing['len'].min()\n",
    "len_max = testing['len'].max()\n",
    "testing['len'] = (testing['len'].values - len_min) / (len_max - len_min)\n",
    "\n",
    "# Getting proportion of caps\n",
    "testing['caps'] = testing['comment_text'].apply(num_upper)\n",
    "testing['proportion of caps'] = testing['caps'] / testing['len']\n",
    "\n",
    "# Getting number of offensive words\n",
    "testing['offensive word'] = testing['comment_text'].apply(updated_offensive_word)\n",
    "testing['num offensive words'] = testing['offensive word'].apply(len)\n",
    "\n",
    "# Containment of specific offensive word\n",
    "testing[\"contains 'cock'\"] = testing['comment_text'].str.lower().str.contains('cock')\n",
    "testing[\"contains 'cock'\"] = testing[\"contains 'cock'\"].replace(False, 0).replace(True, 1).apply(int)\n",
    "testing[\"contains 'fucker'\"] = testing['comment_text'].str.lower().str.contains('fucker')\n",
    "testing[\"contains 'fucker'\"] = testing[\"contains 'fucker'\"].replace(False, 0).replace(True, 1).apply(int)\n",
    "testing[\"contains 'bastard'\"] = testing['comment_text'].str.lower().str.contains('bastard')\n",
    "testing[\"contains 'bastard'\"] = testing[\"contains 'bastard'\"].replace(False, 0).replace(True, 1).apply(int)\n",
    "testing[\"contains 'bullshit'\"] = testing['comment_text'].str.lower().str.contains('bullshit')\n",
    "testing[\"contains 'bullshit'\"] = testing[\"contains 'bullshit'\"].replace(False, 0).replace(True, 1).apply(int)\n",
    "testing[\"contains 'nipple'\"] = testing['comment_text'].str.lower().str.contains('nipple')\n",
    "testing[\"contains 'nipple'\"] = testing[\"contains 'nipple'\"].replace(False, 0).replace(True, 1).apply(int)\n",
    "testing[\"contains 'murder'\"] = testing['comment_text'].str.lower().str.contains('murder')\n",
    "testing[\"contains 'murder'\"] = testing[\"contains 'murder'\"].replace(False, 0).replace(True, 1).apply(int)\n",
    "testing[\"contains 'rape'\"] = testing['comment_text'].str.lower().str.contains('rape')\n",
    "testing[\"contains 'rape'\"] = testing[\"contains 'rape'\"].replace(False, 0).replace(True, 1).apply(int)\n",
    "testing[\"contains 'shoot'\"] = testing['comment_text'].str.lower().str.contains('shoot')\n",
    "testing[\"contains 'shoot'\"] = testing[\"contains 'shoot'\"].replace(False, 0).replace(True, 1).apply(int)\n",
    "\n",
    "testing.head(3)"
   ]
  },
  {
   "cell_type": "code",
   "execution_count": 110,
   "metadata": {},
   "outputs": [],
   "source": [
    "train_text = comments['comment_text']\n",
    "test_text = test['comment_text']\n",
    "text = pd.concat([train_text, test_text])\n",
    "\n",
    "# Tfidf 'word'\n",
    "word_vectorizer = TfidfVectorizer(sublinear_tf=True, strip_accents='unicode', analyzer='word', \n",
    "                                  token_pattern=r'\\w{1,}', ngram_range=(1, 1), max_features=30000)\n",
    "\n",
    "# Tfidf 'char'\n",
    "char_vectorizer = TfidfVectorizer(sublinear_tf=True, strip_accents='unicode', analyzer='char', \n",
    "                                  ngram_range=(1, 4), max_features=30000)\n",
    "\n",
    "vectorizer = make_union(word_vectorizer, char_vectorizer, n_jobs=2)\n",
    "vectorizer.fit(text)\n",
    "\n",
    "train_vector = vectorizer.transform(train_text)\n",
    "test_vector = vectorizer.transform(test_text)"
   ]
  },
  {
   "cell_type": "code",
   "execution_count": 111,
   "metadata": {},
   "outputs": [
    {
     "data": {
      "text/html": [
       "<div>\n",
       "<style scoped>\n",
       "    .dataframe tbody tr th:only-of-type {\n",
       "        vertical-align: middle;\n",
       "    }\n",
       "\n",
       "    .dataframe tbody tr th {\n",
       "        vertical-align: top;\n",
       "    }\n",
       "\n",
       "    .dataframe thead th {\n",
       "        text-align: right;\n",
       "    }\n",
       "</style>\n",
       "<table border=\"1\" class=\"dataframe\">\n",
       "  <thead>\n",
       "    <tr style=\"text-align: right;\">\n",
       "      <th></th>\n",
       "      <th>comment_text</th>\n",
       "      <th>len</th>\n",
       "      <th>proportion of caps</th>\n",
       "      <th>num offensive words</th>\n",
       "      <th>contains 'cock'</th>\n",
       "      <th>contains 'fucker'</th>\n",
       "      <th>contains 'bastard'</th>\n",
       "      <th>contains 'bullshit'</th>\n",
       "      <th>contains 'nipple'</th>\n",
       "      <th>contains 'murder'</th>\n",
       "      <th>contains 'rape'</th>\n",
       "      <th>contains 'shoot'</th>\n",
       "    </tr>\n",
       "  </thead>\n",
       "  <tbody>\n",
       "    <tr>\n",
       "      <th>0</th>\n",
       "      <td>Yo bitch Ja Rule is more succesful then youll ...</td>\n",
       "      <td>0.056914</td>\n",
       "      <td>0.014085</td>\n",
       "      <td>4</td>\n",
       "      <td>0</td>\n",
       "      <td>0</td>\n",
       "      <td>0</td>\n",
       "      <td>0</td>\n",
       "      <td>0</td>\n",
       "      <td>0</td>\n",
       "      <td>0</td>\n",
       "      <td>0</td>\n",
       "    </tr>\n",
       "    <tr>\n",
       "      <th>1</th>\n",
       "      <td>From RfC   The title is fine as it is IMO</td>\n",
       "      <td>0.006012</td>\n",
       "      <td>0.233333</td>\n",
       "      <td>0</td>\n",
       "      <td>0</td>\n",
       "      <td>0</td>\n",
       "      <td>0</td>\n",
       "      <td>0</td>\n",
       "      <td>0</td>\n",
       "      <td>0</td>\n",
       "      <td>0</td>\n",
       "      <td>0</td>\n",
       "    </tr>\n",
       "    <tr>\n",
       "      <th>2</th>\n",
       "      <td>Sources    Zawe Ashton on Lapland —  /</td>\n",
       "      <td>0.005611</td>\n",
       "      <td>0.142857</td>\n",
       "      <td>0</td>\n",
       "      <td>0</td>\n",
       "      <td>0</td>\n",
       "      <td>0</td>\n",
       "      <td>0</td>\n",
       "      <td>0</td>\n",
       "      <td>0</td>\n",
       "      <td>0</td>\n",
       "      <td>0</td>\n",
       "    </tr>\n",
       "  </tbody>\n",
       "</table>\n",
       "</div>"
      ],
      "text/plain": [
       "                                        comment_text       len  \\\n",
       "0  Yo bitch Ja Rule is more succesful then youll ...  0.056914   \n",
       "1          From RfC   The title is fine as it is IMO  0.006012   \n",
       "2           Sources    Zawe Ashton on Lapland —  /    0.005611   \n",
       "\n",
       "   proportion of caps  num offensive words  contains 'cock'  \\\n",
       "0            0.014085                    4                0   \n",
       "1            0.233333                    0                0   \n",
       "2            0.142857                    0                0   \n",
       "\n",
       "   contains 'fucker'  contains 'bastard'  contains 'bullshit'  \\\n",
       "0                  0                   0                    0   \n",
       "1                  0                   0                    0   \n",
       "2                  0                   0                    0   \n",
       "\n",
       "   contains 'nipple'  contains 'murder'  contains 'rape'  contains 'shoot'  \n",
       "0                  0                  0                0                 0  \n",
       "1                  0                  0                0                 0  \n",
       "2                  0                  0                0                 0  "
      ]
     },
     "execution_count": 111,
     "metadata": {},
     "output_type": "execute_result"
    }
   ],
   "source": [
    "# Accounting for division by 0, which gives NA\n",
    "testing['proportion of caps'] = testing['proportion of caps'].fillna(0)\n",
    "testing = testing.drop(['id', 'caps', 'offensive word'], axis=1)\n",
    "testing.head(3)"
   ]
  },
  {
   "cell_type": "code",
   "execution_count": 115,
   "metadata": {},
   "outputs": [],
   "source": [
    "# Combining all features\n",
    "final_training = hstack([train_vector, comments_copy.iloc[:,1:]])\n",
    "final_testing = hstack([test_vector, testing.iloc[:,1:]])"
   ]
  },
  {
   "cell_type": "code",
   "execution_count": 116,
   "metadata": {},
   "outputs": [],
   "source": [
    "labels = comments.iloc[:,2:]\n",
    "\n",
    "results = {}\n",
    "for i in range(len(labels.columns)):\n",
    "    lr = LogisticRegression(random_state=42, solver='sag').fit(final_training, labels.iloc[:,i])\n",
    "    results[labels.columns[i]] = lr.predict_proba(final_testing)[:,1]"
   ]
  },
  {
   "cell_type": "code",
   "execution_count": 118,
   "metadata": {},
   "outputs": [
    {
     "data": {
      "text/html": [
       "<div>\n",
       "<style scoped>\n",
       "    .dataframe tbody tr th:only-of-type {\n",
       "        vertical-align: middle;\n",
       "    }\n",
       "\n",
       "    .dataframe tbody tr th {\n",
       "        vertical-align: top;\n",
       "    }\n",
       "\n",
       "    .dataframe thead th {\n",
       "        text-align: right;\n",
       "    }\n",
       "</style>\n",
       "<table border=\"1\" class=\"dataframe\">\n",
       "  <thead>\n",
       "    <tr style=\"text-align: right;\">\n",
       "      <th></th>\n",
       "      <th>id</th>\n",
       "      <th>toxic</th>\n",
       "      <th>severe_toxic</th>\n",
       "      <th>obscene</th>\n",
       "      <th>threat</th>\n",
       "      <th>insult</th>\n",
       "      <th>identity_hate</th>\n",
       "    </tr>\n",
       "  </thead>\n",
       "  <tbody>\n",
       "    <tr>\n",
       "      <th>0</th>\n",
       "      <td>00001cee341fdb12</td>\n",
       "      <td>0.523523</td>\n",
       "      <td>0.152455</td>\n",
       "      <td>0.194784</td>\n",
       "      <td>0.013911</td>\n",
       "      <td>0.184957</td>\n",
       "      <td>0.150601</td>\n",
       "    </tr>\n",
       "    <tr>\n",
       "      <th>1</th>\n",
       "      <td>0000247867823ef7</td>\n",
       "      <td>0.256954</td>\n",
       "      <td>0.217368</td>\n",
       "      <td>0.239536</td>\n",
       "      <td>0.222055</td>\n",
       "      <td>0.237264</td>\n",
       "      <td>0.217133</td>\n",
       "    </tr>\n",
       "    <tr>\n",
       "      <th>2</th>\n",
       "      <td>00013b17ad220c46</td>\n",
       "      <td>0.342066</td>\n",
       "      <td>0.310406</td>\n",
       "      <td>0.328301</td>\n",
       "      <td>0.313900</td>\n",
       "      <td>0.326621</td>\n",
       "      <td>0.309944</td>\n",
       "    </tr>\n",
       "    <tr>\n",
       "      <th>3</th>\n",
       "      <td>00017563c3f7919a</td>\n",
       "      <td>0.162849</td>\n",
       "      <td>0.127941</td>\n",
       "      <td>0.147748</td>\n",
       "      <td>0.134200</td>\n",
       "      <td>0.146379</td>\n",
       "      <td>0.128218</td>\n",
       "    </tr>\n",
       "    <tr>\n",
       "      <th>4</th>\n",
       "      <td>00017695ad8997eb</td>\n",
       "      <td>0.262555</td>\n",
       "      <td>0.225353</td>\n",
       "      <td>0.245929</td>\n",
       "      <td>0.231416</td>\n",
       "      <td>0.244136</td>\n",
       "      <td>0.225853</td>\n",
       "    </tr>\n",
       "    <tr>\n",
       "      <th>...</th>\n",
       "      <td>...</td>\n",
       "      <td>...</td>\n",
       "      <td>...</td>\n",
       "      <td>...</td>\n",
       "      <td>...</td>\n",
       "      <td>...</td>\n",
       "      <td>...</td>\n",
       "    </tr>\n",
       "    <tr>\n",
       "      <th>153159</th>\n",
       "      <td>fffcd0960ee309b5</td>\n",
       "      <td>0.263530</td>\n",
       "      <td>0.227034</td>\n",
       "      <td>0.247259</td>\n",
       "      <td>0.233856</td>\n",
       "      <td>0.245367</td>\n",
       "      <td>0.228056</td>\n",
       "    </tr>\n",
       "    <tr>\n",
       "      <th>153160</th>\n",
       "      <td>fffd7a9a6eb32c16</td>\n",
       "      <td>0.226635</td>\n",
       "      <td>0.191521</td>\n",
       "      <td>0.211976</td>\n",
       "      <td>0.198945</td>\n",
       "      <td>0.209996</td>\n",
       "      <td>0.192397</td>\n",
       "    </tr>\n",
       "    <tr>\n",
       "      <th>153161</th>\n",
       "      <td>fffda9e8d6fafa9e</td>\n",
       "      <td>0.182726</td>\n",
       "      <td>0.149969</td>\n",
       "      <td>0.168803</td>\n",
       "      <td>0.157476</td>\n",
       "      <td>0.167170</td>\n",
       "      <td>0.150954</td>\n",
       "    </tr>\n",
       "    <tr>\n",
       "      <th>153162</th>\n",
       "      <td>fffe8f1340a79fc2</td>\n",
       "      <td>0.177115</td>\n",
       "      <td>0.145344</td>\n",
       "      <td>0.163233</td>\n",
       "      <td>0.153578</td>\n",
       "      <td>0.161938</td>\n",
       "      <td>0.146810</td>\n",
       "    </tr>\n",
       "    <tr>\n",
       "      <th>153163</th>\n",
       "      <td>ffffce3fb183ee80</td>\n",
       "      <td>0.268013</td>\n",
       "      <td>0.149488</td>\n",
       "      <td>0.184167</td>\n",
       "      <td>0.088868</td>\n",
       "      <td>0.176346</td>\n",
       "      <td>0.149728</td>\n",
       "    </tr>\n",
       "  </tbody>\n",
       "</table>\n",
       "<p>153164 rows × 7 columns</p>\n",
       "</div>"
      ],
      "text/plain": [
       "                      id     toxic  severe_toxic   obscene    threat  \\\n",
       "0       00001cee341fdb12  0.523523      0.152455  0.194784  0.013911   \n",
       "1       0000247867823ef7  0.256954      0.217368  0.239536  0.222055   \n",
       "2       00013b17ad220c46  0.342066      0.310406  0.328301  0.313900   \n",
       "3       00017563c3f7919a  0.162849      0.127941  0.147748  0.134200   \n",
       "4       00017695ad8997eb  0.262555      0.225353  0.245929  0.231416   \n",
       "...                  ...       ...           ...       ...       ...   \n",
       "153159  fffcd0960ee309b5  0.263530      0.227034  0.247259  0.233856   \n",
       "153160  fffd7a9a6eb32c16  0.226635      0.191521  0.211976  0.198945   \n",
       "153161  fffda9e8d6fafa9e  0.182726      0.149969  0.168803  0.157476   \n",
       "153162  fffe8f1340a79fc2  0.177115      0.145344  0.163233  0.153578   \n",
       "153163  ffffce3fb183ee80  0.268013      0.149488  0.184167  0.088868   \n",
       "\n",
       "          insult  identity_hate  \n",
       "0       0.184957       0.150601  \n",
       "1       0.237264       0.217133  \n",
       "2       0.326621       0.309944  \n",
       "3       0.146379       0.128218  \n",
       "4       0.244136       0.225853  \n",
       "...          ...            ...  \n",
       "153159  0.245367       0.228056  \n",
       "153160  0.209996       0.192397  \n",
       "153161  0.167170       0.150954  \n",
       "153162  0.161938       0.146810  \n",
       "153163  0.176346       0.149728  \n",
       "\n",
       "[153164 rows x 7 columns]"
      ]
     },
     "execution_count": 118,
     "metadata": {},
     "output_type": "execute_result"
    }
   ],
   "source": [
    "submission = pd.DataFrame({'id': test['id']})\n",
    "submission['toxic'] = results['toxic']\n",
    "submission['severe_toxic'] = results['severe_toxic']\n",
    "submission['obscene'] = results['obscene']\n",
    "submission['threat'] = results['threat']\n",
    "submission['insult'] = results['insult']\n",
    "submission['identity_hate'] = results['identity_hate']\n",
    "submission"
   ]
  },
  {
   "cell_type": "code",
   "execution_count": null,
   "metadata": {},
   "outputs": [],
   "source": [
    "# submission.to_csv('submission.csv', index=False)"
   ]
  },
  {
   "cell_type": "markdown",
   "metadata": {},
   "source": [
    "**This model did slightly better. Previously, Tfidf 'word' with Tfidf 'char' as the only analysis was submitted and did very well. This leads me to believe that certain columns are messing with the results or overfitting. I will take out some additional features to observe which are problematic.**"
   ]
  },
  {
   "cell_type": "markdown",
   "metadata": {},
   "source": [
    "_____"
   ]
  },
  {
   "cell_type": "markdown",
   "metadata": {},
   "source": [
    "# Tfidf with Length and Proportion of Capital Letters"
   ]
  },
  {
   "cell_type": "code",
   "execution_count": 79,
   "metadata": {},
   "outputs": [
    {
     "data": {
      "text/html": [
       "<div>\n",
       "<style scoped>\n",
       "    .dataframe tbody tr th:only-of-type {\n",
       "        vertical-align: middle;\n",
       "    }\n",
       "\n",
       "    .dataframe tbody tr th {\n",
       "        vertical-align: top;\n",
       "    }\n",
       "\n",
       "    .dataframe thead th {\n",
       "        text-align: right;\n",
       "    }\n",
       "</style>\n",
       "<table border=\"1\" class=\"dataframe\">\n",
       "  <thead>\n",
       "    <tr style=\"text-align: right;\">\n",
       "      <th></th>\n",
       "      <th>id</th>\n",
       "      <th>comment_text</th>\n",
       "      <th>len</th>\n",
       "      <th>caps</th>\n",
       "      <th>proportion of caps</th>\n",
       "    </tr>\n",
       "  </thead>\n",
       "  <tbody>\n",
       "    <tr>\n",
       "      <th>0</th>\n",
       "      <td>00001cee341fdb12</td>\n",
       "      <td>Yo bitch Ja Rule is more succesful then youll ...</td>\n",
       "      <td>0.056914</td>\n",
       "      <td>4</td>\n",
       "      <td>0.014085</td>\n",
       "    </tr>\n",
       "    <tr>\n",
       "      <th>1</th>\n",
       "      <td>0000247867823ef7</td>\n",
       "      <td>From RfC   The title is fine as it is IMO</td>\n",
       "      <td>0.006012</td>\n",
       "      <td>7</td>\n",
       "      <td>0.233333</td>\n",
       "    </tr>\n",
       "    <tr>\n",
       "      <th>2</th>\n",
       "      <td>00013b17ad220c46</td>\n",
       "      <td>Sources    Zawe Ashton on Lapland —  /</td>\n",
       "      <td>0.005611</td>\n",
       "      <td>4</td>\n",
       "      <td>0.142857</td>\n",
       "    </tr>\n",
       "  </tbody>\n",
       "</table>\n",
       "</div>"
      ],
      "text/plain": [
       "                 id                                       comment_text  \\\n",
       "0  00001cee341fdb12  Yo bitch Ja Rule is more succesful then youll ...   \n",
       "1  0000247867823ef7          From RfC   The title is fine as it is IMO   \n",
       "2  00013b17ad220c46           Sources    Zawe Ashton on Lapland —  /     \n",
       "\n",
       "        len  caps  proportion of caps  \n",
       "0  0.056914     4            0.014085  \n",
       "1  0.006012     7            0.233333  \n",
       "2  0.005611     4            0.142857  "
      ]
     },
     "execution_count": 79,
     "metadata": {},
     "output_type": "execute_result"
    }
   ],
   "source": [
    "# SUBMISSION (applying model to test.csv)\n",
    "testing = test.copy()\n",
    "\n",
    "# Cleaning text\n",
    "testing['comment_text'] = testing['comment_text'].str.replace(r\"[(\\.),(\\|)!:='&(\\*)(\\\")]\", \"\")\n",
    "testing['comment_text'] = testing['comment_text'].str.replace(\"\\n\", \"\")\n",
    "\n",
    "# Getting length\n",
    "testing['len'] = testing['comment_text'].apply(len) - testing['comment_text'].str.count(\" \")\n",
    "len_min = testing['len'].min()\n",
    "len_max = testing['len'].max()\n",
    "testing['len'] = (testing['len'].values - len_min) / (len_max - len_min)\n",
    "\n",
    "# Getting proportion of caps\n",
    "testing['caps'] = testing['comment_text'].apply(num_upper)\n",
    "testing['proportion of caps'] = testing['caps'] / testing['len']\n",
    "\n",
    "testing.head(3)"
   ]
  },
  {
   "cell_type": "code",
   "execution_count": 80,
   "metadata": {},
   "outputs": [
    {
     "data": {
      "text/html": [
       "<div>\n",
       "<style scoped>\n",
       "    .dataframe tbody tr th:only-of-type {\n",
       "        vertical-align: middle;\n",
       "    }\n",
       "\n",
       "    .dataframe tbody tr th {\n",
       "        vertical-align: top;\n",
       "    }\n",
       "\n",
       "    .dataframe thead th {\n",
       "        text-align: right;\n",
       "    }\n",
       "</style>\n",
       "<table border=\"1\" class=\"dataframe\">\n",
       "  <thead>\n",
       "    <tr style=\"text-align: right;\">\n",
       "      <th></th>\n",
       "      <th>comment_text</th>\n",
       "      <th>len</th>\n",
       "      <th>proportion of caps</th>\n",
       "    </tr>\n",
       "  </thead>\n",
       "  <tbody>\n",
       "    <tr>\n",
       "      <th>0</th>\n",
       "      <td>Yo bitch Ja Rule is more succesful then youll ...</td>\n",
       "      <td>0.056914</td>\n",
       "      <td>0.014085</td>\n",
       "    </tr>\n",
       "    <tr>\n",
       "      <th>1</th>\n",
       "      <td>From RfC   The title is fine as it is IMO</td>\n",
       "      <td>0.006012</td>\n",
       "      <td>0.233333</td>\n",
       "    </tr>\n",
       "    <tr>\n",
       "      <th>2</th>\n",
       "      <td>Sources    Zawe Ashton on Lapland —  /</td>\n",
       "      <td>0.005611</td>\n",
       "      <td>0.142857</td>\n",
       "    </tr>\n",
       "  </tbody>\n",
       "</table>\n",
       "</div>"
      ],
      "text/plain": [
       "                                        comment_text       len  \\\n",
       "0  Yo bitch Ja Rule is more succesful then youll ...  0.056914   \n",
       "1          From RfC   The title is fine as it is IMO  0.006012   \n",
       "2           Sources    Zawe Ashton on Lapland —  /    0.005611   \n",
       "\n",
       "   proportion of caps  \n",
       "0            0.014085  \n",
       "1            0.233333  \n",
       "2            0.142857  "
      ]
     },
     "execution_count": 80,
     "metadata": {},
     "output_type": "execute_result"
    }
   ],
   "source": [
    "# Accounting for division by 0\n",
    "testing['proportion of caps'] = testing['proportion of caps'].fillna(0)\n",
    "testing = testing.drop(['id', 'caps'], axis=1)\n",
    "testing.head(3)"
   ]
  },
  {
   "cell_type": "code",
   "execution_count": 82,
   "metadata": {},
   "outputs": [],
   "source": [
    "train_text = comments['comment_text']\n",
    "test_text = test['comment_text']\n",
    "text = pd.concat([train_text, test_text])\n",
    "\n",
    "# Tfidf 'word'\n",
    "word_vectorizer = TfidfVectorizer(sublinear_tf=True, strip_accents='unicode', analyzer='word', \n",
    "                                  token_pattern=r'\\w{1,}', ngram_range=(1, 1), max_features=30000)\n",
    "# Tfidf 'char'\n",
    "char_vectorizer = TfidfVectorizer(sublinear_tf=True, strip_accents='unicode', analyzer='char', \n",
    "                                  ngram_range=(1, 4), max_features=30000)\n",
    "\n",
    "vectorizer = make_union(word_vectorizer, char_vectorizer, n_jobs=2)\n",
    "vectorizer.fit(text)\n",
    "\n",
    "train_vector = vectorizer.transform(train_text)\n",
    "test_vector = vectorizer.transform(test_text)"
   ]
  },
  {
   "cell_type": "code",
   "execution_count": 122,
   "metadata": {},
   "outputs": [
    {
     "data": {
      "text/html": [
       "<div>\n",
       "<style scoped>\n",
       "    .dataframe tbody tr th:only-of-type {\n",
       "        vertical-align: middle;\n",
       "    }\n",
       "\n",
       "    .dataframe tbody tr th {\n",
       "        vertical-align: top;\n",
       "    }\n",
       "\n",
       "    .dataframe thead th {\n",
       "        text-align: right;\n",
       "    }\n",
       "</style>\n",
       "<table border=\"1\" class=\"dataframe\">\n",
       "  <thead>\n",
       "    <tr style=\"text-align: right;\">\n",
       "      <th></th>\n",
       "      <th>comment_text</th>\n",
       "      <th>len</th>\n",
       "      <th>proportion of caps</th>\n",
       "      <th>num offensive words</th>\n",
       "      <th>contains 'cock'</th>\n",
       "      <th>contains 'fucker'</th>\n",
       "      <th>contains 'bastard'</th>\n",
       "      <th>contains 'bullshit'</th>\n",
       "      <th>contains 'nipple'</th>\n",
       "      <th>contains 'murder'</th>\n",
       "      <th>contains 'rape'</th>\n",
       "      <th>contains 'shoot'</th>\n",
       "    </tr>\n",
       "  </thead>\n",
       "  <tbody>\n",
       "    <tr>\n",
       "      <th>0</th>\n",
       "      <td>Explanation Why the edits made under my userna...</td>\n",
       "      <td>0.043750</td>\n",
       "      <td>0.076577</td>\n",
       "      <td>0</td>\n",
       "      <td>0</td>\n",
       "      <td>0</td>\n",
       "      <td>0</td>\n",
       "      <td>0</td>\n",
       "      <td>0</td>\n",
       "      <td>0</td>\n",
       "      <td>0</td>\n",
       "      <td>0</td>\n",
       "    </tr>\n",
       "    <tr>\n",
       "      <th>1</th>\n",
       "      <td>Daww He matches this background colour Im seem...</td>\n",
       "      <td>0.018145</td>\n",
       "      <td>0.084211</td>\n",
       "      <td>0</td>\n",
       "      <td>0</td>\n",
       "      <td>0</td>\n",
       "      <td>0</td>\n",
       "      <td>0</td>\n",
       "      <td>0</td>\n",
       "      <td>0</td>\n",
       "      <td>0</td>\n",
       "      <td>0</td>\n",
       "    </tr>\n",
       "    <tr>\n",
       "      <th>2</th>\n",
       "      <td>Hey man Im really not trying to edit war Its j...</td>\n",
       "      <td>0.037702</td>\n",
       "      <td>0.020833</td>\n",
       "      <td>0</td>\n",
       "      <td>0</td>\n",
       "      <td>0</td>\n",
       "      <td>0</td>\n",
       "      <td>0</td>\n",
       "      <td>0</td>\n",
       "      <td>0</td>\n",
       "      <td>0</td>\n",
       "      <td>0</td>\n",
       "    </tr>\n",
       "    <tr>\n",
       "      <th>3</th>\n",
       "      <td>More I cant make any real suggestions on impr...</td>\n",
       "      <td>0.101210</td>\n",
       "      <td>0.021696</td>\n",
       "      <td>0</td>\n",
       "      <td>0</td>\n",
       "      <td>0</td>\n",
       "      <td>0</td>\n",
       "      <td>0</td>\n",
       "      <td>0</td>\n",
       "      <td>0</td>\n",
       "      <td>0</td>\n",
       "      <td>0</td>\n",
       "    </tr>\n",
       "    <tr>\n",
       "      <th>4</th>\n",
       "      <td>You sir are my hero Any chance you remember wh...</td>\n",
       "      <td>0.010081</td>\n",
       "      <td>0.036364</td>\n",
       "      <td>0</td>\n",
       "      <td>0</td>\n",
       "      <td>0</td>\n",
       "      <td>0</td>\n",
       "      <td>0</td>\n",
       "      <td>0</td>\n",
       "      <td>0</td>\n",
       "      <td>0</td>\n",
       "      <td>0</td>\n",
       "    </tr>\n",
       "  </tbody>\n",
       "</table>\n",
       "</div>"
      ],
      "text/plain": [
       "                                        comment_text       len  \\\n",
       "0  Explanation Why the edits made under my userna...  0.043750   \n",
       "1  Daww He matches this background colour Im seem...  0.018145   \n",
       "2  Hey man Im really not trying to edit war Its j...  0.037702   \n",
       "3   More I cant make any real suggestions on impr...  0.101210   \n",
       "4  You sir are my hero Any chance you remember wh...  0.010081   \n",
       "\n",
       "   proportion of caps  num offensive words  contains 'cock'  \\\n",
       "0            0.076577                    0                0   \n",
       "1            0.084211                    0                0   \n",
       "2            0.020833                    0                0   \n",
       "3            0.021696                    0                0   \n",
       "4            0.036364                    0                0   \n",
       "\n",
       "   contains 'fucker'  contains 'bastard'  contains 'bullshit'  \\\n",
       "0                  0                   0                    0   \n",
       "1                  0                   0                    0   \n",
       "2                  0                   0                    0   \n",
       "3                  0                   0                    0   \n",
       "4                  0                   0                    0   \n",
       "\n",
       "   contains 'nipple'  contains 'murder'  contains 'rape'  contains 'shoot'  \n",
       "0                  0                  0                0                 0  \n",
       "1                  0                  0                0                 0  \n",
       "2                  0                  0                0                 0  \n",
       "3                  0                  0                0                 0  \n",
       "4                  0                  0                0                 0  "
      ]
     },
     "execution_count": 122,
     "metadata": {},
     "output_type": "execute_result"
    }
   ],
   "source": [
    "comments_copy.head()"
   ]
  },
  {
   "cell_type": "code",
   "execution_count": 88,
   "metadata": {},
   "outputs": [],
   "source": [
    "# Combining all features\n",
    "final_training = hstack([train_vector, comments_copy[['len', 'proportion of caps']]])\n",
    "final_testing = hstack([test_vector, testing[['len', 'proportion of caps']]])"
   ]
  },
  {
   "cell_type": "code",
   "execution_count": 90,
   "metadata": {},
   "outputs": [],
   "source": [
    "labels = comments.iloc[:,2:]\n",
    "\n",
    "results = {}\n",
    "for i in range(len(labels.columns)):\n",
    "    lr = LogisticRegression(random_state=42, solver='sag').fit(final_training, labels.iloc[:,i])\n",
    "    results[labels.columns[i]] = lr.predict_proba(final_testing)[:,1]"
   ]
  },
  {
   "cell_type": "code",
   "execution_count": 92,
   "metadata": {},
   "outputs": [
    {
     "data": {
      "text/html": [
       "<div>\n",
       "<style scoped>\n",
       "    .dataframe tbody tr th:only-of-type {\n",
       "        vertical-align: middle;\n",
       "    }\n",
       "\n",
       "    .dataframe tbody tr th {\n",
       "        vertical-align: top;\n",
       "    }\n",
       "\n",
       "    .dataframe thead th {\n",
       "        text-align: right;\n",
       "    }\n",
       "</style>\n",
       "<table border=\"1\" class=\"dataframe\">\n",
       "  <thead>\n",
       "    <tr style=\"text-align: right;\">\n",
       "      <th></th>\n",
       "      <th>id</th>\n",
       "      <th>toxic</th>\n",
       "      <th>severe_toxic</th>\n",
       "      <th>obscene</th>\n",
       "      <th>threat</th>\n",
       "      <th>insult</th>\n",
       "      <th>identity_hate</th>\n",
       "    </tr>\n",
       "  </thead>\n",
       "  <tbody>\n",
       "    <tr>\n",
       "      <th>0</th>\n",
       "      <td>00001cee341fdb12</td>\n",
       "      <td>0.999865</td>\n",
       "      <td>0.225789</td>\n",
       "      <td>0.999588</td>\n",
       "      <td>0.048555</td>\n",
       "      <td>0.983921</td>\n",
       "      <td>0.288428</td>\n",
       "    </tr>\n",
       "    <tr>\n",
       "      <th>1</th>\n",
       "      <td>0000247867823ef7</td>\n",
       "      <td>0.006069</td>\n",
       "      <td>0.001792</td>\n",
       "      <td>0.002690</td>\n",
       "      <td>0.000291</td>\n",
       "      <td>0.003977</td>\n",
       "      <td>0.002103</td>\n",
       "    </tr>\n",
       "    <tr>\n",
       "      <th>2</th>\n",
       "      <td>00013b17ad220c46</td>\n",
       "      <td>0.013616</td>\n",
       "      <td>0.002476</td>\n",
       "      <td>0.007248</td>\n",
       "      <td>0.000638</td>\n",
       "      <td>0.004011</td>\n",
       "      <td>0.001557</td>\n",
       "    </tr>\n",
       "    <tr>\n",
       "      <th>3</th>\n",
       "      <td>00017563c3f7919a</td>\n",
       "      <td>0.002728</td>\n",
       "      <td>0.001366</td>\n",
       "      <td>0.002180</td>\n",
       "      <td>0.000791</td>\n",
       "      <td>0.002826</td>\n",
       "      <td>0.000499</td>\n",
       "    </tr>\n",
       "    <tr>\n",
       "      <th>4</th>\n",
       "      <td>00017695ad8997eb</td>\n",
       "      <td>0.014552</td>\n",
       "      <td>0.001205</td>\n",
       "      <td>0.004068</td>\n",
       "      <td>0.000786</td>\n",
       "      <td>0.005089</td>\n",
       "      <td>0.000943</td>\n",
       "    </tr>\n",
       "    <tr>\n",
       "      <th>...</th>\n",
       "      <td>...</td>\n",
       "      <td>...</td>\n",
       "      <td>...</td>\n",
       "      <td>...</td>\n",
       "      <td>...</td>\n",
       "      <td>...</td>\n",
       "      <td>...</td>\n",
       "    </tr>\n",
       "    <tr>\n",
       "      <th>153159</th>\n",
       "      <td>fffcd0960ee309b5</td>\n",
       "      <td>0.430644</td>\n",
       "      <td>0.001503</td>\n",
       "      <td>0.056363</td>\n",
       "      <td>0.000613</td>\n",
       "      <td>0.016494</td>\n",
       "      <td>0.002180</td>\n",
       "    </tr>\n",
       "    <tr>\n",
       "      <th>153160</th>\n",
       "      <td>fffd7a9a6eb32c16</td>\n",
       "      <td>0.034720</td>\n",
       "      <td>0.003669</td>\n",
       "      <td>0.018924</td>\n",
       "      <td>0.002030</td>\n",
       "      <td>0.011400</td>\n",
       "      <td>0.009330</td>\n",
       "    </tr>\n",
       "    <tr>\n",
       "      <th>153161</th>\n",
       "      <td>fffda9e8d6fafa9e</td>\n",
       "      <td>0.003922</td>\n",
       "      <td>0.000597</td>\n",
       "      <td>0.007380</td>\n",
       "      <td>0.000366</td>\n",
       "      <td>0.002154</td>\n",
       "      <td>0.000840</td>\n",
       "    </tr>\n",
       "    <tr>\n",
       "      <th>153162</th>\n",
       "      <td>fffe8f1340a79fc2</td>\n",
       "      <td>0.011861</td>\n",
       "      <td>0.000866</td>\n",
       "      <td>0.006227</td>\n",
       "      <td>0.000630</td>\n",
       "      <td>0.006610</td>\n",
       "      <td>0.008489</td>\n",
       "    </tr>\n",
       "    <tr>\n",
       "      <th>153163</th>\n",
       "      <td>ffffce3fb183ee80</td>\n",
       "      <td>0.953572</td>\n",
       "      <td>0.001000</td>\n",
       "      <td>0.593948</td>\n",
       "      <td>0.005082</td>\n",
       "      <td>0.260496</td>\n",
       "      <td>0.004173</td>\n",
       "    </tr>\n",
       "  </tbody>\n",
       "</table>\n",
       "<p>153164 rows × 7 columns</p>\n",
       "</div>"
      ],
      "text/plain": [
       "                      id     toxic  severe_toxic   obscene    threat  \\\n",
       "0       00001cee341fdb12  0.999865      0.225789  0.999588  0.048555   \n",
       "1       0000247867823ef7  0.006069      0.001792  0.002690  0.000291   \n",
       "2       00013b17ad220c46  0.013616      0.002476  0.007248  0.000638   \n",
       "3       00017563c3f7919a  0.002728      0.001366  0.002180  0.000791   \n",
       "4       00017695ad8997eb  0.014552      0.001205  0.004068  0.000786   \n",
       "...                  ...       ...           ...       ...       ...   \n",
       "153159  fffcd0960ee309b5  0.430644      0.001503  0.056363  0.000613   \n",
       "153160  fffd7a9a6eb32c16  0.034720      0.003669  0.018924  0.002030   \n",
       "153161  fffda9e8d6fafa9e  0.003922      0.000597  0.007380  0.000366   \n",
       "153162  fffe8f1340a79fc2  0.011861      0.000866  0.006227  0.000630   \n",
       "153163  ffffce3fb183ee80  0.953572      0.001000  0.593948  0.005082   \n",
       "\n",
       "          insult  identity_hate  \n",
       "0       0.983921       0.288428  \n",
       "1       0.003977       0.002103  \n",
       "2       0.004011       0.001557  \n",
       "3       0.002826       0.000499  \n",
       "4       0.005089       0.000943  \n",
       "...          ...            ...  \n",
       "153159  0.016494       0.002180  \n",
       "153160  0.011400       0.009330  \n",
       "153161  0.002154       0.000840  \n",
       "153162  0.006610       0.008489  \n",
       "153163  0.260496       0.004173  \n",
       "\n",
       "[153164 rows x 7 columns]"
      ]
     },
     "execution_count": 92,
     "metadata": {},
     "output_type": "execute_result"
    }
   ],
   "source": [
    "submission = pd.DataFrame({'id': test['id']})\n",
    "submission['toxic'] = results['toxic']\n",
    "submission['severe_toxic'] = results['severe_toxic']\n",
    "submission['obscene'] = results['obscene']\n",
    "submission['threat'] = results['threat']\n",
    "submission['insult'] = results['insult']\n",
    "submission['identity_hate'] = results['identity_hate']\n",
    "submission"
   ]
  },
  {
   "cell_type": "code",
   "execution_count": 93,
   "metadata": {},
   "outputs": [],
   "source": [
    "# submission.to_csv('submission.csv', index=False)"
   ]
  },
  {
   "cell_type": "markdown",
   "metadata": {},
   "source": [
    "## This model did the best.\n",
    "* **Private score: 0.98038**\n",
    "* **Public score: 0.97904**"
   ]
  },
  {
   "cell_type": "markdown",
   "metadata": {},
   "source": [
    "____"
   ]
  },
  {
   "cell_type": "markdown",
   "metadata": {},
   "source": [
    "# Tfidf with Len, Prop Caps, and Num offensive words"
   ]
  },
  {
   "cell_type": "code",
   "execution_count": 114,
   "metadata": {},
   "outputs": [
    {
     "data": {
      "text/html": [
       "<div>\n",
       "<style scoped>\n",
       "    .dataframe tbody tr th:only-of-type {\n",
       "        vertical-align: middle;\n",
       "    }\n",
       "\n",
       "    .dataframe tbody tr th {\n",
       "        vertical-align: top;\n",
       "    }\n",
       "\n",
       "    .dataframe thead th {\n",
       "        text-align: right;\n",
       "    }\n",
       "</style>\n",
       "<table border=\"1\" class=\"dataframe\">\n",
       "  <thead>\n",
       "    <tr style=\"text-align: right;\">\n",
       "      <th></th>\n",
       "      <th>id</th>\n",
       "      <th>comment_text</th>\n",
       "      <th>len</th>\n",
       "      <th>caps</th>\n",
       "      <th>proportion of caps</th>\n",
       "      <th>offensive word</th>\n",
       "      <th>num offensive words</th>\n",
       "    </tr>\n",
       "  </thead>\n",
       "  <tbody>\n",
       "    <tr>\n",
       "      <th>0</th>\n",
       "      <td>00001cee341fdb12</td>\n",
       "      <td>Yo bitch Ja Rule is more succesful then youll ...</td>\n",
       "      <td>0.056914</td>\n",
       "      <td>4</td>\n",
       "      <td>0.014085</td>\n",
       "      <td>[bitch, bitch, ass, shit]</td>\n",
       "      <td>4</td>\n",
       "    </tr>\n",
       "    <tr>\n",
       "      <th>1</th>\n",
       "      <td>0000247867823ef7</td>\n",
       "      <td>From RfC   The title is fine as it is IMO</td>\n",
       "      <td>0.006012</td>\n",
       "      <td>7</td>\n",
       "      <td>0.233333</td>\n",
       "      <td>[]</td>\n",
       "      <td>0</td>\n",
       "    </tr>\n",
       "    <tr>\n",
       "      <th>2</th>\n",
       "      <td>00013b17ad220c46</td>\n",
       "      <td>Sources    Zawe Ashton on Lapland —  /</td>\n",
       "      <td>0.005611</td>\n",
       "      <td>4</td>\n",
       "      <td>0.142857</td>\n",
       "      <td>[]</td>\n",
       "      <td>0</td>\n",
       "    </tr>\n",
       "  </tbody>\n",
       "</table>\n",
       "</div>"
      ],
      "text/plain": [
       "                 id                                       comment_text  \\\n",
       "0  00001cee341fdb12  Yo bitch Ja Rule is more succesful then youll ...   \n",
       "1  0000247867823ef7          From RfC   The title is fine as it is IMO   \n",
       "2  00013b17ad220c46           Sources    Zawe Ashton on Lapland —  /     \n",
       "\n",
       "        len  caps  proportion of caps             offensive word  \\\n",
       "0  0.056914     4            0.014085  [bitch, bitch, ass, shit]   \n",
       "1  0.006012     7            0.233333                         []   \n",
       "2  0.005611     4            0.142857                         []   \n",
       "\n",
       "   num offensive words  \n",
       "0                    4  \n",
       "1                    0  \n",
       "2                    0  "
      ]
     },
     "execution_count": 114,
     "metadata": {},
     "output_type": "execute_result"
    }
   ],
   "source": [
    "testing = test.copy()\n",
    "\n",
    "# Cleaning text\n",
    "testing['comment_text'] = testing['comment_text'].str.replace(r\"[(\\.),(\\|)!:='&(\\*)(\\\")]\", \"\")\n",
    "testing['comment_text'] = testing['comment_text'].str.replace(\"\\n\", \"\")\n",
    "\n",
    "# Getting length\n",
    "testing['len'] = testing['comment_text'].apply(len) - testing['comment_text'].str.count(\" \")\n",
    "len_min = testing['len'].min()\n",
    "len_max = testing['len'].max()\n",
    "testing['len'] = (testing['len'].values - len_min) / (len_max - len_min)\n",
    "\n",
    "# Getting prop caps\n",
    "testing['caps'] = testing['comment_text'].apply(num_upper)\n",
    "testing['proportion of caps'] = testing['caps'] / testing['len']\n",
    "\n",
    "# Getting num offensive words\n",
    "testing['offensive word'] = testing['comment_text'].apply(updated_offensive_word)\n",
    "testing['num offensive words'] = testing['offensive word'].apply(len)\n",
    "\n",
    "testing.head(3)"
   ]
  },
  {
   "cell_type": "code",
   "execution_count": 115,
   "metadata": {},
   "outputs": [
    {
     "data": {
      "text/html": [
       "<div>\n",
       "<style scoped>\n",
       "    .dataframe tbody tr th:only-of-type {\n",
       "        vertical-align: middle;\n",
       "    }\n",
       "\n",
       "    .dataframe tbody tr th {\n",
       "        vertical-align: top;\n",
       "    }\n",
       "\n",
       "    .dataframe thead th {\n",
       "        text-align: right;\n",
       "    }\n",
       "</style>\n",
       "<table border=\"1\" class=\"dataframe\">\n",
       "  <thead>\n",
       "    <tr style=\"text-align: right;\">\n",
       "      <th></th>\n",
       "      <th>comment_text</th>\n",
       "      <th>len</th>\n",
       "      <th>proportion of caps</th>\n",
       "      <th>num offensive words</th>\n",
       "    </tr>\n",
       "  </thead>\n",
       "  <tbody>\n",
       "    <tr>\n",
       "      <th>0</th>\n",
       "      <td>Yo bitch Ja Rule is more succesful then youll ...</td>\n",
       "      <td>0.056914</td>\n",
       "      <td>0.014085</td>\n",
       "      <td>4</td>\n",
       "    </tr>\n",
       "    <tr>\n",
       "      <th>1</th>\n",
       "      <td>From RfC   The title is fine as it is IMO</td>\n",
       "      <td>0.006012</td>\n",
       "      <td>0.233333</td>\n",
       "      <td>0</td>\n",
       "    </tr>\n",
       "    <tr>\n",
       "      <th>2</th>\n",
       "      <td>Sources    Zawe Ashton on Lapland —  /</td>\n",
       "      <td>0.005611</td>\n",
       "      <td>0.142857</td>\n",
       "      <td>0</td>\n",
       "    </tr>\n",
       "  </tbody>\n",
       "</table>\n",
       "</div>"
      ],
      "text/plain": [
       "                                        comment_text       len  \\\n",
       "0  Yo bitch Ja Rule is more succesful then youll ...  0.056914   \n",
       "1          From RfC   The title is fine as it is IMO  0.006012   \n",
       "2           Sources    Zawe Ashton on Lapland —  /    0.005611   \n",
       "\n",
       "   proportion of caps  num offensive words  \n",
       "0            0.014085                    4  \n",
       "1            0.233333                    0  \n",
       "2            0.142857                    0  "
      ]
     },
     "execution_count": 115,
     "metadata": {},
     "output_type": "execute_result"
    }
   ],
   "source": [
    "# Accounting for division by 0 (returns NA)\n",
    "testing['proportion of caps'] = testing['proportion of caps'].fillna(0)\n",
    "\n",
    "# Removing columns not used in input\n",
    "testing = testing.drop(['id', 'caps', 'offensive word'], axis=1)\n",
    "testing.head(3)"
   ]
  },
  {
   "cell_type": "code",
   "execution_count": 116,
   "metadata": {},
   "outputs": [],
   "source": [
    "train_text = comments['comment_text']\n",
    "test_text = test['comment_text']\n",
    "text = pd.concat([train_text, test_text])\n",
    "\n",
    "# Tfidf 'word'\n",
    "word_vectorizer = TfidfVectorizer(sublinear_tf=True, strip_accents='unicode', analyzer='word', \n",
    "                                  token_pattern=r'\\w{1,}', ngram_range=(1, 1), max_features=30000)\n",
    "# Tfidf 'char'\n",
    "char_vectorizer = TfidfVectorizer(sublinear_tf=True, strip_accents='unicode', analyzer='char', \n",
    "                                  ngram_range=(1, 4), max_features=30000)\n",
    "\n",
    "vectorizer = make_union(word_vectorizer, char_vectorizer, n_jobs=2)\n",
    "vectorizer.fit(text)\n",
    "\n",
    "train_vector = vectorizer.transform(train_text)\n",
    "test_vector = vectorizer.transform(test_text)"
   ]
  },
  {
   "cell_type": "code",
   "execution_count": 117,
   "metadata": {},
   "outputs": [],
   "source": [
    "# Combining all features\n",
    "final_training = hstack([train_vector, comments_copy[['len', 'proportion of caps', 'num offensive words']]])\n",
    "final_testing = hstack([test_vector, testing[['len', 'proportion of caps', 'num offensive words']]])"
   ]
  },
  {
   "cell_type": "code",
   "execution_count": 118,
   "metadata": {},
   "outputs": [],
   "source": [
    "labels = comments.iloc[:,2:]\n",
    "\n",
    "results = {}\n",
    "for i in range(len(labels.columns)):\n",
    "    lr = LogisticRegression(random_state=42, solver='sag').fit(final_training, labels.iloc[:,i])\n",
    "    results[labels.columns[i]] = lr.predict_proba(final_testing)[:,1]"
   ]
  },
  {
   "cell_type": "code",
   "execution_count": 120,
   "metadata": {},
   "outputs": [
    {
     "data": {
      "text/html": [
       "<div>\n",
       "<style scoped>\n",
       "    .dataframe tbody tr th:only-of-type {\n",
       "        vertical-align: middle;\n",
       "    }\n",
       "\n",
       "    .dataframe tbody tr th {\n",
       "        vertical-align: top;\n",
       "    }\n",
       "\n",
       "    .dataframe thead th {\n",
       "        text-align: right;\n",
       "    }\n",
       "</style>\n",
       "<table border=\"1\" class=\"dataframe\">\n",
       "  <thead>\n",
       "    <tr style=\"text-align: right;\">\n",
       "      <th></th>\n",
       "      <th>id</th>\n",
       "      <th>toxic</th>\n",
       "      <th>severe_toxic</th>\n",
       "      <th>obscene</th>\n",
       "      <th>threat</th>\n",
       "      <th>insult</th>\n",
       "      <th>identity_hate</th>\n",
       "    </tr>\n",
       "  </thead>\n",
       "  <tbody>\n",
       "    <tr>\n",
       "      <th>0</th>\n",
       "      <td>00001cee341fdb12</td>\n",
       "      <td>0.524158</td>\n",
       "      <td>0.152419</td>\n",
       "      <td>0.194939</td>\n",
       "      <td>0.013884</td>\n",
       "      <td>0.184993</td>\n",
       "      <td>0.150563</td>\n",
       "    </tr>\n",
       "    <tr>\n",
       "      <th>1</th>\n",
       "      <td>0000247867823ef7</td>\n",
       "      <td>0.256961</td>\n",
       "      <td>0.217344</td>\n",
       "      <td>0.239548</td>\n",
       "      <td>0.222046</td>\n",
       "      <td>0.237267</td>\n",
       "      <td>0.217109</td>\n",
       "    </tr>\n",
       "    <tr>\n",
       "      <th>2</th>\n",
       "      <td>00013b17ad220c46</td>\n",
       "      <td>0.342072</td>\n",
       "      <td>0.310387</td>\n",
       "      <td>0.328310</td>\n",
       "      <td>0.313893</td>\n",
       "      <td>0.326623</td>\n",
       "      <td>0.309925</td>\n",
       "    </tr>\n",
       "    <tr>\n",
       "      <th>3</th>\n",
       "      <td>00017563c3f7919a</td>\n",
       "      <td>0.162852</td>\n",
       "      <td>0.127917</td>\n",
       "      <td>0.147757</td>\n",
       "      <td>0.134191</td>\n",
       "      <td>0.146379</td>\n",
       "      <td>0.128195</td>\n",
       "    </tr>\n",
       "    <tr>\n",
       "      <th>4</th>\n",
       "      <td>00017695ad8997eb</td>\n",
       "      <td>0.262559</td>\n",
       "      <td>0.225331</td>\n",
       "      <td>0.245938</td>\n",
       "      <td>0.231408</td>\n",
       "      <td>0.244137</td>\n",
       "      <td>0.225832</td>\n",
       "    </tr>\n",
       "    <tr>\n",
       "      <th>...</th>\n",
       "      <td>...</td>\n",
       "      <td>...</td>\n",
       "      <td>...</td>\n",
       "      <td>...</td>\n",
       "      <td>...</td>\n",
       "      <td>...</td>\n",
       "      <td>...</td>\n",
       "    </tr>\n",
       "    <tr>\n",
       "      <th>153159</th>\n",
       "      <td>fffcd0960ee309b5</td>\n",
       "      <td>0.263532</td>\n",
       "      <td>0.227010</td>\n",
       "      <td>0.247267</td>\n",
       "      <td>0.233847</td>\n",
       "      <td>0.245365</td>\n",
       "      <td>0.228032</td>\n",
       "    </tr>\n",
       "    <tr>\n",
       "      <th>153160</th>\n",
       "      <td>fffd7a9a6eb32c16</td>\n",
       "      <td>0.226635</td>\n",
       "      <td>0.191494</td>\n",
       "      <td>0.211983</td>\n",
       "      <td>0.198935</td>\n",
       "      <td>0.209994</td>\n",
       "      <td>0.192370</td>\n",
       "    </tr>\n",
       "    <tr>\n",
       "      <th>153161</th>\n",
       "      <td>fffda9e8d6fafa9e</td>\n",
       "      <td>0.182724</td>\n",
       "      <td>0.149942</td>\n",
       "      <td>0.168809</td>\n",
       "      <td>0.157466</td>\n",
       "      <td>0.167167</td>\n",
       "      <td>0.150928</td>\n",
       "    </tr>\n",
       "    <tr>\n",
       "      <th>153162</th>\n",
       "      <td>fffe8f1340a79fc2</td>\n",
       "      <td>0.177111</td>\n",
       "      <td>0.145316</td>\n",
       "      <td>0.163236</td>\n",
       "      <td>0.153567</td>\n",
       "      <td>0.161933</td>\n",
       "      <td>0.146784</td>\n",
       "    </tr>\n",
       "    <tr>\n",
       "      <th>153163</th>\n",
       "      <td>ffffce3fb183ee80</td>\n",
       "      <td>0.261315</td>\n",
       "      <td>0.152574</td>\n",
       "      <td>0.179795</td>\n",
       "      <td>0.090148</td>\n",
       "      <td>0.176483</td>\n",
       "      <td>0.152658</td>\n",
       "    </tr>\n",
       "  </tbody>\n",
       "</table>\n",
       "<p>153164 rows × 7 columns</p>\n",
       "</div>"
      ],
      "text/plain": [
       "                      id     toxic  severe_toxic   obscene    threat  \\\n",
       "0       00001cee341fdb12  0.524158      0.152419  0.194939  0.013884   \n",
       "1       0000247867823ef7  0.256961      0.217344  0.239548  0.222046   \n",
       "2       00013b17ad220c46  0.342072      0.310387  0.328310  0.313893   \n",
       "3       00017563c3f7919a  0.162852      0.127917  0.147757  0.134191   \n",
       "4       00017695ad8997eb  0.262559      0.225331  0.245938  0.231408   \n",
       "...                  ...       ...           ...       ...       ...   \n",
       "153159  fffcd0960ee309b5  0.263532      0.227010  0.247267  0.233847   \n",
       "153160  fffd7a9a6eb32c16  0.226635      0.191494  0.211983  0.198935   \n",
       "153161  fffda9e8d6fafa9e  0.182724      0.149942  0.168809  0.157466   \n",
       "153162  fffe8f1340a79fc2  0.177111      0.145316  0.163236  0.153567   \n",
       "153163  ffffce3fb183ee80  0.261315      0.152574  0.179795  0.090148   \n",
       "\n",
       "          insult  identity_hate  \n",
       "0       0.184993       0.150563  \n",
       "1       0.237267       0.217109  \n",
       "2       0.326623       0.309925  \n",
       "3       0.146379       0.128195  \n",
       "4       0.244137       0.225832  \n",
       "...          ...            ...  \n",
       "153159  0.245365       0.228032  \n",
       "153160  0.209994       0.192370  \n",
       "153161  0.167167       0.150928  \n",
       "153162  0.161933       0.146784  \n",
       "153163  0.176483       0.152658  \n",
       "\n",
       "[153164 rows x 7 columns]"
      ]
     },
     "execution_count": 120,
     "metadata": {},
     "output_type": "execute_result"
    }
   ],
   "source": [
    "submission = pd.DataFrame({'id': test['id']})\n",
    "submission['toxic'] = results['toxic']\n",
    "submission['severe_toxic'] = results['severe_toxic']\n",
    "submission['obscene'] = results['obscene']\n",
    "submission['threat'] = results['threat']\n",
    "submission['insult'] = results['insult']\n",
    "submission['identity_hate'] = results['identity_hate']\n",
    "submission"
   ]
  },
  {
   "cell_type": "code",
   "execution_count": 121,
   "metadata": {},
   "outputs": [],
   "source": [
    "# submission.to_csv('submission.csv', index=False)"
   ]
  },
  {
   "cell_type": "markdown",
   "metadata": {},
   "source": [
    "**Didn't do good: scores of 0.64833 and 0.66134. 'num offensive words' is problematic. The additional features that include \"contains 'swear_word'\" are left out because they are redundant due to the fact that these words are properly accounted for in the Tfidf portion.**"
   ]
  },
  {
   "cell_type": "markdown",
   "metadata": {},
   "source": [
    "_____"
   ]
  },
  {
   "cell_type": "markdown",
   "metadata": {},
   "source": [
    "# Final Model"
   ]
  },
  {
   "cell_type": "markdown",
   "metadata": {},
   "source": [
    "* ***The model with Tfidf analyzer='char', Tfidf analyzer='word', length of message, and proportion of capital letters in the message did the best, with a public and private score of .98.***\n",
    "* Adding the number of offensive words as a feature reduced the score to .66.\n",
    "* Features that indicated if a text contained a specific offensive word were kept out due to possible overfitting when applied with Tfidf."
   ]
  }
 ],
 "metadata": {
  "kernelspec": {
   "display_name": "Python 3",
   "language": "python",
   "name": "python3"
  },
  "language_info": {
   "codemirror_mode": {
    "name": "ipython",
    "version": 3
   },
   "file_extension": ".py",
   "mimetype": "text/x-python",
   "name": "python",
   "nbconvert_exporter": "python",
   "pygments_lexer": "ipython3",
   "version": "3.6.10"
  }
 },
 "nbformat": 4,
 "nbformat_minor": 4
}
