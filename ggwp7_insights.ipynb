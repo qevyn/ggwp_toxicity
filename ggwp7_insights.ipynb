{
  "nbformat": 4,
  "nbformat_minor": 0,
  "metadata": {
    "colab": {
      "name": "ggwp7_insights",
      "provenance": [],
      "collapsed_sections": []
    },
    "kernelspec": {
      "display_name": "Python 3",
      "name": "python3"
    }
  },
  "cells": [
    {
      "cell_type": "markdown",
      "metadata": {
        "id": "Jxbmk1P2rP8n"
      },
      "source": [
        "# Notebook 7 - Insights on Players and Toxic Behavior\n",
        "\n",
        "\n"
      ]
    },
    {
      "cell_type": "code",
      "metadata": {
        "id": "MizvCfSgCP-b"
      },
      "source": [
        "!pip install sentence-transformers"
      ],
      "execution_count": null,
      "outputs": []
    },
    {
      "cell_type": "code",
      "metadata": {
        "colab": {
          "base_uri": "https://localhost:8080/"
        },
        "id": "E0WfFIEYbkzI",
        "outputId": "cb09ef9d-2830-4e06-b179-2207e9870ba7"
      },
      "source": [
        "import numpy as np\n",
        "import pandas as pd\n",
        "import matplotlib.pyplot as plt\n",
        "from sentence_transformers import SentenceTransformer\n",
        "\n",
        "from google.colab import drive\n",
        "drive.mount('/content/gdrive')"
      ],
      "execution_count": 4,
      "outputs": [
        {
          "output_type": "stream",
          "text": [
            "Drive already mounted at /content/gdrive; to attempt to forcibly remount, call drive.mount(\"/content/gdrive\", force_remount=True).\n"
          ],
          "name": "stdout"
        }
      ]
    },
    {
      "cell_type": "code",
      "metadata": {
        "colab": {
          "base_uri": "https://localhost:8080/",
          "height": 204
        },
        "id": "GoxlYybodZCw",
        "outputId": "bd246cb1-b571-4ea3-de07-035171d6dbae"
      },
      "source": [
        "dota = pd.read_csv('gdrive/My Drive/dota_cleaned_labels.csv')\n",
        "dota.head()"
      ],
      "execution_count": 5,
      "outputs": [
        {
          "output_type": "execute_result",
          "data": {
            "text/html": [
              "<div>\n",
              "<style scoped>\n",
              "    .dataframe tbody tr th:only-of-type {\n",
              "        vertical-align: middle;\n",
              "    }\n",
              "\n",
              "    .dataframe tbody tr th {\n",
              "        vertical-align: top;\n",
              "    }\n",
              "\n",
              "    .dataframe thead th {\n",
              "        text-align: right;\n",
              "    }\n",
              "</style>\n",
              "<table border=\"1\" class=\"dataframe\">\n",
              "  <thead>\n",
              "    <tr style=\"text-align: right;\">\n",
              "      <th></th>\n",
              "      <th>match</th>\n",
              "      <th>slot</th>\n",
              "      <th>time</th>\n",
              "      <th>text</th>\n",
              "      <th>toxic</th>\n",
              "      <th>obscene</th>\n",
              "      <th>threat</th>\n",
              "      <th>insult</th>\n",
              "      <th>identity_hate</th>\n",
              "    </tr>\n",
              "  </thead>\n",
              "  <tbody>\n",
              "    <tr>\n",
              "      <th>0</th>\n",
              "      <td>0</td>\n",
              "      <td>9</td>\n",
              "      <td>1808.40822</td>\n",
              "      <td>100%</td>\n",
              "      <td>0</td>\n",
              "      <td>0</td>\n",
              "      <td>0</td>\n",
              "      <td>0</td>\n",
              "      <td>0</td>\n",
              "    </tr>\n",
              "    <tr>\n",
              "      <th>1</th>\n",
              "      <td>2</td>\n",
              "      <td>6</td>\n",
              "      <td>1238.43090</td>\n",
              "      <td>carry</td>\n",
              "      <td>0</td>\n",
              "      <td>0</td>\n",
              "      <td>0</td>\n",
              "      <td>0</td>\n",
              "      <td>0</td>\n",
              "    </tr>\n",
              "    <tr>\n",
              "      <th>2</th>\n",
              "      <td>2</td>\n",
              "      <td>0</td>\n",
              "      <td>1248.42850</td>\n",
              "      <td>yes dog</td>\n",
              "      <td>0</td>\n",
              "      <td>0</td>\n",
              "      <td>0</td>\n",
              "      <td>0</td>\n",
              "      <td>0</td>\n",
              "    </tr>\n",
              "    <tr>\n",
              "      <th>3</th>\n",
              "      <td>2</td>\n",
              "      <td>0</td>\n",
              "      <td>1559.05260</td>\n",
              "      <td>yeah</td>\n",
              "      <td>0</td>\n",
              "      <td>0</td>\n",
              "      <td>0</td>\n",
              "      <td>0</td>\n",
              "      <td>0</td>\n",
              "    </tr>\n",
              "    <tr>\n",
              "      <th>4</th>\n",
              "      <td>2</td>\n",
              "      <td>0</td>\n",
              "      <td>1563.18490</td>\n",
              "      <td>fast and furious</td>\n",
              "      <td>0</td>\n",
              "      <td>0</td>\n",
              "      <td>0</td>\n",
              "      <td>0</td>\n",
              "      <td>0</td>\n",
              "    </tr>\n",
              "  </tbody>\n",
              "</table>\n",
              "</div>"
            ],
            "text/plain": [
              "   match  slot        time  ... threat  insult  identity_hate\n",
              "0      0     9  1808.40822  ...      0       0              0\n",
              "1      2     6  1238.43090  ...      0       0              0\n",
              "2      2     0  1248.42850  ...      0       0              0\n",
              "3      2     0  1559.05260  ...      0       0              0\n",
              "4      2     0  1563.18490  ...      0       0              0\n",
              "\n",
              "[5 rows x 9 columns]"
            ]
          },
          "metadata": {
            "tags": []
          },
          "execution_count": 5
        }
      ]
    },
    {
      "cell_type": "code",
      "metadata": {
        "colab": {
          "base_uri": "https://localhost:8080/"
        },
        "id": "H2zkpvl0rRvb",
        "outputId": "900bdc83-021d-429d-b7ba-4fe9ed0ef6ec"
      },
      "source": [
        "len(dota['text'].values)"
      ],
      "execution_count": null,
      "outputs": [
        {
          "output_type": "execute_result",
          "data": {
            "text/plain": [
              "6914913"
            ]
          },
          "metadata": {
            "tags": []
          },
          "execution_count": 103
        }
      ]
    },
    {
      "cell_type": "code",
      "metadata": {
        "id": "9-tHAM4BsPNp"
      },
      "source": [
        "len(set(dota['text'].values))"
      ],
      "execution_count": null,
      "outputs": []
    },
    {
      "cell_type": "markdown",
      "metadata": {
        "id": "ENrIIh1MLeCr"
      },
      "source": [
        "## Trying three player profiles: one as non-toxic and two natural clusters within the toxic category"
      ]
    },
    {
      "cell_type": "code",
      "metadata": {
        "id": "VPiFU_xPLdRw"
      },
      "source": [
        "# Get all toxic labeled texts only, while non-toxic texts are in their own category\n",
        "general_toxic = dota[dota['toxic']==1]\n",
        "len(list(set(general_toxic['text'].str.replace(\"\\?|\\!\", \"\").str.lower().values)))"
      ],
      "execution_count": null,
      "outputs": []
    },
    {
      "cell_type": "code",
      "metadata": {
        "id": "X55HiIedLdWM"
      },
      "source": [
        "# Clustering the toxic category into two different groups\n",
        "from sklearn.cluster import KMeans\n",
        "\n",
        "embedder = SentenceTransformer('distilroberta-base-paraphrase-v1')\n",
        "corpus = list(set(general_toxic['text'].str.replace(\"\\?|\\!\", \"\").str.lower().values))\n",
        "corpus_embeddings = embedder.encode(corpus)\n",
        "\n",
        "# K-means\n",
        "num_clusters = 2\n",
        "clustering_model = KMeans(n_clusters=num_clusters)\n",
        "clustering_model.fit(corpus_embeddings)\n",
        "cluster_assignment = clustering_model.labels_\n",
        "\n",
        "clustered_sentences = [[] for i in range(num_clusters)]\n",
        "for sentence_id, cluster_id in enumerate(cluster_assignment):\n",
        "    clustered_sentences[cluster_id].append(corpus[sentence_id])\n",
        "\n",
        "for i, cluster in enumerate(clustered_sentences):\n",
        "    print(\"Cluster \", i+1)\n",
        "    print(cluster)\n",
        "    print(\"\")"
      ],
      "execution_count": null,
      "outputs": []
    },
    {
      "cell_type": "code",
      "metadata": {
        "id": "WHVoLn8MSYRq"
      },
      "source": [
        "clustered_texts = pd.DataFrame({'text': corpus, 'cluster': cluster_assignment})\n",
        "clustered_texts.head()"
      ],
      "execution_count": null,
      "outputs": []
    },
    {
      "cell_type": "code",
      "metadata": {
        "id": "EFk_LB_jLdZK"
      },
      "source": [
        "# # Saving bc clustering took a while to run\n",
        "# from google.colab import files\n",
        "\n",
        "# clustered_texts.to_csv('text_clusters.csv', index=False)\n",
        "# files.download('text_clusters.csv')"
      ],
      "execution_count": null,
      "outputs": []
    },
    {
      "cell_type": "code",
      "metadata": {
        "colab": {
          "base_uri": "https://localhost:8080/",
          "height": 204
        },
        "id": "vKCnCCmKhGQn",
        "outputId": "1c6be4f5-c5dd-4b02-8ad1-b88bf47d4438"
      },
      "source": [
        "clustered_texts = pd.read_csv('gdrive/My Drive/text_clusters.csv')\n",
        "clustered_texts.head()"
      ],
      "execution_count": 6,
      "outputs": [
        {
          "output_type": "execute_result",
          "data": {
            "text/html": [
              "<div>\n",
              "<style scoped>\n",
              "    .dataframe tbody tr th:only-of-type {\n",
              "        vertical-align: middle;\n",
              "    }\n",
              "\n",
              "    .dataframe tbody tr th {\n",
              "        vertical-align: top;\n",
              "    }\n",
              "\n",
              "    .dataframe thead th {\n",
              "        text-align: right;\n",
              "    }\n",
              "</style>\n",
              "<table border=\"1\" class=\"dataframe\">\n",
              "  <thead>\n",
              "    <tr style=\"text-align: right;\">\n",
              "      <th></th>\n",
              "      <th>text</th>\n",
              "      <th>cluster</th>\n",
              "    </tr>\n",
              "  </thead>\n",
              "  <tbody>\n",
              "    <tr>\n",
              "      <th>0</th>\n",
              "      <td>do u fuck your pillow</td>\n",
              "      <td>1</td>\n",
              "    </tr>\n",
              "    <tr>\n",
              "      <th>1</th>\n",
              "      <td>u mentally sick monkeyt</td>\n",
              "      <td>0</td>\n",
              "    </tr>\n",
              "    <tr>\n",
              "      <th>2</th>\n",
              "      <td>so shit delete dota invoker</td>\n",
              "      <td>1</td>\n",
              "    </tr>\n",
              "    <tr>\n",
              "      <th>3</th>\n",
              "      <td>still a loser</td>\n",
              "      <td>0</td>\n",
              "    </tr>\n",
              "    <tr>\n",
              "      <th>4</th>\n",
              "      <td>stop dance shit</td>\n",
              "      <td>1</td>\n",
              "    </tr>\n",
              "  </tbody>\n",
              "</table>\n",
              "</div>"
            ],
            "text/plain": [
              "                          text  cluster\n",
              "0        do u fuck your pillow        1\n",
              "1      u mentally sick monkeyt        0\n",
              "2  so shit delete dota invoker        1\n",
              "3                still a loser        0\n",
              "4              stop dance shit        1"
            ]
          },
          "metadata": {
            "tags": []
          },
          "execution_count": 6
        }
      ]
    },
    {
      "cell_type": "code",
      "metadata": {
        "id": "mnk3nP4RLdb3",
        "colab": {
          "base_uri": "https://localhost:8080/"
        },
        "outputId": "123b3aa0-448b-4898-8dcc-8523ac39266e"
      },
      "source": [
        "# Number of unique texts per cluster\n",
        "clustered_texts.groupby('cluster').size()"
      ],
      "execution_count": 7,
      "outputs": [
        {
          "output_type": "execute_result",
          "data": {
            "text/plain": [
              "cluster\n",
              "0    115266\n",
              "1    117691\n",
              "dtype: int64"
            ]
          },
          "metadata": {
            "tags": []
          },
          "execution_count": 7
        }
      ]
    },
    {
      "cell_type": "code",
      "metadata": {
        "id": "Z4uK37Sj5CMZ",
        "colab": {
          "base_uri": "https://localhost:8080/",
          "height": 204
        },
        "outputId": "c1a7281d-441d-4de5-8f66-87a2b0c45637"
      },
      "source": [
        "# Adding labels, match, slot, and time data to text and cluster assignment\n",
        "toxic_clustered = clustered_texts.merge(dota, left_on='text', right_on='text')\n",
        "toxic_clustered = toxic_clustered[['match', 'slot', 'time', 'text', 'toxic', 'obscene', 'threat', 'insult', 'identity_hate', 'cluster']]  # re-ordering\n",
        "toxic_clustered.head()"
      ],
      "execution_count": 8,
      "outputs": [
        {
          "output_type": "execute_result",
          "data": {
            "text/html": [
              "<div>\n",
              "<style scoped>\n",
              "    .dataframe tbody tr th:only-of-type {\n",
              "        vertical-align: middle;\n",
              "    }\n",
              "\n",
              "    .dataframe tbody tr th {\n",
              "        vertical-align: top;\n",
              "    }\n",
              "\n",
              "    .dataframe thead th {\n",
              "        text-align: right;\n",
              "    }\n",
              "</style>\n",
              "<table border=\"1\" class=\"dataframe\">\n",
              "  <thead>\n",
              "    <tr style=\"text-align: right;\">\n",
              "      <th></th>\n",
              "      <th>match</th>\n",
              "      <th>slot</th>\n",
              "      <th>time</th>\n",
              "      <th>text</th>\n",
              "      <th>toxic</th>\n",
              "      <th>obscene</th>\n",
              "      <th>threat</th>\n",
              "      <th>insult</th>\n",
              "      <th>identity_hate</th>\n",
              "      <th>cluster</th>\n",
              "    </tr>\n",
              "  </thead>\n",
              "  <tbody>\n",
              "    <tr>\n",
              "      <th>0</th>\n",
              "      <td>79869</td>\n",
              "      <td>4</td>\n",
              "      <td>482.81546</td>\n",
              "      <td>u mentally sick monkeyt</td>\n",
              "      <td>1</td>\n",
              "      <td>0</td>\n",
              "      <td>0</td>\n",
              "      <td>1</td>\n",
              "      <td>0</td>\n",
              "      <td>0</td>\n",
              "    </tr>\n",
              "    <tr>\n",
              "      <th>1</th>\n",
              "      <td>114076</td>\n",
              "      <td>1</td>\n",
              "      <td>1610.40675</td>\n",
              "      <td>so shit delete dota invoker</td>\n",
              "      <td>1</td>\n",
              "      <td>1</td>\n",
              "      <td>0</td>\n",
              "      <td>0</td>\n",
              "      <td>0</td>\n",
              "      <td>1</td>\n",
              "    </tr>\n",
              "    <tr>\n",
              "      <th>2</th>\n",
              "      <td>9246</td>\n",
              "      <td>8</td>\n",
              "      <td>1892.59313</td>\n",
              "      <td>still a loser</td>\n",
              "      <td>1</td>\n",
              "      <td>0</td>\n",
              "      <td>0</td>\n",
              "      <td>1</td>\n",
              "      <td>0</td>\n",
              "      <td>0</td>\n",
              "    </tr>\n",
              "    <tr>\n",
              "      <th>3</th>\n",
              "      <td>348445</td>\n",
              "      <td>7</td>\n",
              "      <td>1390.43252</td>\n",
              "      <td>still a loser</td>\n",
              "      <td>1</td>\n",
              "      <td>0</td>\n",
              "      <td>0</td>\n",
              "      <td>1</td>\n",
              "      <td>0</td>\n",
              "      <td>0</td>\n",
              "    </tr>\n",
              "    <tr>\n",
              "      <th>4</th>\n",
              "      <td>954275</td>\n",
              "      <td>5</td>\n",
              "      <td>1737.41503</td>\n",
              "      <td>still a loser</td>\n",
              "      <td>1</td>\n",
              "      <td>0</td>\n",
              "      <td>0</td>\n",
              "      <td>1</td>\n",
              "      <td>0</td>\n",
              "      <td>0</td>\n",
              "    </tr>\n",
              "  </tbody>\n",
              "</table>\n",
              "</div>"
            ],
            "text/plain": [
              "    match  slot        time  ... insult  identity_hate  cluster\n",
              "0   79869     4   482.81546  ...      1              0        0\n",
              "1  114076     1  1610.40675  ...      0              0        1\n",
              "2    9246     8  1892.59313  ...      1              0        0\n",
              "3  348445     7  1390.43252  ...      1              0        0\n",
              "4  954275     5  1737.41503  ...      1              0        0\n",
              "\n",
              "[5 rows x 10 columns]"
            ]
          },
          "metadata": {
            "tags": []
          },
          "execution_count": 8
        }
      ]
    },
    {
      "cell_type": "code",
      "metadata": {
        "id": "fbSu73aD5SdP",
        "colab": {
          "base_uri": "https://localhost:8080/"
        },
        "outputId": "2e27e540-9e3f-40d3-f96d-c3ff4411e61d"
      },
      "source": [
        "# Proportions of other labels in cluster 0 along with average time\n",
        "cluster_0 = toxic_clustered[toxic_clustered['cluster']==0]\n",
        "cluster_0 = cluster_0[cluster_0['toxic']==1]\n",
        "cluster_0[['time', 'toxic', 'obscene', 'threat', 'insult', 'identity_hate']].mean()"
      ],
      "execution_count": 9,
      "outputs": [
        {
          "output_type": "execute_result",
          "data": {
            "text/plain": [
              "time             1489.550872\n",
              "toxic               1.000000\n",
              "obscene             0.858759\n",
              "threat              0.000054\n",
              "insult              0.708355\n",
              "identity_hate       0.029114\n",
              "dtype: float64"
            ]
          },
          "metadata": {
            "tags": []
          },
          "execution_count": 9
        }
      ]
    },
    {
      "cell_type": "code",
      "metadata": {
        "id": "Ka0ZBxXfAZZ6",
        "colab": {
          "base_uri": "https://localhost:8080/"
        },
        "outputId": "02ffa66d-7c49-44f4-95ae-847a347b4aa9"
      },
      "source": [
        "# Proportions of other labels in cluster 1 along with average time\n",
        "cluster_1 = toxic_clustered[toxic_clustered['cluster']==1]\n",
        "cluster_1 = cluster_1[cluster_1['toxic']==1]\n",
        "cluster_1[['time', 'toxic', 'obscene', 'threat', 'insult', 'identity_hate']].mean()"
      ],
      "execution_count": 10,
      "outputs": [
        {
          "output_type": "execute_result",
          "data": {
            "text/plain": [
              "time             1360.388659\n",
              "toxic               1.000000\n",
              "obscene             0.803884\n",
              "threat              0.016492\n",
              "insult              0.637405\n",
              "identity_hate       0.026195\n",
              "dtype: float64"
            ]
          },
          "metadata": {
            "tags": []
          },
          "execution_count": 10
        }
      ]
    },
    {
      "cell_type": "code",
      "metadata": {
        "id": "Eqa35CwhAs6d",
        "colab": {
          "base_uri": "https://localhost:8080/"
        },
        "outputId": "9e6c31a1-0a32-4e0d-eb20-96e8b93a127e"
      },
      "source": [
        "# Cluster 0 = Name calling\n",
        "cluster_0.groupby('text').size().sort_values(ascending=False).head(20)"
      ],
      "execution_count": 11,
      "outputs": [
        {
          "output_type": "execute_result",
          "data": {
            "text/plain": [
              "text\n",
              "bitch                            3699\n",
              "idiots                           2043\n",
              "pussy                            1756\n",
              "stupid                           1632\n",
              "noob jug idiot dog ugly nigga    1052\n",
              "moron                             919\n",
              "loser                             787\n",
              "fucking noob                      741\n",
              "bitches                           695\n",
              "asshole                           689\n",
              "piece of shit                     565\n",
              "mother fucker                     545\n",
              "fuckers                           517\n",
              "motherfucker                      507\n",
              "suck it                           503\n",
              "sick                              475\n",
              "idiot team                        447\n",
              "dick                              424\n",
              "pathetic                          413\n",
              "fucking retard                    412\n",
              "dtype: int64"
            ]
          },
          "metadata": {
            "tags": []
          },
          "execution_count": 11
        }
      ]
    },
    {
      "cell_type": "code",
      "metadata": {
        "colab": {
          "base_uri": "https://localhost:8080/"
        },
        "id": "HteQ9e8NBPMA",
        "outputId": "8c044a4b-28a3-4f81-89b6-39c767a3c646"
      },
      "source": [
        "# Cluster 1 = General exclamations that express anger towards someone\n",
        "cluster_1.groupby('text').size().sort_values(ascending=False).head(20)"
      ],
      "execution_count": 12,
      "outputs": [
        {
          "output_type": "execute_result",
          "data": {
            "text/plain": [
              "text\n",
              "fuck you            4494\n",
              "fuck off            3679\n",
              "shut up             1800\n",
              "suck my dick         777\n",
              "retarded             528\n",
              "you suck             433\n",
              "fuck you             407\n",
              "go sex               365\n",
              "run bitch            363\n",
              "shut the fuck up     322\n",
              "end this shit        289\n",
              "get fucked           261\n",
              "fuck you all         238\n",
              "go fuck yourself     227\n",
              "fuck u all           218\n",
              "kill yourself        200\n",
              "i hate u             199\n",
              "i hate you           196\n",
              "shut up              195\n",
              "fuck my team         181\n",
              "dtype: int64"
            ]
          },
          "metadata": {
            "tags": []
          },
          "execution_count": 12
        }
      ]
    },
    {
      "cell_type": "markdown",
      "metadata": {
        "id": "HhiNMD37dDWy"
      },
      "source": [
        "## What kinds of clusters are made from the toxic messages?\n",
        "* **Cluster 0: Name calling** (ie. bitch, idiot, pussy, stupid, moron, loser, asshole, piece of shit)\n",
        "* **Cluster 1: Teammate-targeted offensive phrases** (ie. fuck you, fuck off, suck my dick, you suck, get fucked)\n",
        "  * Can also be described as non-name calling offensive language"
      ]
    },
    {
      "cell_type": "markdown",
      "metadata": {
        "id": "b74gb8xwqbOF"
      },
      "source": [
        "**We can say that these are two types of toxic behaviors.**"
      ]
    },
    {
      "cell_type": "markdown",
      "metadata": {
        "id": "J2UXUuJ8lBXO"
      },
      "source": [
        "## Can we say that these are also two types of toxic players?\n",
        "To determine this, means of cluster labels will be calculated for each unique player that shares a toxic message.\n",
        "* If it has a mean of 0, they are a cluster 0 player.\n",
        "* If it has a mean of 1, they are a cluster 0 player.\n",
        "* Those with a mean of .5 are both. \n",
        "  * If there are a lot of these players (if it's more of a spectrum than classification), then these clusters cannot represent types of players, only types of behavior."
      ]
    },
    {
      "cell_type": "code",
      "metadata": {
        "colab": {
          "base_uri": "https://localhost:8080/",
          "height": 312
        },
        "id": "3wLQZ39fl9so",
        "outputId": "0c3a756a-0e90-47b4-d5a3-6554c12ab2a7"
      },
      "source": [
        "print(\"Players with at at least 1 toxic message sent\")\n",
        "plt.plot(toxic_clustered.groupby(['match', 'slot']).mean()['cluster'].reset_index().groupby('cluster').size())\n",
        "plt.xlabel(\"Player's Cluster Mean\")\n",
        "plt.ylabel(\"Amount of Players\")\n",
        "plt.title(\"Amount of Players per Mean Label\");"
      ],
      "execution_count": 43,
      "outputs": [
        {
          "output_type": "stream",
          "text": [
            "Players with at at least 1 toxic message sent\n"
          ],
          "name": "stdout"
        },
        {
          "output_type": "display_data",
          "data": {
            "image/png": "[encoded data removed]",
            "text/plain": [
              "<Figure size 432x288 with 1 Axes>"
            ]
          },
          "metadata": {
            "tags": [],
            "needs_background": "light"
          }
        }
      ]
    },
    {
      "cell_type": "code",
      "metadata": {
        "colab": {
          "base_uri": "https://localhost:8080/"
        },
        "id": "d9-OHYOKpdzD",
        "outputId": "9c70ed9a-c686-4a25-8821-ef919d387107"
      },
      "source": [
        "# number of players that have sent at least 1 toxic message\n",
        "len(toxic_clustered.groupby(['match', 'slot']).mean()['cluster'].reset_index())"
      ],
      "execution_count": 40,
      "outputs": [
        {
          "output_type": "execute_result",
          "data": {
            "text/plain": [
              "262056"
            ]
          },
          "metadata": {
            "tags": []
          },
          "execution_count": 40
        }
      ]
    },
    {
      "cell_type": "code",
      "metadata": {
        "colab": {
          "base_uri": "https://localhost:8080/",
          "height": 312
        },
        "id": "UbnD5rb4nXkW",
        "outputId": "b04fcb05-a6db-401d-a3b5-bae21b664df4"
      },
      "source": [
        "print(\"Players with more than 1 toxic message sent\")\n",
        "tmp = toxic_clustered.groupby(['match', 'slot']).size() \n",
        "plt.plot(toxic_clustered.groupby(['match', 'slot']).mean()['cluster'].loc[tmp[tmp > 1].index].reset_index().groupby('cluster').size())\n",
        "plt.xlabel(\"Player's Cluster Mean\")\n",
        "plt.ylabel(\"Amount of Players\")\n",
        "plt.title(\"Amount of Players per Mean Label\");"
      ],
      "execution_count": 44,
      "outputs": [
        {
          "output_type": "stream",
          "text": [
            "Players with more than 1 toxic message sent\n"
          ],
          "name": "stdout"
        },
        {
          "output_type": "display_data",
          "data": {
            "image/png": "[encoded data removed]",
            "text/plain": [
              "<Figure size 432x288 with 1 Axes>"
            ]
          },
          "metadata": {
            "tags": [],
            "needs_background": "light"
          }
        }
      ]
    },
    {
      "cell_type": "code",
      "metadata": {
        "colab": {
          "base_uri": "https://localhost:8080/"
        },
        "id": "7mCqyANMpUmt",
        "outputId": "078060a3-1f43-426a-e368-2e0feb91012c"
      },
      "source": [
        "# number of players that have sent more than 1 toxic message\n",
        "len(toxic_clustered.groupby(['match', 'slot']).mean()['cluster'].loc[tmp[tmp > 1].index])"
      ],
      "execution_count": 39,
      "outputs": [
        {
          "output_type": "execute_result",
          "data": {
            "text/plain": [
              "58495"
            ]
          },
          "metadata": {
            "tags": []
          },
          "execution_count": 39
        }
      ]
    },
    {
      "cell_type": "code",
      "metadata": {
        "colab": {
          "base_uri": "https://localhost:8080/"
        },
        "id": "y7b-tXZQscNs",
        "outputId": "e04b33ff-0614-4069-fe81-f594911e4212"
      },
      "source": [
        "toxic_clustered.groupby(['match', 'slot']).mean()['cluster'].loc[tmp[tmp > 1].index]"
      ],
      "execution_count": 47,
      "outputs": [
        {
          "output_type": "execute_result",
          "data": {
            "text/plain": [
              "match   slot\n",
              "32      5       0.500000\n",
              "82      4       0.666667\n",
              "83      5       0.500000\n",
              "107     0       0.500000\n",
              "118     3       0.000000\n",
              "                  ...   \n",
              "999932  5       0.000000\n",
              "999943  6       0.500000\n",
              "999944  4       0.500000\n",
              "999952  5       0.285714\n",
              "999979  2       0.142857\n",
              "Name: cluster, Length: 58495, dtype: float64"
            ]
          },
          "metadata": {
            "tags": []
          },
          "execution_count": 47
        }
      ]
    },
    {
      "cell_type": "code",
      "metadata": {
        "colab": {
          "base_uri": "https://localhost:8080/",
          "height": 111
        },
        "id": "puuHujGksmgX",
        "outputId": "70cab2d0-bac6-4465-d7a1-f45b8e05a569"
      },
      "source": [
        "# An example of mean cluster = .05\n",
        "toxic_clustered[(toxic_clustered['match']==107) & (toxic_clustered['slot']==0)]"
      ],
      "execution_count": 53,
      "outputs": [
        {
          "output_type": "execute_result",
          "data": {
            "text/html": [
              "<div>\n",
              "<style scoped>\n",
              "    .dataframe tbody tr th:only-of-type {\n",
              "        vertical-align: middle;\n",
              "    }\n",
              "\n",
              "    .dataframe tbody tr th {\n",
              "        vertical-align: top;\n",
              "    }\n",
              "\n",
              "    .dataframe thead th {\n",
              "        text-align: right;\n",
              "    }\n",
              "</style>\n",
              "<table border=\"1\" class=\"dataframe\">\n",
              "  <thead>\n",
              "    <tr style=\"text-align: right;\">\n",
              "      <th></th>\n",
              "      <th>match</th>\n",
              "      <th>slot</th>\n",
              "      <th>time</th>\n",
              "      <th>text</th>\n",
              "      <th>toxic</th>\n",
              "      <th>obscene</th>\n",
              "      <th>threat</th>\n",
              "      <th>insult</th>\n",
              "      <th>identity_hate</th>\n",
              "      <th>cluster</th>\n",
              "    </tr>\n",
              "  </thead>\n",
              "  <tbody>\n",
              "    <tr>\n",
              "      <th>177001</th>\n",
              "      <td>107</td>\n",
              "      <td>0</td>\n",
              "      <td>1435.21617</td>\n",
              "      <td>bitch</td>\n",
              "      <td>1</td>\n",
              "      <td>1</td>\n",
              "      <td>0</td>\n",
              "      <td>1</td>\n",
              "      <td>0</td>\n",
              "      <td>0</td>\n",
              "    </tr>\n",
              "    <tr>\n",
              "      <th>219938</th>\n",
              "      <td>107</td>\n",
              "      <td>0</td>\n",
              "      <td>1245.26257</td>\n",
              "      <td>i fuck your mum</td>\n",
              "      <td>1</td>\n",
              "      <td>1</td>\n",
              "      <td>0</td>\n",
              "      <td>1</td>\n",
              "      <td>0</td>\n",
              "      <td>1</td>\n",
              "    </tr>\n",
              "  </tbody>\n",
              "</table>\n",
              "</div>"
            ],
            "text/plain": [
              "        match  slot        time  ... insult  identity_hate  cluster\n",
              "177001    107     0  1435.21617  ...      1              0        0\n",
              "219938    107     0  1245.26257  ...      1              0        1\n",
              "\n",
              "[2 rows x 10 columns]"
            ]
          },
          "metadata": {
            "tags": []
          },
          "execution_count": 53
        }
      ]
    },
    {
      "cell_type": "markdown",
      "metadata": {
        "id": "7eitgbmroTXN"
      },
      "source": [
        "## We can also say these are two types of players. \n",
        "* In the 1st mean label plot, the set of players are extremely dominated by cluster 0 and cluster 1 and not much inbetween.\n",
        "* The 2nd mean label plot is of players that have sent more than 1 toxic message in a match. The difference in the amount of players between these two plots is around 204,000 players. \n",
        "  * This means that a huge portion of players that send toxic messages only send it once. Since this is where the larger portion of toxic messages reside, it is arguable that plot 1 should be more important.\n",
        "\n",
        "## We can even say there are three types of players.\n",
        "* On the other hand, it is also arguable that plot 2 should be considered more important because it contains consistently toxic players.\n",
        "* **Given this, toxic players can be separated into 3 different profiles:**\n",
        "  1. **Name callers** (cluster 0: \"bitch\", \"asshole\", \"piece of shit\")\n",
        "  2. **Teammate-targeted offensive phrases / non-name callers** (cluster 1: \"fuck you\", \"suck my dick\")\n",
        "  3. **Players who offend people in both ways** (cluster .5: \"bitch\" and \"i fuck your mum\")"
      ]
    },
    {
      "cell_type": "markdown",
      "metadata": {
        "id": "S2p9G-DVtefO"
      },
      "source": [
        "## This section shows how non-toxic messages can be clustered into two.\n",
        "### Overall, the two clusters do not show and distinguishing features for non-toxic messages/players."
      ]
    },
    {
      "cell_type": "code",
      "metadata": {
        "colab": {
          "base_uri": "https://localhost:8080/"
        },
        "id": "cG3jaUGNxDFu",
        "outputId": "5a9727d6-8c32-464e-a9fd-308dc97a5338"
      },
      "source": [
        "non_toxic = dota[dota['toxic']==0]\n",
        "non_toxic['text'] = non_toxic['text'].str.lower().str.replace(\"\\?|\\!\", \"\")\n",
        "non_toxic = non_toxic.groupby('text').size().sort_values(ascending=False)"
      ],
      "execution_count": null,
      "outputs": [
        {
          "output_type": "stream",
          "text": [
            "/usr/local/lib/python3.6/dist-packages/ipykernel_launcher.py:2: SettingWithCopyWarning: \n",
            "A value is trying to be set on a copy of a slice from a DataFrame.\n",
            "Try using .loc[row_indexer,col_indexer] = value instead\n",
            "\n",
            "See the caveats in the documentation: https://pandas.pydata.org/pandas-docs/stable/user_guide/indexing.html#returning-a-view-versus-a-copy\n",
            "  \n"
          ],
          "name": "stderr"
        }
      ]
    },
    {
      "cell_type": "code",
      "metadata": {
        "colab": {
          "base_uri": "https://localhost:8080/"
        },
        "id": "L7Qx0Y8F1bZ1",
        "outputId": "216f7721-c4fa-4c12-b8a5-eca172561ba3"
      },
      "source": [
        "len(non_toxic)"
      ],
      "execution_count": null,
      "outputs": [
        {
          "output_type": "execute_result",
          "data": {
            "text/plain": [
              "2551568"
            ]
          },
          "metadata": {
            "tags": []
          },
          "execution_count": 145
        }
      ]
    },
    {
      "cell_type": "code",
      "metadata": {
        "colab": {
          "base_uri": "https://localhost:8080/"
        },
        "id": "lRyT12Y6yO5X",
        "outputId": "21a9f3b2-4208-45bf-909a-76dac8170453"
      },
      "source": [
        "non_unique_messages = non_toxic[non_toxic > 10]  # texts sent more than 10 times within 2.5 million non-toxic texts\n",
        "non_unique_messages"
      ],
      "execution_count": null,
      "outputs": [
        {
          "output_type": "execute_result",
          "data": {
            "text/plain": [
              "text\n",
              "lol                     310932\n",
              "xd                      121991\n",
              "gg wp                   117508\n",
              "ggwp                     97236\n",
              "wp                       83454\n",
              "                         ...  \n",
              "saklap                      11\n",
              "reported for feeding        11\n",
              "shir                        11\n",
              "buyback more                11\n",
              "i can't play                11\n",
              "Length: 29062, dtype: int64"
            ]
          },
          "metadata": {
            "tags": []
          },
          "execution_count": 146
        }
      ]
    },
    {
      "cell_type": "code",
      "metadata": {
        "id": "JZctQ6A70Az1"
      },
      "source": [
        "embedder = SentenceTransformer('distilroberta-base-paraphrase-v1')\n",
        "corpus = list(set(non_unique_messages.index))\n",
        "corpus_embeddings = embedder.encode(corpus)\n",
        "\n",
        "# K-means\n",
        "num_clusters = 2\n",
        "clustering_model = KMeans(n_clusters=num_clusters)\n",
        "clustering_model.fit(corpus_embeddings)\n",
        "cluster_assignment = clustering_model.labels_\n",
        "\n",
        "clustered_sentences = [[] for i in range(num_clusters)]\n",
        "for sentence_id, cluster_id in enumerate(cluster_assignment):\n",
        "    clustered_sentences[cluster_id].append(corpus[sentence_id])"
      ],
      "execution_count": null,
      "outputs": []
    },
    {
      "cell_type": "code",
      "metadata": {
        "colab": {
          "base_uri": "https://localhost:8080/",
          "height": 204
        },
        "id": "vstLI1T22R9g",
        "outputId": "a0ba74b8-5993-4d7e-ba22-7a1104be44af"
      },
      "source": [
        "nontoxic_clustered = pd.DataFrame({\"sentence\": corpus, \"cluster\": cluster_assignment})\n",
        "nontoxic_clustered.head()"
      ],
      "execution_count": null,
      "outputs": [
        {
          "output_type": "execute_result",
          "data": {
            "text/html": [
              "<div>\n",
              "<style scoped>\n",
              "    .dataframe tbody tr th:only-of-type {\n",
              "        vertical-align: middle;\n",
              "    }\n",
              "\n",
              "    .dataframe tbody tr th {\n",
              "        vertical-align: top;\n",
              "    }\n",
              "\n",
              "    .dataframe thead th {\n",
              "        text-align: right;\n",
              "    }\n",
              "</style>\n",
              "<table border=\"1\" class=\"dataframe\">\n",
              "  <thead>\n",
              "    <tr style=\"text-align: right;\">\n",
              "      <th></th>\n",
              "      <th>sentence</th>\n",
              "      <th>cluster</th>\n",
              "    </tr>\n",
              "  </thead>\n",
              "  <tbody>\n",
              "    <tr>\n",
              "      <th>0</th>\n",
              "      <td></td>\n",
              "      <td>1</td>\n",
              "    </tr>\n",
              "    <tr>\n",
              "      <th>1</th>\n",
              "      <td>this veno</td>\n",
              "      <td>1</td>\n",
              "    </tr>\n",
              "    <tr>\n",
              "      <th>2</th>\n",
              "      <td>rat dota best dota</td>\n",
              "      <td>0</td>\n",
              "    </tr>\n",
              "    <tr>\n",
              "      <th>3</th>\n",
              "      <td>run</td>\n",
              "      <td>1</td>\n",
              "    </tr>\n",
              "    <tr>\n",
              "      <th>4</th>\n",
              "      <td>a low</td>\n",
              "      <td>1</td>\n",
              "    </tr>\n",
              "  </tbody>\n",
              "</table>\n",
              "</div>"
            ],
            "text/plain": [
              "             sentence  cluster\n",
              "0                            1\n",
              "1           this veno        1\n",
              "2  rat dota best dota        0\n",
              "3                 run        1\n",
              "4               a low        1"
            ]
          },
          "metadata": {
            "tags": []
          },
          "execution_count": 151
        }
      ]
    },
    {
      "cell_type": "code",
      "metadata": {
        "colab": {
          "base_uri": "https://localhost:8080/",
          "height": 17
        },
        "id": "s_8IWKxo5o31",
        "outputId": "7816ce44-4c14-4906-ef3d-2fe6ca6cf9f5"
      },
      "source": [
        "# from google.colab import files\n",
        "\n",
        "# nontoxic_clustered.to_csv('nontoxic_text_clusters.csv', index=False)\n",
        "# files.download('nontoxic_text_clusters.csv')"
      ],
      "execution_count": null,
      "outputs": [
        {
          "output_type": "display_data",
          "data": {
            "application/javascript": [
              "\n",
              "    async function download(id, filename, size) {\n",
              "      if (!google.colab.kernel.accessAllowed) {\n",
              "        return;\n",
              "      }\n",
              "      const div = document.createElement('div');\n",
              "      const label = document.createElement('label');\n",
              "      label.textContent = `Downloading \"${filename}\": `;\n",
              "      div.appendChild(label);\n",
              "      const progress = document.createElement('progress');\n",
              "      progress.max = size;\n",
              "      div.appendChild(progress);\n",
              "      document.body.appendChild(div);\n",
              "\n",
              "      const buffers = [];\n",
              "      let downloaded = 0;\n",
              "\n",
              "      const channel = await google.colab.kernel.comms.open(id);\n",
              "      // Send a message to notify the kernel that we're ready.\n",
              "      channel.send({})\n",
              "\n",
              "      for await (const message of channel.messages) {\n",
              "        // Send a message to notify the kernel that we're ready.\n",
              "        channel.send({})\n",
              "        if (message.buffers) {\n",
              "          for (const buffer of message.buffers) {\n",
              "            buffers.push(buffer);\n",
              "            downloaded += buffer.byteLength;\n",
              "            progress.value = downloaded;\n",
              "          }\n",
              "        }\n",
              "      }\n",
              "      const blob = new Blob(buffers, {type: 'application/binary'});\n",
              "      const a = document.createElement('a');\n",
              "      a.href = window.URL.createObjectURL(blob);\n",
              "      a.download = filename;\n",
              "      div.appendChild(a);\n",
              "      a.click();\n",
              "      div.remove();\n",
              "    }\n",
              "  "
            ],
            "text/plain": [
              "<IPython.core.display.Javascript object>"
            ]
          },
          "metadata": {
            "tags": []
          }
        },
        {
          "output_type": "display_data",
          "data": {
            "application/javascript": [
              "download(\"download_f5b10a15-7505-4fe0-a9e4-9bb737c9befb\", \"nontoxic_text_clusters.csv\", 363924)"
            ],
            "text/plain": [
              "<IPython.core.display.Javascript object>"
            ]
          },
          "metadata": {
            "tags": []
          }
        }
      ]
    },
    {
      "cell_type": "code",
      "metadata": {
        "colab": {
          "base_uri": "https://localhost:8080/",
          "height": 204
        },
        "id": "se6uPb3w6Uii",
        "outputId": "8c5722b5-5cc0-4eb7-c7c9-aa48b6892269"
      },
      "source": [
        "# Adding labels, match, slot, and time info to text and cluster assignments\n",
        "nontoxic_clusters = nontoxic_clustered.merge(dota, left_on='sentence', right_on='text')\n",
        "nontoxic_clusters = nontoxic_clusters[['match', 'slot', 'time', 'text', 'toxic', 'obscene', 'threat', 'insult', 'identity_hate', 'cluster']]  # re-ordering\n",
        "nontoxic_clusters.head()"
      ],
      "execution_count": null,
      "outputs": [
        {
          "output_type": "execute_result",
          "data": {
            "text/html": [
              "<div>\n",
              "<style scoped>\n",
              "    .dataframe tbody tr th:only-of-type {\n",
              "        vertical-align: middle;\n",
              "    }\n",
              "\n",
              "    .dataframe tbody tr th {\n",
              "        vertical-align: top;\n",
              "    }\n",
              "\n",
              "    .dataframe thead th {\n",
              "        text-align: right;\n",
              "    }\n",
              "</style>\n",
              "<table border=\"1\" class=\"dataframe\">\n",
              "  <thead>\n",
              "    <tr style=\"text-align: right;\">\n",
              "      <th></th>\n",
              "      <th>match</th>\n",
              "      <th>slot</th>\n",
              "      <th>time</th>\n",
              "      <th>text</th>\n",
              "      <th>toxic</th>\n",
              "      <th>obscene</th>\n",
              "      <th>threat</th>\n",
              "      <th>insult</th>\n",
              "      <th>identity_hate</th>\n",
              "      <th>cluster</th>\n",
              "    </tr>\n",
              "  </thead>\n",
              "  <tbody>\n",
              "    <tr>\n",
              "      <th>0</th>\n",
              "      <td>38129</td>\n",
              "      <td>3</td>\n",
              "      <td>672.56914</td>\n",
              "      <td>this veno</td>\n",
              "      <td>0</td>\n",
              "      <td>0</td>\n",
              "      <td>0</td>\n",
              "      <td>0</td>\n",
              "      <td>0</td>\n",
              "      <td>1</td>\n",
              "    </tr>\n",
              "    <tr>\n",
              "      <th>1</th>\n",
              "      <td>96081</td>\n",
              "      <td>2</td>\n",
              "      <td>1942.91240</td>\n",
              "      <td>this veno</td>\n",
              "      <td>0</td>\n",
              "      <td>0</td>\n",
              "      <td>0</td>\n",
              "      <td>0</td>\n",
              "      <td>0</td>\n",
              "      <td>1</td>\n",
              "    </tr>\n",
              "    <tr>\n",
              "      <th>2</th>\n",
              "      <td>99028</td>\n",
              "      <td>9</td>\n",
              "      <td>2583.98700</td>\n",
              "      <td>this veno</td>\n",
              "      <td>0</td>\n",
              "      <td>0</td>\n",
              "      <td>0</td>\n",
              "      <td>0</td>\n",
              "      <td>0</td>\n",
              "      <td>1</td>\n",
              "    </tr>\n",
              "    <tr>\n",
              "      <th>3</th>\n",
              "      <td>122949</td>\n",
              "      <td>2</td>\n",
              "      <td>1609.74025</td>\n",
              "      <td>this veno</td>\n",
              "      <td>0</td>\n",
              "      <td>0</td>\n",
              "      <td>0</td>\n",
              "      <td>0</td>\n",
              "      <td>0</td>\n",
              "      <td>1</td>\n",
              "    </tr>\n",
              "    <tr>\n",
              "      <th>4</th>\n",
              "      <td>131570</td>\n",
              "      <td>4</td>\n",
              "      <td>2448.30150</td>\n",
              "      <td>this veno</td>\n",
              "      <td>0</td>\n",
              "      <td>0</td>\n",
              "      <td>0</td>\n",
              "      <td>0</td>\n",
              "      <td>0</td>\n",
              "      <td>1</td>\n",
              "    </tr>\n",
              "  </tbody>\n",
              "</table>\n",
              "</div>"
            ],
            "text/plain": [
              "    match  slot        time       text  ...  threat  insult  identity_hate  cluster\n",
              "0   38129     3   672.56914  this veno  ...       0       0              0        1\n",
              "1   96081     2  1942.91240  this veno  ...       0       0              0        1\n",
              "2   99028     9  2583.98700  this veno  ...       0       0              0        1\n",
              "3  122949     2  1609.74025  this veno  ...       0       0              0        1\n",
              "4  131570     4  2448.30150  this veno  ...       0       0              0        1\n",
              "\n",
              "[5 rows x 10 columns]"
            ]
          },
          "metadata": {
            "tags": []
          },
          "execution_count": 163
        }
      ]
    },
    {
      "cell_type": "code",
      "metadata": {
        "colab": {
          "base_uri": "https://localhost:8080/",
          "height": 419
        },
        "id": "TNJnk1r76CID",
        "outputId": "5e1f8e48-be33-4d32-c7ea-423bca32db5f"
      },
      "source": [
        "# non-toxic cluster 0\n",
        "cluster_0 = nontoxic_clusters[nontoxic_clusters['cluster']==0]\n",
        "cluster_0"
      ],
      "execution_count": null,
      "outputs": [
        {
          "output_type": "execute_result",
          "data": {
            "text/html": [
              "<div>\n",
              "<style scoped>\n",
              "    .dataframe tbody tr th:only-of-type {\n",
              "        vertical-align: middle;\n",
              "    }\n",
              "\n",
              "    .dataframe tbody tr th {\n",
              "        vertical-align: top;\n",
              "    }\n",
              "\n",
              "    .dataframe thead th {\n",
              "        text-align: right;\n",
              "    }\n",
              "</style>\n",
              "<table border=\"1\" class=\"dataframe\">\n",
              "  <thead>\n",
              "    <tr style=\"text-align: right;\">\n",
              "      <th></th>\n",
              "      <th>match</th>\n",
              "      <th>slot</th>\n",
              "      <th>time</th>\n",
              "      <th>text</th>\n",
              "      <th>toxic</th>\n",
              "      <th>obscene</th>\n",
              "      <th>threat</th>\n",
              "      <th>insult</th>\n",
              "      <th>identity_hate</th>\n",
              "      <th>cluster</th>\n",
              "    </tr>\n",
              "  </thead>\n",
              "  <tbody>\n",
              "    <tr>\n",
              "      <th>19</th>\n",
              "      <td>63758</td>\n",
              "      <td>0</td>\n",
              "      <td>2206.33813</td>\n",
              "      <td>rat dota best dota</td>\n",
              "      <td>0</td>\n",
              "      <td>0</td>\n",
              "      <td>0</td>\n",
              "      <td>0</td>\n",
              "      <td>0</td>\n",
              "      <td>0</td>\n",
              "    </tr>\n",
              "    <tr>\n",
              "      <th>20</th>\n",
              "      <td>71103</td>\n",
              "      <td>8</td>\n",
              "      <td>1961.95310</td>\n",
              "      <td>rat dota best dota</td>\n",
              "      <td>0</td>\n",
              "      <td>0</td>\n",
              "      <td>0</td>\n",
              "      <td>0</td>\n",
              "      <td>0</td>\n",
              "      <td>0</td>\n",
              "    </tr>\n",
              "    <tr>\n",
              "      <th>21</th>\n",
              "      <td>79360</td>\n",
              "      <td>6</td>\n",
              "      <td>3296.75110</td>\n",
              "      <td>rat dota best dota</td>\n",
              "      <td>0</td>\n",
              "      <td>0</td>\n",
              "      <td>0</td>\n",
              "      <td>0</td>\n",
              "      <td>0</td>\n",
              "      <td>0</td>\n",
              "    </tr>\n",
              "    <tr>\n",
              "      <th>22</th>\n",
              "      <td>139359</td>\n",
              "      <td>9</td>\n",
              "      <td>2845.00623</td>\n",
              "      <td>rat dota best dota</td>\n",
              "      <td>0</td>\n",
              "      <td>0</td>\n",
              "      <td>0</td>\n",
              "      <td>0</td>\n",
              "      <td>0</td>\n",
              "      <td>0</td>\n",
              "    </tr>\n",
              "    <tr>\n",
              "      <th>23</th>\n",
              "      <td>158931</td>\n",
              "      <td>0</td>\n",
              "      <td>2648.20436</td>\n",
              "      <td>rat dota best dota</td>\n",
              "      <td>0</td>\n",
              "      <td>0</td>\n",
              "      <td>0</td>\n",
              "      <td>0</td>\n",
              "      <td>0</td>\n",
              "      <td>0</td>\n",
              "    </tr>\n",
              "    <tr>\n",
              "      <th>...</th>\n",
              "      <td>...</td>\n",
              "      <td>...</td>\n",
              "      <td>...</td>\n",
              "      <td>...</td>\n",
              "      <td>...</td>\n",
              "      <td>...</td>\n",
              "      <td>...</td>\n",
              "      <td>...</td>\n",
              "      <td>...</td>\n",
              "      <td>...</td>\n",
              "    </tr>\n",
              "    <tr>\n",
              "      <th>2540443</th>\n",
              "      <td>869280</td>\n",
              "      <td>4</td>\n",
              "      <td>1573.98236</td>\n",
              "      <td>wp wp gl next</td>\n",
              "      <td>0</td>\n",
              "      <td>0</td>\n",
              "      <td>0</td>\n",
              "      <td>0</td>\n",
              "      <td>0</td>\n",
              "      <td>0</td>\n",
              "    </tr>\n",
              "    <tr>\n",
              "      <th>2540444</th>\n",
              "      <td>881645</td>\n",
              "      <td>8</td>\n",
              "      <td>3603.47888</td>\n",
              "      <td>wp wp gl next</td>\n",
              "      <td>0</td>\n",
              "      <td>0</td>\n",
              "      <td>0</td>\n",
              "      <td>0</td>\n",
              "      <td>0</td>\n",
              "      <td>0</td>\n",
              "    </tr>\n",
              "    <tr>\n",
              "      <th>2540445</th>\n",
              "      <td>922879</td>\n",
              "      <td>8</td>\n",
              "      <td>2275.22400</td>\n",
              "      <td>wp wp gl next</td>\n",
              "      <td>0</td>\n",
              "      <td>0</td>\n",
              "      <td>0</td>\n",
              "      <td>0</td>\n",
              "      <td>0</td>\n",
              "      <td>0</td>\n",
              "    </tr>\n",
              "    <tr>\n",
              "      <th>2540446</th>\n",
              "      <td>936839</td>\n",
              "      <td>0</td>\n",
              "      <td>3898.58723</td>\n",
              "      <td>wp wp gl next</td>\n",
              "      <td>0</td>\n",
              "      <td>0</td>\n",
              "      <td>0</td>\n",
              "      <td>0</td>\n",
              "      <td>0</td>\n",
              "      <td>0</td>\n",
              "    </tr>\n",
              "    <tr>\n",
              "      <th>2540447</th>\n",
              "      <td>936839</td>\n",
              "      <td>0</td>\n",
              "      <td>3982.39193</td>\n",
              "      <td>wp wp gl next</td>\n",
              "      <td>0</td>\n",
              "      <td>0</td>\n",
              "      <td>0</td>\n",
              "      <td>0</td>\n",
              "      <td>0</td>\n",
              "      <td>0</td>\n",
              "    </tr>\n",
              "  </tbody>\n",
              "</table>\n",
              "<p>831521 rows × 10 columns</p>\n",
              "</div>"
            ],
            "text/plain": [
              "          match  slot        time  ... insult  identity_hate  cluster\n",
              "19        63758     0  2206.33813  ...      0              0        0\n",
              "20        71103     8  1961.95310  ...      0              0        0\n",
              "21        79360     6  3296.75110  ...      0              0        0\n",
              "22       139359     9  2845.00623  ...      0              0        0\n",
              "23       158931     0  2648.20436  ...      0              0        0\n",
              "...         ...   ...         ...  ...    ...            ...      ...\n",
              "2540443  869280     4  1573.98236  ...      0              0        0\n",
              "2540444  881645     8  3603.47888  ...      0              0        0\n",
              "2540445  922879     8  2275.22400  ...      0              0        0\n",
              "2540446  936839     0  3898.58723  ...      0              0        0\n",
              "2540447  936839     0  3982.39193  ...      0              0        0\n",
              "\n",
              "[831521 rows x 10 columns]"
            ]
          },
          "metadata": {
            "tags": []
          },
          "execution_count": 164
        }
      ]
    },
    {
      "cell_type": "code",
      "metadata": {
        "colab": {
          "base_uri": "https://localhost:8080/",
          "height": 419
        },
        "id": "WB4P2MK36H0D",
        "outputId": "9928ef01-dda2-4aa7-c875-38b1c39b9a67"
      },
      "source": [
        "# non-toxic cluster 1\n",
        "cluster_1 = nontoxic_clusters[nontoxic_clusters['cluster']==1]\n",
        "cluster_1"
      ],
      "execution_count": null,
      "outputs": [
        {
          "output_type": "execute_result",
          "data": {
            "text/html": [
              "<div>\n",
              "<style scoped>\n",
              "    .dataframe tbody tr th:only-of-type {\n",
              "        vertical-align: middle;\n",
              "    }\n",
              "\n",
              "    .dataframe tbody tr th {\n",
              "        vertical-align: top;\n",
              "    }\n",
              "\n",
              "    .dataframe thead th {\n",
              "        text-align: right;\n",
              "    }\n",
              "</style>\n",
              "<table border=\"1\" class=\"dataframe\">\n",
              "  <thead>\n",
              "    <tr style=\"text-align: right;\">\n",
              "      <th></th>\n",
              "      <th>match</th>\n",
              "      <th>slot</th>\n",
              "      <th>time</th>\n",
              "      <th>text</th>\n",
              "      <th>toxic</th>\n",
              "      <th>obscene</th>\n",
              "      <th>threat</th>\n",
              "      <th>insult</th>\n",
              "      <th>identity_hate</th>\n",
              "      <th>cluster</th>\n",
              "    </tr>\n",
              "  </thead>\n",
              "  <tbody>\n",
              "    <tr>\n",
              "      <th>0</th>\n",
              "      <td>38129</td>\n",
              "      <td>3</td>\n",
              "      <td>672.56914</td>\n",
              "      <td>this veno</td>\n",
              "      <td>0</td>\n",
              "      <td>0</td>\n",
              "      <td>0</td>\n",
              "      <td>0</td>\n",
              "      <td>0</td>\n",
              "      <td>1</td>\n",
              "    </tr>\n",
              "    <tr>\n",
              "      <th>1</th>\n",
              "      <td>96081</td>\n",
              "      <td>2</td>\n",
              "      <td>1942.91240</td>\n",
              "      <td>this veno</td>\n",
              "      <td>0</td>\n",
              "      <td>0</td>\n",
              "      <td>0</td>\n",
              "      <td>0</td>\n",
              "      <td>0</td>\n",
              "      <td>1</td>\n",
              "    </tr>\n",
              "    <tr>\n",
              "      <th>2</th>\n",
              "      <td>99028</td>\n",
              "      <td>9</td>\n",
              "      <td>2583.98700</td>\n",
              "      <td>this veno</td>\n",
              "      <td>0</td>\n",
              "      <td>0</td>\n",
              "      <td>0</td>\n",
              "      <td>0</td>\n",
              "      <td>0</td>\n",
              "      <td>1</td>\n",
              "    </tr>\n",
              "    <tr>\n",
              "      <th>3</th>\n",
              "      <td>122949</td>\n",
              "      <td>2</td>\n",
              "      <td>1609.74025</td>\n",
              "      <td>this veno</td>\n",
              "      <td>0</td>\n",
              "      <td>0</td>\n",
              "      <td>0</td>\n",
              "      <td>0</td>\n",
              "      <td>0</td>\n",
              "      <td>1</td>\n",
              "    </tr>\n",
              "    <tr>\n",
              "      <th>4</th>\n",
              "      <td>131570</td>\n",
              "      <td>4</td>\n",
              "      <td>2448.30150</td>\n",
              "      <td>this veno</td>\n",
              "      <td>0</td>\n",
              "      <td>0</td>\n",
              "      <td>0</td>\n",
              "      <td>0</td>\n",
              "      <td>0</td>\n",
              "      <td>1</td>\n",
              "    </tr>\n",
              "    <tr>\n",
              "      <th>...</th>\n",
              "      <td>...</td>\n",
              "      <td>...</td>\n",
              "      <td>...</td>\n",
              "      <td>...</td>\n",
              "      <td>...</td>\n",
              "      <td>...</td>\n",
              "      <td>...</td>\n",
              "      <td>...</td>\n",
              "      <td>...</td>\n",
              "      <td>...</td>\n",
              "    </tr>\n",
              "    <tr>\n",
              "      <th>2540512</th>\n",
              "      <td>628980</td>\n",
              "      <td>1</td>\n",
              "      <td>881.08485</td>\n",
              "      <td>you mad bro</td>\n",
              "      <td>0</td>\n",
              "      <td>0</td>\n",
              "      <td>0</td>\n",
              "      <td>0</td>\n",
              "      <td>0</td>\n",
              "      <td>1</td>\n",
              "    </tr>\n",
              "    <tr>\n",
              "      <th>2540513</th>\n",
              "      <td>730781</td>\n",
              "      <td>9</td>\n",
              "      <td>2355.51780</td>\n",
              "      <td>you mad bro</td>\n",
              "      <td>0</td>\n",
              "      <td>0</td>\n",
              "      <td>0</td>\n",
              "      <td>0</td>\n",
              "      <td>0</td>\n",
              "      <td>1</td>\n",
              "    </tr>\n",
              "    <tr>\n",
              "      <th>2540514</th>\n",
              "      <td>752261</td>\n",
              "      <td>9</td>\n",
              "      <td>788.07428</td>\n",
              "      <td>you mad bro</td>\n",
              "      <td>0</td>\n",
              "      <td>0</td>\n",
              "      <td>0</td>\n",
              "      <td>0</td>\n",
              "      <td>0</td>\n",
              "      <td>1</td>\n",
              "    </tr>\n",
              "    <tr>\n",
              "      <th>2540515</th>\n",
              "      <td>915879</td>\n",
              "      <td>9</td>\n",
              "      <td>2147.90687</td>\n",
              "      <td>you mad bro</td>\n",
              "      <td>0</td>\n",
              "      <td>0</td>\n",
              "      <td>0</td>\n",
              "      <td>0</td>\n",
              "      <td>0</td>\n",
              "      <td>1</td>\n",
              "    </tr>\n",
              "    <tr>\n",
              "      <th>2540516</th>\n",
              "      <td>952068</td>\n",
              "      <td>6</td>\n",
              "      <td>1617.40506</td>\n",
              "      <td>you mad bro</td>\n",
              "      <td>0</td>\n",
              "      <td>0</td>\n",
              "      <td>0</td>\n",
              "      <td>0</td>\n",
              "      <td>0</td>\n",
              "      <td>1</td>\n",
              "    </tr>\n",
              "  </tbody>\n",
              "</table>\n",
              "<p>1708996 rows × 10 columns</p>\n",
              "</div>"
            ],
            "text/plain": [
              "          match  slot        time  ... insult  identity_hate  cluster\n",
              "0         38129     3   672.56914  ...      0              0        1\n",
              "1         96081     2  1942.91240  ...      0              0        1\n",
              "2         99028     9  2583.98700  ...      0              0        1\n",
              "3        122949     2  1609.74025  ...      0              0        1\n",
              "4        131570     4  2448.30150  ...      0              0        1\n",
              "...         ...   ...         ...  ...    ...            ...      ...\n",
              "2540512  628980     1   881.08485  ...      0              0        1\n",
              "2540513  730781     9  2355.51780  ...      0              0        1\n",
              "2540514  752261     9   788.07428  ...      0              0        1\n",
              "2540515  915879     9  2147.90687  ...      0              0        1\n",
              "2540516  952068     6  1617.40506  ...      0              0        1\n",
              "\n",
              "[1708996 rows x 10 columns]"
            ]
          },
          "metadata": {
            "tags": []
          },
          "execution_count": 165
        }
      ]
    },
    {
      "cell_type": "code",
      "metadata": {
        "colab": {
          "base_uri": "https://localhost:8080/"
        },
        "id": "fN1ZNBlV6keX",
        "outputId": "ec3ce615-ab19-4ed5-ccd7-a6a2972ad2c1"
      },
      "source": [
        "cluster_0.groupby('text').size().sort_values(ascending=False).head(20)"
      ],
      "execution_count": null,
      "outputs": [
        {
          "output_type": "execute_result",
          "data": {
            "text/plain": [
              "text\n",
              "gg wp       96838\n",
              "ggwp        75152\n",
              "wp          65079\n",
              "rofl        33666\n",
              "lmao        24090\n",
              "pls         21344\n",
              "ff          21207\n",
              ":(          17848\n",
              "report      15023\n",
              "commend      9068\n",
              "plz          6366\n",
              "sf           6240\n",
              "kk           5937\n",
              "gl next      5405\n",
              "reported     4922\n",
              "gg wp        4674\n",
              "end pls      4619\n",
              "bg           4483\n",
              "ggg          4378\n",
              "pudge        4293\n",
              "dtype: int64"
            ]
          },
          "metadata": {
            "tags": []
          },
          "execution_count": 168
        }
      ]
    },
    {
      "cell_type": "code",
      "metadata": {
        "colab": {
          "base_uri": "https://localhost:8080/"
        },
        "id": "ZQ3pt6QR7BrT",
        "outputId": "509d72f4-37a6-4ed3-b6e0-1436de84379c"
      },
      "source": [
        "cluster_1.groupby('text').size().sort_values(ascending=False).head(20)"
      ],
      "execution_count": null,
      "outputs": [
        {
          "output_type": "execute_result",
          "data": {
            "text/plain": [
              "text\n",
              "lol           240242\n",
              "end            52001\n",
              "wtf            35181\n",
              "ok             34115\n",
              "(              24893\n",
              "nice           19936\n",
              "noob           16261\n",
              "yes            12721\n",
              "wait           12713\n",
              "yeah           11042\n",
              "go end          9940\n",
              "go              9679\n",
              "commend me      8652\n",
              "sorry           8397\n",
              "wew             8286\n",
              "bye             7882\n",
              "please          7880\n",
              "why             7081\n",
              "dude            6852\n",
              "mid             6835\n",
              "dtype: int64"
            ]
          },
          "metadata": {
            "tags": []
          },
          "execution_count": 170
        }
      ]
    },
    {
      "cell_type": "markdown",
      "metadata": {
        "id": "msy464x-uL4T"
      },
      "source": [
        "* No apparent differences in the natural clusters of non-toxic messages/players."
      ]
    },
    {
      "cell_type": "markdown",
      "metadata": {
        "id": "zS5DbYxcaQ2p"
      },
      "source": [
        "\n",
        "_______"
      ]
    },
    {
      "cell_type": "markdown",
      "metadata": {
        "id": "77NmoYr5aUHX"
      },
      "source": [
        "# Time Segmenting"
      ]
    },
    {
      "cell_type": "code",
      "metadata": {
        "id": "kV0DQZ-G7aWe",
        "colab": {
          "base_uri": "https://localhost:8080/",
          "height": 204
        },
        "outputId": "dca3a05e-4a1c-41f2-e6fc-060969277a70"
      },
      "source": [
        "dota.head()"
      ],
      "execution_count": 54,
      "outputs": [
        {
          "output_type": "execute_result",
          "data": {
            "text/html": [
              "<div>\n",
              "<style scoped>\n",
              "    .dataframe tbody tr th:only-of-type {\n",
              "        vertical-align: middle;\n",
              "    }\n",
              "\n",
              "    .dataframe tbody tr th {\n",
              "        vertical-align: top;\n",
              "    }\n",
              "\n",
              "    .dataframe thead th {\n",
              "        text-align: right;\n",
              "    }\n",
              "</style>\n",
              "<table border=\"1\" class=\"dataframe\">\n",
              "  <thead>\n",
              "    <tr style=\"text-align: right;\">\n",
              "      <th></th>\n",
              "      <th>match</th>\n",
              "      <th>slot</th>\n",
              "      <th>time</th>\n",
              "      <th>text</th>\n",
              "      <th>toxic</th>\n",
              "      <th>obscene</th>\n",
              "      <th>threat</th>\n",
              "      <th>insult</th>\n",
              "      <th>identity_hate</th>\n",
              "    </tr>\n",
              "  </thead>\n",
              "  <tbody>\n",
              "    <tr>\n",
              "      <th>0</th>\n",
              "      <td>0</td>\n",
              "      <td>9</td>\n",
              "      <td>1808.40822</td>\n",
              "      <td>100%</td>\n",
              "      <td>0</td>\n",
              "      <td>0</td>\n",
              "      <td>0</td>\n",
              "      <td>0</td>\n",
              "      <td>0</td>\n",
              "    </tr>\n",
              "    <tr>\n",
              "      <th>1</th>\n",
              "      <td>2</td>\n",
              "      <td>6</td>\n",
              "      <td>1238.43090</td>\n",
              "      <td>carry</td>\n",
              "      <td>0</td>\n",
              "      <td>0</td>\n",
              "      <td>0</td>\n",
              "      <td>0</td>\n",
              "      <td>0</td>\n",
              "    </tr>\n",
              "    <tr>\n",
              "      <th>2</th>\n",
              "      <td>2</td>\n",
              "      <td>0</td>\n",
              "      <td>1248.42850</td>\n",
              "      <td>yes dog</td>\n",
              "      <td>0</td>\n",
              "      <td>0</td>\n",
              "      <td>0</td>\n",
              "      <td>0</td>\n",
              "      <td>0</td>\n",
              "    </tr>\n",
              "    <tr>\n",
              "      <th>3</th>\n",
              "      <td>2</td>\n",
              "      <td>0</td>\n",
              "      <td>1559.05260</td>\n",
              "      <td>yeah</td>\n",
              "      <td>0</td>\n",
              "      <td>0</td>\n",
              "      <td>0</td>\n",
              "      <td>0</td>\n",
              "      <td>0</td>\n",
              "    </tr>\n",
              "    <tr>\n",
              "      <th>4</th>\n",
              "      <td>2</td>\n",
              "      <td>0</td>\n",
              "      <td>1563.18490</td>\n",
              "      <td>fast and furious</td>\n",
              "      <td>0</td>\n",
              "      <td>0</td>\n",
              "      <td>0</td>\n",
              "      <td>0</td>\n",
              "      <td>0</td>\n",
              "    </tr>\n",
              "  </tbody>\n",
              "</table>\n",
              "</div>"
            ],
            "text/plain": [
              "   match  slot        time  ... threat  insult  identity_hate\n",
              "0      0     9  1808.40822  ...      0       0              0\n",
              "1      2     6  1238.43090  ...      0       0              0\n",
              "2      2     0  1248.42850  ...      0       0              0\n",
              "3      2     0  1559.05260  ...      0       0              0\n",
              "4      2     0  1563.18490  ...      0       0              0\n",
              "\n",
              "[5 rows x 9 columns]"
            ]
          },
          "metadata": {
            "tags": []
          },
          "execution_count": 54
        }
      ]
    },
    {
      "cell_type": "code",
      "metadata": {
        "colab": {
          "base_uri": "https://localhost:8080/"
        },
        "id": "nLDrQun1aTSp",
        "outputId": "c1b1c292-e602-4281-e10b-0be2f64af9a4"
      },
      "source": [
        "dota['time'].min(), dota['time'].max()"
      ],
      "execution_count": 55,
      "outputs": [
        {
          "output_type": "execute_result",
          "data": {
            "text/plain": [
              "(-1011.525424, 7897.6530200000025)"
            ]
          },
          "metadata": {
            "tags": []
          },
          "execution_count": 55
        }
      ]
    },
    {
      "cell_type": "code",
      "metadata": {
        "colab": {
          "base_uri": "https://localhost:8080/",
          "height": 295
        },
        "id": "glNMb50ZaY9m",
        "outputId": "6ed395d8-a0d7-475a-a3c6-0b45bf68f922"
      },
      "source": [
        "# time in minutes\n",
        "time_bin = dota.copy()\n",
        "time_bin['time'] = round(time_bin['time'] / 60)\n",
        "time_bin['time'] = time_bin['time'].apply(int)\n",
        "\n",
        "# counts of texts sent within each minute\n",
        "time_sizes = time_bin.groupby('time').size()\n",
        "plt.plot(time_sizes)\n",
        "plt.xlabel('time in game (minutes)')\n",
        "plt.ylabel('count of texts sent')\n",
        "plt.title('Texts Sent per Minute');"
      ],
      "execution_count": 56,
      "outputs": [
        {
          "output_type": "display_data",
          "data": {
            "image/png": "[encoded data removed]",
            "text/plain": [
              "<Figure size 432x288 with 1 Axes>"
            ]
          },
          "metadata": {
            "tags": [],
            "needs_background": "light"
          }
        }
      ]
    },
    {
      "cell_type": "code",
      "metadata": {
        "colab": {
          "base_uri": "https://localhost:8080/"
        },
        "id": "OgeTZx_YcQ3j",
        "outputId": "272196e1-546d-4241-b8d2-ae224455ba8a"
      },
      "source": [
        "time_sizes.sort_values(ascending=False).head(15)"
      ],
      "execution_count": 57,
      "outputs": [
        {
          "output_type": "execute_result",
          "data": {
            "text/plain": [
              "time\n",
              "-1     331069\n",
              " 0     287638\n",
              " 28    180223\n",
              " 27    179038\n",
              " 29    175873\n",
              " 26    175130\n",
              " 30    171547\n",
              " 31    171294\n",
              " 32    170176\n",
              " 25    169698\n",
              " 33    166002\n",
              " 34    161732\n",
              " 24    159821\n",
              " 23    154880\n",
              " 35    154721\n",
              "dtype: int64"
            ]
          },
          "metadata": {
            "tags": []
          },
          "execution_count": 57
        }
      ]
    },
    {
      "cell_type": "markdown",
      "metadata": {
        "id": "jou8Qc9kcmUN"
      },
      "source": [
        "* There is a huge spike in messages within -1 to 0 minutes into the game (hero selection phase).\n",
        "* Aside from that, most messages are being sent around 28-32 minutes into the game (generally mid-game)."
      ]
    },
    {
      "cell_type": "code",
      "metadata": {
        "colab": {
          "base_uri": "https://localhost:8080/",
          "height": 295
        },
        "id": "tnUmPgzriIFz",
        "outputId": "9d3a1ade-fdfd-4dca-d6b1-bdf089fec2a3"
      },
      "source": [
        "toxic_sizes = time_bin[time_bin['toxic']==1].groupby('time').size()\n",
        "obscene_sizes = time_bin[time_bin['obscene']==1].groupby('time').size()\n",
        "threat_sizes = time_bin[time_bin['threat']==1].groupby('time').size()\n",
        "insult_sizes = time_bin[time_bin['insult']==1].groupby('time').size()\n",
        "identity_sizes = time_bin[time_bin['identity_hate']==1].groupby('time').size()\n",
        "\n",
        "plt.plot(toxic_sizes, label=\"toxic\")\n",
        "plt.plot(obscene_sizes, label=\"obscene\")\n",
        "plt.plot(threat_sizes, label=\"threat\")\n",
        "plt.plot(insult_sizes, label=\"insult\")\n",
        "plt.plot(identity_sizes, label=\"indentity_hate\")\n",
        "plt.legend()\n",
        "plt.xlabel('time in game (minutes)')\n",
        "plt.ylabel('count of texts sent')\n",
        "plt.title(\"Label Across Time Comparison\");"
      ],
      "execution_count": 58,
      "outputs": [
        {
          "output_type": "display_data",
          "data": {
            "image/png": "[encoded data removed]",
            "text/plain": [
              "<Figure size 432x288 with 1 Axes>"
            ]
          },
          "metadata": {
            "tags": [],
            "needs_background": "light"
          }
        }
      ]
    },
    {
      "cell_type": "markdown",
      "metadata": {
        "id": "1jd2EjRP52xQ"
      },
      "source": [
        "## Bins of 5 Minutes"
      ]
    },
    {
      "cell_type": "code",
      "metadata": {
        "colab": {
          "base_uri": "https://localhost:8080/",
          "height": 204
        },
        "id": "MAUSuIOZiezA",
        "outputId": "80204515-6147-48db-bb64-8b52a9435e0c"
      },
      "source": [
        "time_bin.head()"
      ],
      "execution_count": 59,
      "outputs": [
        {
          "output_type": "execute_result",
          "data": {
            "text/html": [
              "<div>\n",
              "<style scoped>\n",
              "    .dataframe tbody tr th:only-of-type {\n",
              "        vertical-align: middle;\n",
              "    }\n",
              "\n",
              "    .dataframe tbody tr th {\n",
              "        vertical-align: top;\n",
              "    }\n",
              "\n",
              "    .dataframe thead th {\n",
              "        text-align: right;\n",
              "    }\n",
              "</style>\n",
              "<table border=\"1\" class=\"dataframe\">\n",
              "  <thead>\n",
              "    <tr style=\"text-align: right;\">\n",
              "      <th></th>\n",
              "      <th>match</th>\n",
              "      <th>slot</th>\n",
              "      <th>time</th>\n",
              "      <th>text</th>\n",
              "      <th>toxic</th>\n",
              "      <th>obscene</th>\n",
              "      <th>threat</th>\n",
              "      <th>insult</th>\n",
              "      <th>identity_hate</th>\n",
              "    </tr>\n",
              "  </thead>\n",
              "  <tbody>\n",
              "    <tr>\n",
              "      <th>0</th>\n",
              "      <td>0</td>\n",
              "      <td>9</td>\n",
              "      <td>30</td>\n",
              "      <td>100%</td>\n",
              "      <td>0</td>\n",
              "      <td>0</td>\n",
              "      <td>0</td>\n",
              "      <td>0</td>\n",
              "      <td>0</td>\n",
              "    </tr>\n",
              "    <tr>\n",
              "      <th>1</th>\n",
              "      <td>2</td>\n",
              "      <td>6</td>\n",
              "      <td>21</td>\n",
              "      <td>carry</td>\n",
              "      <td>0</td>\n",
              "      <td>0</td>\n",
              "      <td>0</td>\n",
              "      <td>0</td>\n",
              "      <td>0</td>\n",
              "    </tr>\n",
              "    <tr>\n",
              "      <th>2</th>\n",
              "      <td>2</td>\n",
              "      <td>0</td>\n",
              "      <td>21</td>\n",
              "      <td>yes dog</td>\n",
              "      <td>0</td>\n",
              "      <td>0</td>\n",
              "      <td>0</td>\n",
              "      <td>0</td>\n",
              "      <td>0</td>\n",
              "    </tr>\n",
              "    <tr>\n",
              "      <th>3</th>\n",
              "      <td>2</td>\n",
              "      <td>0</td>\n",
              "      <td>26</td>\n",
              "      <td>yeah</td>\n",
              "      <td>0</td>\n",
              "      <td>0</td>\n",
              "      <td>0</td>\n",
              "      <td>0</td>\n",
              "      <td>0</td>\n",
              "    </tr>\n",
              "    <tr>\n",
              "      <th>4</th>\n",
              "      <td>2</td>\n",
              "      <td>0</td>\n",
              "      <td>26</td>\n",
              "      <td>fast and furious</td>\n",
              "      <td>0</td>\n",
              "      <td>0</td>\n",
              "      <td>0</td>\n",
              "      <td>0</td>\n",
              "      <td>0</td>\n",
              "    </tr>\n",
              "  </tbody>\n",
              "</table>\n",
              "</div>"
            ],
            "text/plain": [
              "   match  slot  time              text  ...  obscene  threat  insult  identity_hate\n",
              "0      0     9    30              100%  ...        0       0       0              0\n",
              "1      2     6    21             carry  ...        0       0       0              0\n",
              "2      2     0    21           yes dog  ...        0       0       0              0\n",
              "3      2     0    26             yeah   ...        0       0       0              0\n",
              "4      2     0    26  fast and furious  ...        0       0       0              0\n",
              "\n",
              "[5 rows x 9 columns]"
            ]
          },
          "metadata": {
            "tags": []
          },
          "execution_count": 59
        }
      ]
    },
    {
      "cell_type": "code",
      "metadata": {
        "colab": {
          "base_uri": "https://localhost:8080/",
          "height": 204
        },
        "id": "D1jgxIR1ly-I",
        "outputId": "8b0e408c-6a25-4ad0-a88e-69219bd9af5a"
      },
      "source": [
        "# time in multiples of 5\n",
        "binned = time_bin.copy()\n",
        "binned['time'] = 5 * round(binned['time'] / 5)\n",
        "binned['time'] = binned['time'].astype(int)\n",
        "binned.head()"
      ],
      "execution_count": 60,
      "outputs": [
        {
          "output_type": "execute_result",
          "data": {
            "text/html": [
              "<div>\n",
              "<style scoped>\n",
              "    .dataframe tbody tr th:only-of-type {\n",
              "        vertical-align: middle;\n",
              "    }\n",
              "\n",
              "    .dataframe tbody tr th {\n",
              "        vertical-align: top;\n",
              "    }\n",
              "\n",
              "    .dataframe thead th {\n",
              "        text-align: right;\n",
              "    }\n",
              "</style>\n",
              "<table border=\"1\" class=\"dataframe\">\n",
              "  <thead>\n",
              "    <tr style=\"text-align: right;\">\n",
              "      <th></th>\n",
              "      <th>match</th>\n",
              "      <th>slot</th>\n",
              "      <th>time</th>\n",
              "      <th>text</th>\n",
              "      <th>toxic</th>\n",
              "      <th>obscene</th>\n",
              "      <th>threat</th>\n",
              "      <th>insult</th>\n",
              "      <th>identity_hate</th>\n",
              "    </tr>\n",
              "  </thead>\n",
              "  <tbody>\n",
              "    <tr>\n",
              "      <th>0</th>\n",
              "      <td>0</td>\n",
              "      <td>9</td>\n",
              "      <td>30</td>\n",
              "      <td>100%</td>\n",
              "      <td>0</td>\n",
              "      <td>0</td>\n",
              "      <td>0</td>\n",
              "      <td>0</td>\n",
              "      <td>0</td>\n",
              "    </tr>\n",
              "    <tr>\n",
              "      <th>1</th>\n",
              "      <td>2</td>\n",
              "      <td>6</td>\n",
              "      <td>20</td>\n",
              "      <td>carry</td>\n",
              "      <td>0</td>\n",
              "      <td>0</td>\n",
              "      <td>0</td>\n",
              "      <td>0</td>\n",
              "      <td>0</td>\n",
              "    </tr>\n",
              "    <tr>\n",
              "      <th>2</th>\n",
              "      <td>2</td>\n",
              "      <td>0</td>\n",
              "      <td>20</td>\n",
              "      <td>yes dog</td>\n",
              "      <td>0</td>\n",
              "      <td>0</td>\n",
              "      <td>0</td>\n",
              "      <td>0</td>\n",
              "      <td>0</td>\n",
              "    </tr>\n",
              "    <tr>\n",
              "      <th>3</th>\n",
              "      <td>2</td>\n",
              "      <td>0</td>\n",
              "      <td>25</td>\n",
              "      <td>yeah</td>\n",
              "      <td>0</td>\n",
              "      <td>0</td>\n",
              "      <td>0</td>\n",
              "      <td>0</td>\n",
              "      <td>0</td>\n",
              "    </tr>\n",
              "    <tr>\n",
              "      <th>4</th>\n",
              "      <td>2</td>\n",
              "      <td>0</td>\n",
              "      <td>25</td>\n",
              "      <td>fast and furious</td>\n",
              "      <td>0</td>\n",
              "      <td>0</td>\n",
              "      <td>0</td>\n",
              "      <td>0</td>\n",
              "      <td>0</td>\n",
              "    </tr>\n",
              "  </tbody>\n",
              "</table>\n",
              "</div>"
            ],
            "text/plain": [
              "   match  slot  time              text  ...  obscene  threat  insult  identity_hate\n",
              "0      0     9    30              100%  ...        0       0       0              0\n",
              "1      2     6    20             carry  ...        0       0       0              0\n",
              "2      2     0    20           yes dog  ...        0       0       0              0\n",
              "3      2     0    25             yeah   ...        0       0       0              0\n",
              "4      2     0    25  fast and furious  ...        0       0       0              0\n",
              "\n",
              "[5 rows x 9 columns]"
            ]
          },
          "metadata": {
            "tags": []
          },
          "execution_count": 60
        }
      ]
    },
    {
      "cell_type": "code",
      "metadata": {
        "colab": {
          "base_uri": "https://localhost:8080/",
          "height": 295
        },
        "id": "X6BYXV275QH4",
        "outputId": "9eeaf07e-a354-4819-9814-2a59d814d8ee"
      },
      "source": [
        "# count of messages sent per 5 minutes\n",
        "plt.plot(binned.groupby('time').size().index, binned.groupby('time').size().values)\n",
        "plt.xlabel('time in game (min)')\n",
        "plt.ylabel('count of texts sent')\n",
        "plt.title(\"Chat Frequency w/ Bins of 5 Minutes\");"
      ],
      "execution_count": 61,
      "outputs": [
        {
          "output_type": "display_data",
          "data": {
            "image/png": "[encoded data removed]",
            "text/plain": [
              "<Figure size 432x288 with 1 Axes>"
            ]
          },
          "metadata": {
            "tags": [],
            "needs_background": "light"
          }
        }
      ]
    },
    {
      "cell_type": "code",
      "metadata": {
        "colab": {
          "base_uri": "https://localhost:8080/",
          "height": 295
        },
        "id": "lCa9NzvtAPv5",
        "outputId": "92df6b85-9762-44c3-f9bb-a88c4703760a"
      },
      "source": [
        "plt.plot(binned[binned['toxic']==1].groupby('match').first().groupby('time').size(), label='toxic')\n",
        "plt.plot(binned[binned['threat']==1].groupby('match').first().groupby('time').size(), label='threat')\n",
        "plt.plot(binned[binned['insult']==1].groupby('match').first().groupby('time').size(), label='insult')\n",
        "plt.plot(binned[binned['identity_hate']==1].groupby('match').first().groupby('time').size(), label='identity_hate')\n",
        "plt.legend()\n",
        "plt.xlabel('time (min)')\n",
        "plt.ylabel('count')\n",
        "plt.title(\"Time the First Labeled Message Was Sent\");"
      ],
      "execution_count": 62,
      "outputs": [
        {
          "output_type": "display_data",
          "data": {
            "image/png": "[encoded data removed]",
            "text/plain": [
              "<Figure size 432x288 with 1 Axes>"
            ]
          },
          "metadata": {
            "tags": [],
            "needs_background": "light"
          }
        }
      ]
    },
    {
      "cell_type": "code",
      "metadata": {
        "colab": {
          "base_uri": "https://localhost:8080/",
          "height": 295
        },
        "id": "9QhZSzzY5VY2",
        "outputId": "fb70febc-ecd6-4ef7-cb8e-9743c17930be"
      },
      "source": [
        "# proportion of messages with the label across time\n",
        "label_means = binned.groupby('time').mean()\n",
        "plt.plot(label_means['toxic'], label='toxic')\n",
        "plt.plot(label_means['threat'], label='threat')\n",
        "plt.plot(label_means['insult'], label='insult')\n",
        "plt.plot(label_means['identity_hate'], label='identity_hate')\n",
        "plt.legend()\n",
        "plt.xlabel('time (min)')\n",
        "plt.ylabel('proportion of label')\n",
        "plt.title(\"Proportion of Labels Across Time\");"
      ],
      "execution_count": 63,
      "outputs": [
        {
          "output_type": "display_data",
          "data": {
            "image/png": "[encoded data removed]",
            "text/plain": [
              "<Figure size 432x288 with 1 Axes>"
            ]
          },
          "metadata": {
            "tags": [],
            "needs_background": "light"
          }
        }
      ]
    },
    {
      "cell_type": "code",
      "metadata": {
        "colab": {
          "base_uri": "https://localhost:8080/",
          "height": 295
        },
        "id": "sHBKF53a8wN5",
        "outputId": "b8f8be42-1613-45ab-cd2b-833e634f1f32"
      },
      "source": [
        "# avg unique number of speakers in a match across time\n",
        "num_speakers = binned.groupby(['match', 'slot', 'time']).size().reset_index()[['match', 'slot', 'time']]\n",
        "num_speakers = num_speakers.groupby(['match', 'time']).size()\n",
        "plt.plot(num_speakers.reset_index().groupby('time').mean().drop('match', axis=1)[0])\n",
        "plt.xlabel('time (min)')\n",
        "plt.ylabel('count')\n",
        "plt.title('Average Number of Unique Speakers in a Match');"
      ],
      "execution_count": 64,
      "outputs": [
        {
          "output_type": "display_data",
          "data": {
            "image/png": "[encoded data removed]",
            "text/plain": [
              "<Figure size 432x288 with 1 Axes>"
            ]
          },
          "metadata": {
            "tags": [],
            "needs_background": "light"
          }
        }
      ]
    },
    {
      "cell_type": "code",
      "metadata": {
        "colab": {
          "base_uri": "https://localhost:8080/",
          "height": 295
        },
        "id": "vWBAODJA_fXT",
        "outputId": "57a53ac9-b7bc-4639-eb4f-af8bbd3656de"
      },
      "source": [
        "# times where the last message was sent in each match \n",
        "plt.plot(binned.groupby('match').last().groupby('time').size())\n",
        "plt.xlabel('time (min)')\n",
        "plt.ylabel('count')\n",
        "plt.title(\"Time the Last Message Was Sent in a Match\");"
      ],
      "execution_count": 65,
      "outputs": [
        {
          "output_type": "display_data",
          "data": {
            "image/png": "[encoded data removed]",
            "text/plain": [
              "<Figure size 432x288 with 1 Axes>"
            ]
          },
          "metadata": {
            "tags": [],
            "needs_background": "light"
          }
        }
      ]
    },
    {
      "cell_type": "markdown",
      "metadata": {
        "id": "MvE-mqvAEKS7"
      },
      "source": [
        "* The peak above is also when a game potentially ends generally.\n",
        "  * The spike is probably the multiple \"gg\" and \"wp\"s."
      ]
    },
    {
      "cell_type": "markdown",
      "metadata": {
        "id": "dxXJeZwhEmo1"
      },
      "source": [
        "## More Complex Analysis (TF-IDF) - Game Phase Bins\n",
        "* Larger bins will be used so there is more data within each bin: Pre-game, Early game, Mid game, and Late game\n",
        "* These terms are very dependent on gameplay and do not have a set-in-stone timeframe.\n",
        "* Generally, they are... (https://www.reddit.com/r/DotA2/comments/81rjz4/when_is_early_mid_or_lategame/dv4r8q9/?utm_source=reddit&utm_medium=web2x&context=3)\n",
        "  * Pre-game: negative minutes\n",
        "  * Early game: 0-15 minutes\n",
        "  * Mid game: 16-35 minutes\n",
        "  * Late game: 36+ minutes"
      ]
    },
    {
      "cell_type": "code",
      "metadata": {
        "colab": {
          "base_uri": "https://localhost:8080/",
          "height": 204
        },
        "id": "_T_I6im4DKBn",
        "outputId": "b0f1f3cc-84a2-4886-bcc1-39b3c8d9ead6"
      },
      "source": [
        "# Binning time by pre, early, mid, and late game\n",
        "time_bin.loc[time_bin['time'] < 0, 'time'] = -1\n",
        "time_bin.loc[(time_bin['time'] >= 0) & (time_bin['time'] <= 15), 'time'] = 0\n",
        "time_bin.loc[(time_bin['time'] >= 16) & (time_bin['time'] <= 35), 'time'] = 1\n",
        "time_bin.loc[(time_bin['time'] >= 36), 'time'] = 2\n",
        "\n",
        "time_bin['time'] = time_bin['time'].astype(str)\n",
        "time_bin.loc[time_bin['time'] == '-1', 'time'] = 'pre'\n",
        "time_bin.loc[time_bin['time'] == '0', 'time'] = 'early'\n",
        "time_bin.loc[time_bin['time'] == '1', 'time'] = 'mid'\n",
        "time_bin.loc[time_bin['time'] == '2', 'time'] = 'late'\n",
        "time_bin.head()"
      ],
      "execution_count": 66,
      "outputs": [
        {
          "output_type": "execute_result",
          "data": {
            "text/html": [
              "<div>\n",
              "<style scoped>\n",
              "    .dataframe tbody tr th:only-of-type {\n",
              "        vertical-align: middle;\n",
              "    }\n",
              "\n",
              "    .dataframe tbody tr th {\n",
              "        vertical-align: top;\n",
              "    }\n",
              "\n",
              "    .dataframe thead th {\n",
              "        text-align: right;\n",
              "    }\n",
              "</style>\n",
              "<table border=\"1\" class=\"dataframe\">\n",
              "  <thead>\n",
              "    <tr style=\"text-align: right;\">\n",
              "      <th></th>\n",
              "      <th>match</th>\n",
              "      <th>slot</th>\n",
              "      <th>time</th>\n",
              "      <th>text</th>\n",
              "      <th>toxic</th>\n",
              "      <th>obscene</th>\n",
              "      <th>threat</th>\n",
              "      <th>insult</th>\n",
              "      <th>identity_hate</th>\n",
              "    </tr>\n",
              "  </thead>\n",
              "  <tbody>\n",
              "    <tr>\n",
              "      <th>0</th>\n",
              "      <td>0</td>\n",
              "      <td>9</td>\n",
              "      <td>mid</td>\n",
              "      <td>100%</td>\n",
              "      <td>0</td>\n",
              "      <td>0</td>\n",
              "      <td>0</td>\n",
              "      <td>0</td>\n",
              "      <td>0</td>\n",
              "    </tr>\n",
              "    <tr>\n",
              "      <th>1</th>\n",
              "      <td>2</td>\n",
              "      <td>6</td>\n",
              "      <td>mid</td>\n",
              "      <td>carry</td>\n",
              "      <td>0</td>\n",
              "      <td>0</td>\n",
              "      <td>0</td>\n",
              "      <td>0</td>\n",
              "      <td>0</td>\n",
              "    </tr>\n",
              "    <tr>\n",
              "      <th>2</th>\n",
              "      <td>2</td>\n",
              "      <td>0</td>\n",
              "      <td>mid</td>\n",
              "      <td>yes dog</td>\n",
              "      <td>0</td>\n",
              "      <td>0</td>\n",
              "      <td>0</td>\n",
              "      <td>0</td>\n",
              "      <td>0</td>\n",
              "    </tr>\n",
              "    <tr>\n",
              "      <th>3</th>\n",
              "      <td>2</td>\n",
              "      <td>0</td>\n",
              "      <td>mid</td>\n",
              "      <td>yeah</td>\n",
              "      <td>0</td>\n",
              "      <td>0</td>\n",
              "      <td>0</td>\n",
              "      <td>0</td>\n",
              "      <td>0</td>\n",
              "    </tr>\n",
              "    <tr>\n",
              "      <th>4</th>\n",
              "      <td>2</td>\n",
              "      <td>0</td>\n",
              "      <td>mid</td>\n",
              "      <td>fast and furious</td>\n",
              "      <td>0</td>\n",
              "      <td>0</td>\n",
              "      <td>0</td>\n",
              "      <td>0</td>\n",
              "      <td>0</td>\n",
              "    </tr>\n",
              "  </tbody>\n",
              "</table>\n",
              "</div>"
            ],
            "text/plain": [
              "   match  slot time              text  ...  obscene  threat  insult  identity_hate\n",
              "0      0     9  mid              100%  ...        0       0       0              0\n",
              "1      2     6  mid             carry  ...        0       0       0              0\n",
              "2      2     0  mid           yes dog  ...        0       0       0              0\n",
              "3      2     0  mid             yeah   ...        0       0       0              0\n",
              "4      2     0  mid  fast and furious  ...        0       0       0              0\n",
              "\n",
              "[5 rows x 9 columns]"
            ]
          },
          "metadata": {
            "tags": []
          },
          "execution_count": 66
        }
      ]
    },
    {
      "cell_type": "code",
      "metadata": {
        "colab": {
          "base_uri": "https://localhost:8080/",
          "height": 295
        },
        "id": "PHWA2Vm6JKmd",
        "outputId": "bf43b6ac-863c-4c71-9daf-480e0aa0cc18"
      },
      "source": [
        "# num rows per bin\n",
        "order = ['pre', 'early', 'mid', 'late']\n",
        "time_bin.groupby('time').size().loc[order].plot(kind='bar', rot=0)\n",
        "plt.ylabel('count of messages')\n",
        "plt.title('Number of Messages Per Game Stage');"
      ],
      "execution_count": 67,
      "outputs": [
        {
          "output_type": "display_data",
          "data": {
            "image/png": "[encoded data removed]",
            "text/plain": [
              "<Figure size 432x288 with 1 Axes>"
            ]
          },
          "metadata": {
            "tags": [],
            "needs_background": "light"
          }
        }
      ]
    },
    {
      "cell_type": "markdown",
      "metadata": {
        "id": "4I5TP0BkZPwh"
      },
      "source": [
        "## Getting the Most Prominent Words Per Phase of All Messages"
      ]
    },
    {
      "cell_type": "code",
      "metadata": {
        "id": "bRycASnUMk5f"
      },
      "source": [
        "from sklearn.feature_extraction.text import TfidfVectorizer\n",
        "\n",
        "# training on text of every phase\n",
        "tfidf = TfidfVectorizer(stop_words='english')\n",
        "corpus = list(set(time_bin['text'].values))\n",
        "\n",
        "X = tfidf.fit_transform(corpus)\n",
        "feature_names = np.array(tfidf.get_feature_names())"
      ],
      "execution_count": 68,
      "outputs": []
    },
    {
      "cell_type": "code",
      "metadata": {
        "id": "6-mjhxIoPkAd"
      },
      "source": [
        "def get_top_tf_idf_words(response, top_n=2):\n",
        "    sorted_nzs = np.argsort(response.data)[:-(top_n+1):-1]\n",
        "    return feature_names[response.indices[sorted_nzs]]\n",
        "\n",
        "# applying it to pre-game phase\n",
        "new_doc = list(set(time_bin[time_bin['time']=='pre']['text'].values))\n",
        "responses = tfidf.transform(new_doc)"
      ],
      "execution_count": 69,
      "outputs": []
    },
    {
      "cell_type": "code",
      "metadata": {
        "colab": {
          "base_uri": "https://localhost:8080/",
          "height": 280
        },
        "id": "aFD3jbsCPkEL",
        "outputId": "728528fd-4c4a-4634-a861-14c37695bca6"
      },
      "source": [
        "important_pre = [get_top_tf_idf_words(response,2) for response in responses]\n",
        "total_pre = []\n",
        "for x in important_pre:\n",
        "  for y in x:\n",
        "    total_pre.append(y)\n",
        "\n",
        "pre_words = pd.DataFrame({'imporant_words': total_pre}).groupby('imporant_words').size().sort_values(ascending=False)\n",
        "pre_words[:10].plot(kind='bar', rot=0);"
      ],
      "execution_count": 70,
      "outputs": [
        {
          "output_type": "display_data",
          "data": {
            "image/png": "[encoded data removed]",
            "text/plain": [
              "<Figure size 432x288 with 1 Axes>"
            ]
          },
          "metadata": {
            "tags": [],
            "needs_background": "light"
          }
        }
      ]
    },
    {
      "cell_type": "code",
      "metadata": {
        "colab": {
          "base_uri": "https://localhost:8080/",
          "height": 280
        },
        "id": "9HOV9iPmPj-H",
        "outputId": "7545aa57-79b3-42ee-9c0d-fa8e169f37fa"
      },
      "source": [
        "# applying it to early game phase\n",
        "new_doc = list(set(time_bin[time_bin['time']=='early']['text'].values))\n",
        "responses = tfidf.transform(new_doc)\n",
        "\n",
        "important_early = [get_top_tf_idf_words(response,2) for response in responses]\n",
        "total_early = []\n",
        "for x in important_early:\n",
        "  for y in x:\n",
        "    total_early.append(y)\n",
        "\n",
        "early_words = pd.DataFrame({'imporant_words': total_early}).groupby('imporant_words').size().sort_values(ascending=False)\n",
        "early_words[:10].plot(kind='bar', rot=0);"
      ],
      "execution_count": 71,
      "outputs": [
        {
          "output_type": "display_data",
          "data": {
            "image/png": "[encoded data removed]",
            "text/plain": [
              "<Figure size 432x288 with 1 Axes>"
            ]
          },
          "metadata": {
            "tags": [],
            "needs_background": "light"
          }
        }
      ]
    },
    {
      "cell_type": "code",
      "metadata": {
        "colab": {
          "base_uri": "https://localhost:8080/",
          "height": 280
        },
        "id": "R4LH9U9BPj33",
        "outputId": "a120faa3-df3c-4371-b8a8-9643d7fac78b"
      },
      "source": [
        "# applying it to mid game phase\n",
        "new_doc = list(set(time_bin[time_bin['time']=='mid']['text'].values))\n",
        "responses = tfidf.transform(new_doc)\n",
        "\n",
        "important_mid = [get_top_tf_idf_words(response,2) for response in responses]\n",
        "total_mid = []\n",
        "for x in important_mid:\n",
        "  for y in x:\n",
        "    total_mid.append(y)\n",
        "\n",
        "mid_words = pd.DataFrame({'imporant_words': total_mid}).groupby('imporant_words').size().sort_values(ascending=False)\n",
        "mid_words[:10].plot(kind='bar', rot=0);"
      ],
      "execution_count": 72,
      "outputs": [
        {
          "output_type": "display_data",
          "data": {
            "image/png": "[encoded data removed]",
            "text/plain": [
              "<Figure size 432x288 with 1 Axes>"
            ]
          },
          "metadata": {
            "tags": [],
            "needs_background": "light"
          }
        }
      ]
    },
    {
      "cell_type": "code",
      "metadata": {
        "colab": {
          "base_uri": "https://localhost:8080/",
          "height": 280
        },
        "id": "ij0HDoJiNtgw",
        "outputId": "b578c28b-7acb-40ae-c692-3143dbd56414"
      },
      "source": [
        "# applying it to late game phase\n",
        "new_doc = list(set(time_bin[time_bin['time']=='late']['text'].values))\n",
        "responses = tfidf.transform(new_doc)\n",
        "\n",
        "important_late = [get_top_tf_idf_words(response,2) for response in responses]\n",
        "total_late = []\n",
        "for x in important_late:\n",
        "  for y in x:\n",
        "    total_late.append(y)\n",
        "\n",
        "late_words = pd.DataFrame({'imporant_words': total_late}).groupby('imporant_words').size().sort_values(ascending=False)\n",
        "late_words[:10].plot(kind='bar', rot=0);"
      ],
      "execution_count": 73,
      "outputs": [
        {
          "output_type": "display_data",
          "data": {
            "image/png": "[encoded data removed]",
            "text/plain": [
              "<Figure size 432x288 with 1 Axes>"
            ]
          },
          "metadata": {
            "tags": [],
            "needs_background": "light"
          }
        }
      ]
    },
    {
      "cell_type": "markdown",
      "metadata": {
        "id": "4VkaHDO6ZXDs"
      },
      "source": [
        "## Most Prominent Words Per Phase of Toxic Messages"
      ]
    },
    {
      "cell_type": "code",
      "metadata": {
        "colab": {
          "base_uri": "https://localhost:8080/",
          "height": 314
        },
        "id": "RDQwgY_tOt_N",
        "outputId": "e5e3e0eb-e42a-494e-8e2a-6e3fcaffdcde"
      },
      "source": [
        "# pre toxic\n",
        "new_doc = list(set(time_bin[time_bin['time']=='pre'][time_bin['toxic']==1]['text'].values))\n",
        "responses = tfidf.transform(new_doc)\n",
        "\n",
        "important_pre = [get_top_tf_idf_words(response,2) for response in responses]\n",
        "total_pre = []\n",
        "for x in important_pre:\n",
        "  for y in x:\n",
        "    total_pre.append(y)\n",
        "\n",
        "pre_words = pd.DataFrame({'imporant_words': total_pre}).groupby('imporant_words').size().sort_values(ascending=False)\n",
        "pre_words[:10].plot(kind='bar', rot=0);"
      ],
      "execution_count": 74,
      "outputs": [
        {
          "output_type": "stream",
          "text": [
            "/usr/local/lib/python3.6/dist-packages/ipykernel_launcher.py:2: UserWarning: Boolean Series key will be reindexed to match DataFrame index.\n",
            "  \n"
          ],
          "name": "stderr"
        },
        {
          "output_type": "display_data",
          "data": {
            "image/png": "[encoded data removed]",
            "text/plain": [
              "<Figure size 432x288 with 1 Axes>"
            ]
          },
          "metadata": {
            "tags": [],
            "needs_background": "light"
          }
        }
      ]
    },
    {
      "cell_type": "code",
      "metadata": {
        "colab": {
          "base_uri": "https://localhost:8080/",
          "height": 314
        },
        "id": "uF8axuJvW72W",
        "outputId": "860fc5d4-a985-4af0-f8df-31f942fb8eb2"
      },
      "source": [
        "# early toxic\n",
        "new_doc = list(set(time_bin[time_bin['time']=='early'][time_bin['toxic']==1]['text'].values))\n",
        "responses = tfidf.transform(new_doc)\n",
        "\n",
        "important_early = [get_top_tf_idf_words(response,2) for response in responses]\n",
        "total_early = []\n",
        "for x in important_early:\n",
        "  for y in x:\n",
        "    total_early.append(y)\n",
        "\n",
        "early_words = pd.DataFrame({'imporant_words': total_early}).groupby('imporant_words').size().sort_values(ascending=False)\n",
        "early_words[:10].plot(kind='bar', rot=0);"
      ],
      "execution_count": 75,
      "outputs": [
        {
          "output_type": "stream",
          "text": [
            "/usr/local/lib/python3.6/dist-packages/ipykernel_launcher.py:2: UserWarning: Boolean Series key will be reindexed to match DataFrame index.\n",
            "  \n"
          ],
          "name": "stderr"
        },
        {
          "output_type": "display_data",
          "data": {
            "image/png": "[encoded data removed]",
            "text/plain": [
              "<Figure size 432x288 with 1 Axes>"
            ]
          },
          "metadata": {
            "tags": [],
            "needs_background": "light"
          }
        }
      ]
    },
    {
      "cell_type": "code",
      "metadata": {
        "colab": {
          "base_uri": "https://localhost:8080/",
          "height": 314
        },
        "id": "0-v_XQnwXCNT",
        "outputId": "7d1cbbf1-5994-44ff-ab33-6cf05a68ae79"
      },
      "source": [
        "# mid toxic\n",
        "new_doc = list(set(time_bin[time_bin['time']=='mid'][time_bin['toxic']==1]['text'].values))\n",
        "responses = tfidf.transform(new_doc)\n",
        "\n",
        "important_mid = [get_top_tf_idf_words(response,2) for response in responses]\n",
        "total_mid = []\n",
        "for x in important_mid:\n",
        "  for y in x:\n",
        "    total_mid.append(y)\n",
        "\n",
        "mid_words = pd.DataFrame({'imporant_words': total_mid}).groupby('imporant_words').size().sort_values(ascending=False)\n",
        "mid_words[:10].plot(kind='bar', rot=0);"
      ],
      "execution_count": 76,
      "outputs": [
        {
          "output_type": "stream",
          "text": [
            "/usr/local/lib/python3.6/dist-packages/ipykernel_launcher.py:2: UserWarning: Boolean Series key will be reindexed to match DataFrame index.\n",
            "  \n"
          ],
          "name": "stderr"
        },
        {
          "output_type": "display_data",
          "data": {
            "image/png": "[encoded data removed]",
            "text/plain": [
              "<Figure size 432x288 with 1 Axes>"
            ]
          },
          "metadata": {
            "tags": [],
            "needs_background": "light"
          }
        }
      ]
    },
    {
      "cell_type": "code",
      "metadata": {
        "colab": {
          "base_uri": "https://localhost:8080/",
          "height": 314
        },
        "id": "dviKZIGEXPmf",
        "outputId": "68063a2d-7dd6-4e1e-9a18-84f37ea68267"
      },
      "source": [
        "# late toxic\n",
        "new_doc = list(set(time_bin[time_bin['time']=='late'][time_bin['toxic']==1]['text'].values))\n",
        "responses = tfidf.transform(new_doc)\n",
        "\n",
        "important_late = [get_top_tf_idf_words(response,2) for response in responses]\n",
        "total_late = []\n",
        "for x in important_late:\n",
        "  for y in x:\n",
        "    total_late.append(y)\n",
        "\n",
        "late_words = pd.DataFrame({'imporant_words': total_late}).groupby('imporant_words').size().sort_values(ascending=False)\n",
        "late_words[:10].plot(kind='bar', rot=0);"
      ],
      "execution_count": 77,
      "outputs": [
        {
          "output_type": "stream",
          "text": [
            "/usr/local/lib/python3.6/dist-packages/ipykernel_launcher.py:2: UserWarning: Boolean Series key will be reindexed to match DataFrame index.\n",
            "  \n"
          ],
          "name": "stderr"
        },
        {
          "output_type": "display_data",
          "data": {
            "image/png": "[encoded data removed]",
            "text/plain": [
              "<Figure size 432x288 with 1 Axes>"
            ]
          },
          "metadata": {
            "tags": [],
            "needs_background": "light"
          }
        }
      ]
    },
    {
      "cell_type": "markdown",
      "metadata": {
        "id": "_VGP0TFyZpnF"
      },
      "source": [
        "## Most Prominent Words For Threat, Insult, and Identity_hate During Mid Game\n",
        "* For each of these labels, the most prominent words per phase were the same each time, so only mid will be looked at since it contains the most data."
      ]
    },
    {
      "cell_type": "code",
      "metadata": {
        "colab": {
          "base_uri": "https://localhost:8080/",
          "height": 314
        },
        "id": "Ljd1zcADYKOQ",
        "outputId": "cc7c4262-16e0-44a5-af22-6bedc50f6c9d"
      },
      "source": [
        "# mid threat\n",
        "new_doc = list(set(time_bin[time_bin['time']=='mid'][time_bin['threat']==1]['text'].values))\n",
        "responses = tfidf.transform(new_doc)\n",
        "\n",
        "important_mid = [get_top_tf_idf_words(response,2) for response in responses]\n",
        "total_mid = []\n",
        "for x in important_mid:\n",
        "  for y in x:\n",
        "    total_mid.append(y)\n",
        "\n",
        "mid_words = pd.DataFrame({'imporant_words': total_mid}).groupby('imporant_words').size().sort_values(ascending=False)\n",
        "mid_words[:10].plot(kind='bar', rot=0);"
      ],
      "execution_count": 78,
      "outputs": [
        {
          "output_type": "stream",
          "text": [
            "/usr/local/lib/python3.6/dist-packages/ipykernel_launcher.py:2: UserWarning: Boolean Series key will be reindexed to match DataFrame index.\n",
            "  \n"
          ],
          "name": "stderr"
        },
        {
          "output_type": "display_data",
          "data": {
            "image/png": "[encoded data removed]",
            "text/plain": [
              "<Figure size 432x288 with 1 Axes>"
            ]
          },
          "metadata": {
            "tags": [],
            "needs_background": "light"
          }
        }
      ]
    },
    {
      "cell_type": "code",
      "metadata": {
        "colab": {
          "base_uri": "https://localhost:8080/",
          "height": 314
        },
        "id": "omNmWQ8oYbe0",
        "outputId": "86216f7e-a8e3-4940-e3f2-f75465a4cd35"
      },
      "source": [
        "# mid insult\n",
        "new_doc = list(set(time_bin[time_bin['time']=='mid'][time_bin['insult']==1]['text'].values))\n",
        "responses = tfidf.transform(new_doc)\n",
        "\n",
        "important_mid = [get_top_tf_idf_words(response,2) for response in responses]\n",
        "total_mid = []\n",
        "for x in important_mid:\n",
        "  for y in x:\n",
        "    total_mid.append(y)\n",
        "\n",
        "mid_words = pd.DataFrame({'imporant_words': total_mid}).groupby('imporant_words').size().sort_values(ascending=False)\n",
        "mid_words[:10].plot(kind='bar', rot=0);"
      ],
      "execution_count": 79,
      "outputs": [
        {
          "output_type": "stream",
          "text": [
            "/usr/local/lib/python3.6/dist-packages/ipykernel_launcher.py:2: UserWarning: Boolean Series key will be reindexed to match DataFrame index.\n",
            "  \n"
          ],
          "name": "stderr"
        },
        {
          "output_type": "display_data",
          "data": {
            "image/png": "[encoded data removed]",
            "text/plain": [
              "<Figure size 432x288 with 1 Axes>"
            ]
          },
          "metadata": {
            "tags": [],
            "needs_background": "light"
          }
        }
      ]
    },
    {
      "cell_type": "code",
      "metadata": {
        "colab": {
          "base_uri": "https://localhost:8080/",
          "height": 369
        },
        "id": "VPnqCRtQYeHI",
        "outputId": "edf2fab8-21ae-47ca-b364-188b2b3a5383"
      },
      "source": [
        "# mid identity_hate\n",
        "new_doc = list(set(time_bin[time_bin['time']=='mid'][time_bin['identity_hate']==1]['text'].values))\n",
        "responses = tfidf.transform(new_doc)\n",
        "\n",
        "important_mid = [get_top_tf_idf_words(response,2) for response in responses]\n",
        "total_mid = []\n",
        "for x in important_mid:\n",
        "  for y in x:\n",
        "    total_mid.append(y)\n",
        "\n",
        "mid_words = pd.DataFrame({'imporant_words': total_mid}).groupby('imporant_words').size().sort_values(ascending=False)\n",
        "plt.figure(figsize=(7,5))\n",
        "mid_words[:10].plot(kind='bar', rot=0);"
      ],
      "execution_count": 80,
      "outputs": [
        {
          "output_type": "stream",
          "text": [
            "/usr/local/lib/python3.6/dist-packages/ipykernel_launcher.py:2: UserWarning: Boolean Series key will be reindexed to match DataFrame index.\n",
            "  \n"
          ],
          "name": "stderr"
        },
        {
          "output_type": "display_data",
          "data": {
            "image/png": "[encoded data removed]",
            "text/plain": [
              "<Figure size 504x360 with 1 Axes>"
            ]
          },
          "metadata": {
            "tags": [],
            "needs_background": "light"
          }
        }
      ]
    }
  ]
}